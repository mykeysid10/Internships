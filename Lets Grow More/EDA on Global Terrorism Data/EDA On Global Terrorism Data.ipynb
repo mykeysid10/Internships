{
 "cells": [
  {
   "cell_type": "markdown",
   "id": "292de936",
   "metadata": {
    "papermill": {
     "duration": 0.016715,
     "end_time": "2021-11-19T14:49:07.724738",
     "exception": false,
     "start_time": "2021-11-19T14:49:07.708023",
     "status": "completed"
    },
    "tags": []
   },
   "source": [
    "## **Aim:** Exploratory Data Analysis on Terrorism (To find out hot zone of Terrorism)\n",
    "\n",
    "\n",
    "<br>\n",
    "\n",
    "> #### **By:** Siddharth Kulkarni\n",
    "> #### **Tool used:** Tableau\n",
    "> #### **Language used:** Python\n",
    "> #### **Dataset:** https://drive.google.com/file/d/1luTU7xBvI7QAGPbQMxEHcgKUi9d6UeP_/view (Terrorism Data)"
   ]
  },
  {
   "cell_type": "markdown",
   "id": "f1b0727b",
   "metadata": {
    "papermill": {
     "duration": 0.013676,
     "end_time": "2021-11-19T14:49:07.752648",
     "exception": false,
     "start_time": "2021-11-19T14:49:07.738972",
     "status": "completed"
    },
    "tags": []
   },
   "source": [
    "## Loading Libraries & Importing Dataset"
   ]
  },
  {
   "cell_type": "code",
   "execution_count": 1,
   "id": "a95a0121",
   "metadata": {
    "_kg_hide-output": true,
    "execution": {
     "iopub.execute_input": "2021-11-19T14:49:07.798387Z",
     "iopub.status.busy": "2021-11-19T14:49:07.797224Z",
     "iopub.status.idle": "2021-11-19T14:49:21.992379Z",
     "shell.execute_reply": "2021-11-19T14:49:21.991505Z",
     "shell.execute_reply.started": "2021-11-19T14:34:52.118947Z"
    },
    "papermill": {
     "duration": 14.226023,
     "end_time": "2021-11-19T14:49:21.992562",
     "exception": false,
     "start_time": "2021-11-19T14:49:07.766539",
     "status": "completed"
    },
    "tags": []
   },
   "outputs": [
    {
     "name": "stdout",
     "output_type": "stream",
     "text": [
      "Collecting openpyxl\r\n",
      "  Downloading openpyxl-3.0.9-py2.py3-none-any.whl (242 kB)\r\n",
      "\u001b[K     |████████████████████████████████| 242 kB 295 kB/s \r\n",
      "\u001b[?25hCollecting et-xmlfile\r\n",
      "  Downloading et_xmlfile-1.1.0-py3-none-any.whl (4.7 kB)\r\n",
      "Installing collected packages: et-xmlfile, openpyxl\r\n",
      "Successfully installed et-xmlfile-1.1.0 openpyxl-3.0.9\r\n",
      "\u001b[33mWARNING: Running pip as the 'root' user can result in broken permissions and conflicting behaviour with the system package manager. It is recommended to use a virtual environment instead: https://pip.pypa.io/warnings/venv\u001b[0m\r\n"
     ]
    }
   ],
   "source": [
    "! pip install openpyxl\n",
    "import pandas as pd\n",
    "import missingno as msno\n",
    "%matplotlib inline"
   ]
  },
  {
   "cell_type": "code",
   "execution_count": 2,
   "id": "48f4e5b8",
   "metadata": {
    "execution": {
     "iopub.execute_input": "2021-11-19T14:49:22.035874Z",
     "iopub.status.busy": "2021-11-19T14:49:22.035113Z",
     "iopub.status.idle": "2021-11-19T14:49:27.377368Z",
     "shell.execute_reply": "2021-11-19T14:49:27.376694Z",
     "shell.execute_reply.started": "2021-11-19T14:35:03.383513Z"
    },
    "papermill": {
     "duration": 5.366099,
     "end_time": "2021-11-19T14:49:27.377516",
     "exception": false,
     "start_time": "2021-11-19T14:49:22.011417",
     "status": "completed"
    },
    "tags": []
   },
   "outputs": [
    {
     "name": "stderr",
     "output_type": "stream",
     "text": [
      "/opt/conda/lib/python3.7/site-packages/IPython/core/interactiveshell.py:3441: DtypeWarning: Columns (4,6,31,33,61,62,63,76,79,90,92,94,96,114,115,121) have mixed types.Specify dtype option on import or set low_memory=False.\n",
      "  exec(code_obj, self.user_global_ns, self.user_ns)\n"
     ]
    },
    {
     "data": {
      "text/html": [
       "<div>\n",
       "<style scoped>\n",
       "    .dataframe tbody tr th:only-of-type {\n",
       "        vertical-align: middle;\n",
       "    }\n",
       "\n",
       "    .dataframe tbody tr th {\n",
       "        vertical-align: top;\n",
       "    }\n",
       "\n",
       "    .dataframe thead th {\n",
       "        text-align: right;\n",
       "    }\n",
       "</style>\n",
       "<table border=\"1\" class=\"dataframe\">\n",
       "  <thead>\n",
       "    <tr style=\"text-align: right;\">\n",
       "      <th></th>\n",
       "      <th>eventid</th>\n",
       "      <th>iyear</th>\n",
       "      <th>imonth</th>\n",
       "      <th>iday</th>\n",
       "      <th>approxdate</th>\n",
       "      <th>extended</th>\n",
       "      <th>resolution</th>\n",
       "      <th>country</th>\n",
       "      <th>country_txt</th>\n",
       "      <th>region</th>\n",
       "      <th>...</th>\n",
       "      <th>addnotes</th>\n",
       "      <th>scite1</th>\n",
       "      <th>scite2</th>\n",
       "      <th>scite3</th>\n",
       "      <th>dbsource</th>\n",
       "      <th>INT_LOG</th>\n",
       "      <th>INT_IDEO</th>\n",
       "      <th>INT_MISC</th>\n",
       "      <th>INT_ANY</th>\n",
       "      <th>related</th>\n",
       "    </tr>\n",
       "  </thead>\n",
       "  <tbody>\n",
       "    <tr>\n",
       "      <th>181686</th>\n",
       "      <td>201712310022</td>\n",
       "      <td>2017</td>\n",
       "      <td>12</td>\n",
       "      <td>31</td>\n",
       "      <td>NaN</td>\n",
       "      <td>0</td>\n",
       "      <td>NaN</td>\n",
       "      <td>182</td>\n",
       "      <td>Somalia</td>\n",
       "      <td>11</td>\n",
       "      <td>...</td>\n",
       "      <td>NaN</td>\n",
       "      <td>\"Somalia: Al-Shabaab Militants Attack Army Che...</td>\n",
       "      <td>\"Highlights: Somalia Daily Media Highlights 2 ...</td>\n",
       "      <td>\"Highlights: Somalia Daily Media Highlights 1 ...</td>\n",
       "      <td>START Primary Collection</td>\n",
       "      <td>0</td>\n",
       "      <td>0</td>\n",
       "      <td>0</td>\n",
       "      <td>0</td>\n",
       "      <td>NaN</td>\n",
       "    </tr>\n",
       "    <tr>\n",
       "      <th>181687</th>\n",
       "      <td>201712310029</td>\n",
       "      <td>2017</td>\n",
       "      <td>12</td>\n",
       "      <td>31</td>\n",
       "      <td>NaN</td>\n",
       "      <td>0</td>\n",
       "      <td>NaN</td>\n",
       "      <td>200</td>\n",
       "      <td>Syria</td>\n",
       "      <td>10</td>\n",
       "      <td>...</td>\n",
       "      <td>NaN</td>\n",
       "      <td>\"Putin's 'victory' in Syria has turned into a ...</td>\n",
       "      <td>\"Two Russian soldiers killed at Hmeymim base i...</td>\n",
       "      <td>\"Two Russian servicemen killed in Syria mortar...</td>\n",
       "      <td>START Primary Collection</td>\n",
       "      <td>-9</td>\n",
       "      <td>-9</td>\n",
       "      <td>1</td>\n",
       "      <td>1</td>\n",
       "      <td>NaN</td>\n",
       "    </tr>\n",
       "    <tr>\n",
       "      <th>181688</th>\n",
       "      <td>201712310030</td>\n",
       "      <td>2017</td>\n",
       "      <td>12</td>\n",
       "      <td>31</td>\n",
       "      <td>NaN</td>\n",
       "      <td>0</td>\n",
       "      <td>NaN</td>\n",
       "      <td>160</td>\n",
       "      <td>Philippines</td>\n",
       "      <td>5</td>\n",
       "      <td>...</td>\n",
       "      <td>NaN</td>\n",
       "      <td>\"Maguindanao clashes trap tribe members,\" Phil...</td>\n",
       "      <td>NaN</td>\n",
       "      <td>NaN</td>\n",
       "      <td>START Primary Collection</td>\n",
       "      <td>0</td>\n",
       "      <td>0</td>\n",
       "      <td>0</td>\n",
       "      <td>0</td>\n",
       "      <td>NaN</td>\n",
       "    </tr>\n",
       "    <tr>\n",
       "      <th>181689</th>\n",
       "      <td>201712310031</td>\n",
       "      <td>2017</td>\n",
       "      <td>12</td>\n",
       "      <td>31</td>\n",
       "      <td>NaN</td>\n",
       "      <td>0</td>\n",
       "      <td>NaN</td>\n",
       "      <td>92</td>\n",
       "      <td>India</td>\n",
       "      <td>6</td>\n",
       "      <td>...</td>\n",
       "      <td>NaN</td>\n",
       "      <td>\"Trader escapes grenade attack in Imphal,\" Bus...</td>\n",
       "      <td>NaN</td>\n",
       "      <td>NaN</td>\n",
       "      <td>START Primary Collection</td>\n",
       "      <td>-9</td>\n",
       "      <td>-9</td>\n",
       "      <td>0</td>\n",
       "      <td>-9</td>\n",
       "      <td>NaN</td>\n",
       "    </tr>\n",
       "    <tr>\n",
       "      <th>181690</th>\n",
       "      <td>201712310032</td>\n",
       "      <td>2017</td>\n",
       "      <td>12</td>\n",
       "      <td>31</td>\n",
       "      <td>NaN</td>\n",
       "      <td>0</td>\n",
       "      <td>NaN</td>\n",
       "      <td>160</td>\n",
       "      <td>Philippines</td>\n",
       "      <td>5</td>\n",
       "      <td>...</td>\n",
       "      <td>NaN</td>\n",
       "      <td>\"Security tightened in Cotabato following IED ...</td>\n",
       "      <td>\"Security tightened in Cotabato City,\" Manila ...</td>\n",
       "      <td>NaN</td>\n",
       "      <td>START Primary Collection</td>\n",
       "      <td>-9</td>\n",
       "      <td>-9</td>\n",
       "      <td>0</td>\n",
       "      <td>-9</td>\n",
       "      <td>NaN</td>\n",
       "    </tr>\n",
       "  </tbody>\n",
       "</table>\n",
       "<p>5 rows × 135 columns</p>\n",
       "</div>"
      ],
      "text/plain": [
       "             eventid  iyear  imonth  iday approxdate  extended resolution  \\\n",
       "181686  201712310022   2017      12    31        NaN         0        NaN   \n",
       "181687  201712310029   2017      12    31        NaN         0        NaN   \n",
       "181688  201712310030   2017      12    31        NaN         0        NaN   \n",
       "181689  201712310031   2017      12    31        NaN         0        NaN   \n",
       "181690  201712310032   2017      12    31        NaN         0        NaN   \n",
       "\n",
       "        country  country_txt  region  ... addnotes  \\\n",
       "181686      182      Somalia      11  ...      NaN   \n",
       "181687      200        Syria      10  ...      NaN   \n",
       "181688      160  Philippines       5  ...      NaN   \n",
       "181689       92        India       6  ...      NaN   \n",
       "181690      160  Philippines       5  ...      NaN   \n",
       "\n",
       "                                                   scite1  \\\n",
       "181686  \"Somalia: Al-Shabaab Militants Attack Army Che...   \n",
       "181687  \"Putin's 'victory' in Syria has turned into a ...   \n",
       "181688  \"Maguindanao clashes trap tribe members,\" Phil...   \n",
       "181689  \"Trader escapes grenade attack in Imphal,\" Bus...   \n",
       "181690  \"Security tightened in Cotabato following IED ...   \n",
       "\n",
       "                                                   scite2  \\\n",
       "181686  \"Highlights: Somalia Daily Media Highlights 2 ...   \n",
       "181687  \"Two Russian soldiers killed at Hmeymim base i...   \n",
       "181688                                                NaN   \n",
       "181689                                                NaN   \n",
       "181690  \"Security tightened in Cotabato City,\" Manila ...   \n",
       "\n",
       "                                                   scite3  \\\n",
       "181686  \"Highlights: Somalia Daily Media Highlights 1 ...   \n",
       "181687  \"Two Russian servicemen killed in Syria mortar...   \n",
       "181688                                                NaN   \n",
       "181689                                                NaN   \n",
       "181690                                                NaN   \n",
       "\n",
       "                        dbsource  INT_LOG  INT_IDEO INT_MISC INT_ANY  related  \n",
       "181686  START Primary Collection        0         0        0       0      NaN  \n",
       "181687  START Primary Collection       -9        -9        1       1      NaN  \n",
       "181688  START Primary Collection        0         0        0       0      NaN  \n",
       "181689  START Primary Collection       -9        -9        0      -9      NaN  \n",
       "181690  START Primary Collection       -9        -9        0      -9      NaN  \n",
       "\n",
       "[5 rows x 135 columns]"
      ]
     },
     "execution_count": 2,
     "metadata": {},
     "output_type": "execute_result"
    }
   ],
   "source": [
    "data = pd.read_csv(\"../input/global-terrorism/global_terrorism.csv\",encoding='ISO-8859-1')\n",
    "data.tail()"
   ]
  },
  {
   "cell_type": "markdown",
   "id": "2f68ebd5",
   "metadata": {
    "papermill": {
     "duration": 0.01943,
     "end_time": "2021-11-19T14:49:27.416542",
     "exception": false,
     "start_time": "2021-11-19T14:49:27.397112",
     "status": "completed"
    },
    "tags": []
   },
   "source": [
    "## Selecting only the necessary features"
   ]
  },
  {
   "cell_type": "code",
   "execution_count": 3,
   "id": "e3fa1d32",
   "metadata": {
    "execution": {
     "iopub.execute_input": "2021-11-19T14:49:27.469767Z",
     "iopub.status.busy": "2021-11-19T14:49:27.468537Z",
     "iopub.status.idle": "2021-11-19T14:49:27.497063Z",
     "shell.execute_reply": "2021-11-19T14:49:27.497617Z",
     "shell.execute_reply.started": "2021-11-19T14:35:08.190176Z"
    },
    "papermill": {
     "duration": 0.061915,
     "end_time": "2021-11-19T14:49:27.497814",
     "exception": false,
     "start_time": "2021-11-19T14:49:27.435899",
     "status": "completed"
    },
    "tags": []
   },
   "outputs": [],
   "source": [
    "#print(list(data.columns))\n",
    "data = data[['iyear','imonth','iday','country_txt','region_txt','provstate','location','extended','success','suicide','attacktype1_txt','targtype1_txt',\n",
    "             'targsubtype1_txt','target1','nkill','nwound','weaptype1_txt','motive','summary','gname','city','latitude','longitude']]"
   ]
  },
  {
   "cell_type": "markdown",
   "id": "b6ef3b4a",
   "metadata": {
    "papermill": {
     "duration": 0.019201,
     "end_time": "2021-11-19T14:49:27.536618",
     "exception": false,
     "start_time": "2021-11-19T14:49:27.517417",
     "status": "completed"
    },
    "tags": []
   },
   "source": [
    "## Renaming the feature names for better understaning"
   ]
  },
  {
   "cell_type": "code",
   "execution_count": 4,
   "id": "15ef648f",
   "metadata": {
    "execution": {
     "iopub.execute_input": "2021-11-19T14:49:27.579412Z",
     "iopub.status.busy": "2021-11-19T14:49:27.578355Z",
     "iopub.status.idle": "2021-11-19T14:49:27.587083Z",
     "shell.execute_reply": "2021-11-19T14:49:27.586464Z",
     "shell.execute_reply.started": "2021-11-19T14:35:08.231848Z"
    },
    "papermill": {
     "duration": 0.031181,
     "end_time": "2021-11-19T14:49:27.587235",
     "exception": false,
     "start_time": "2021-11-19T14:49:27.556054",
     "status": "completed"
    },
    "tags": []
   },
   "outputs": [],
   "source": [
    "data.rename(columns={'iyear':'year','imonth':'month','iday':'day','country_txt':'country','region_txt':'region','provstate':'state',\n",
    "                     'attacktype1_txt':'attack_type','targtype1_txt':'target_type','targsubtype1_txt':'target_subtype','target1':'target',\n",
    "                     'nkill':'killed','nwound':'wounded','weaptype1_txt':'weapon_type','gname':'group'},inplace=True)"
   ]
  },
  {
   "cell_type": "code",
   "execution_count": 5,
   "id": "9b3ba4db",
   "metadata": {
    "execution": {
     "iopub.execute_input": "2021-11-19T14:49:27.655634Z",
     "iopub.status.busy": "2021-11-19T14:49:27.654917Z",
     "iopub.status.idle": "2021-11-19T14:49:27.657762Z",
     "shell.execute_reply": "2021-11-19T14:49:27.658344Z",
     "shell.execute_reply.started": "2021-11-19T14:35:08.242700Z"
    },
    "papermill": {
     "duration": 0.051871,
     "end_time": "2021-11-19T14:49:27.658525",
     "exception": false,
     "start_time": "2021-11-19T14:49:27.606654",
     "status": "completed"
    },
    "tags": []
   },
   "outputs": [
    {
     "data": {
      "text/html": [
       "<div>\n",
       "<style scoped>\n",
       "    .dataframe tbody tr th:only-of-type {\n",
       "        vertical-align: middle;\n",
       "    }\n",
       "\n",
       "    .dataframe tbody tr th {\n",
       "        vertical-align: top;\n",
       "    }\n",
       "\n",
       "    .dataframe thead th {\n",
       "        text-align: right;\n",
       "    }\n",
       "</style>\n",
       "<table border=\"1\" class=\"dataframe\">\n",
       "  <thead>\n",
       "    <tr style=\"text-align: right;\">\n",
       "      <th></th>\n",
       "      <th>year</th>\n",
       "      <th>month</th>\n",
       "      <th>day</th>\n",
       "      <th>country</th>\n",
       "      <th>region</th>\n",
       "      <th>state</th>\n",
       "      <th>location</th>\n",
       "      <th>extended</th>\n",
       "      <th>success</th>\n",
       "      <th>suicide</th>\n",
       "      <th>...</th>\n",
       "      <th>target</th>\n",
       "      <th>killed</th>\n",
       "      <th>wounded</th>\n",
       "      <th>weapon_type</th>\n",
       "      <th>motive</th>\n",
       "      <th>summary</th>\n",
       "      <th>group</th>\n",
       "      <th>city</th>\n",
       "      <th>latitude</th>\n",
       "      <th>longitude</th>\n",
       "    </tr>\n",
       "  </thead>\n",
       "  <tbody>\n",
       "    <tr>\n",
       "      <th>0</th>\n",
       "      <td>1970</td>\n",
       "      <td>7</td>\n",
       "      <td>2</td>\n",
       "      <td>Dominican Republic</td>\n",
       "      <td>Central America &amp; Caribbean</td>\n",
       "      <td>NaN</td>\n",
       "      <td>NaN</td>\n",
       "      <td>0</td>\n",
       "      <td>1</td>\n",
       "      <td>0</td>\n",
       "      <td>...</td>\n",
       "      <td>Julio Guzman</td>\n",
       "      <td>1.0</td>\n",
       "      <td>0.0</td>\n",
       "      <td>Unknown</td>\n",
       "      <td>NaN</td>\n",
       "      <td>NaN</td>\n",
       "      <td>MANO-D</td>\n",
       "      <td>Santo Domingo</td>\n",
       "      <td>18.456792</td>\n",
       "      <td>-69.951164</td>\n",
       "    </tr>\n",
       "    <tr>\n",
       "      <th>1</th>\n",
       "      <td>1970</td>\n",
       "      <td>0</td>\n",
       "      <td>0</td>\n",
       "      <td>Mexico</td>\n",
       "      <td>North America</td>\n",
       "      <td>Federal</td>\n",
       "      <td>NaN</td>\n",
       "      <td>0</td>\n",
       "      <td>1</td>\n",
       "      <td>0</td>\n",
       "      <td>...</td>\n",
       "      <td>Nadine Chaval, daughter</td>\n",
       "      <td>0.0</td>\n",
       "      <td>0.0</td>\n",
       "      <td>Unknown</td>\n",
       "      <td>NaN</td>\n",
       "      <td>NaN</td>\n",
       "      <td>23rd of September Communist League</td>\n",
       "      <td>Mexico city</td>\n",
       "      <td>19.371887</td>\n",
       "      <td>-99.086624</td>\n",
       "    </tr>\n",
       "    <tr>\n",
       "      <th>2</th>\n",
       "      <td>1970</td>\n",
       "      <td>1</td>\n",
       "      <td>0</td>\n",
       "      <td>Philippines</td>\n",
       "      <td>Southeast Asia</td>\n",
       "      <td>Tarlac</td>\n",
       "      <td>NaN</td>\n",
       "      <td>0</td>\n",
       "      <td>1</td>\n",
       "      <td>0</td>\n",
       "      <td>...</td>\n",
       "      <td>Employee</td>\n",
       "      <td>1.0</td>\n",
       "      <td>0.0</td>\n",
       "      <td>Unknown</td>\n",
       "      <td>NaN</td>\n",
       "      <td>NaN</td>\n",
       "      <td>Unknown</td>\n",
       "      <td>Unknown</td>\n",
       "      <td>15.478598</td>\n",
       "      <td>120.599741</td>\n",
       "    </tr>\n",
       "    <tr>\n",
       "      <th>3</th>\n",
       "      <td>1970</td>\n",
       "      <td>1</td>\n",
       "      <td>0</td>\n",
       "      <td>Greece</td>\n",
       "      <td>Western Europe</td>\n",
       "      <td>Attica</td>\n",
       "      <td>NaN</td>\n",
       "      <td>0</td>\n",
       "      <td>1</td>\n",
       "      <td>0</td>\n",
       "      <td>...</td>\n",
       "      <td>U.S. Embassy</td>\n",
       "      <td>NaN</td>\n",
       "      <td>NaN</td>\n",
       "      <td>Explosives</td>\n",
       "      <td>NaN</td>\n",
       "      <td>NaN</td>\n",
       "      <td>Unknown</td>\n",
       "      <td>Athens</td>\n",
       "      <td>37.997490</td>\n",
       "      <td>23.762728</td>\n",
       "    </tr>\n",
       "    <tr>\n",
       "      <th>4</th>\n",
       "      <td>1970</td>\n",
       "      <td>1</td>\n",
       "      <td>0</td>\n",
       "      <td>Japan</td>\n",
       "      <td>East Asia</td>\n",
       "      <td>Fukouka</td>\n",
       "      <td>NaN</td>\n",
       "      <td>0</td>\n",
       "      <td>1</td>\n",
       "      <td>0</td>\n",
       "      <td>...</td>\n",
       "      <td>U.S. Consulate</td>\n",
       "      <td>NaN</td>\n",
       "      <td>NaN</td>\n",
       "      <td>Incendiary</td>\n",
       "      <td>NaN</td>\n",
       "      <td>NaN</td>\n",
       "      <td>Unknown</td>\n",
       "      <td>Fukouka</td>\n",
       "      <td>33.580412</td>\n",
       "      <td>130.396361</td>\n",
       "    </tr>\n",
       "  </tbody>\n",
       "</table>\n",
       "<p>5 rows × 23 columns</p>\n",
       "</div>"
      ],
      "text/plain": [
       "   year  month  day             country                       region    state  \\\n",
       "0  1970      7    2  Dominican Republic  Central America & Caribbean      NaN   \n",
       "1  1970      0    0              Mexico                North America  Federal   \n",
       "2  1970      1    0         Philippines               Southeast Asia   Tarlac   \n",
       "3  1970      1    0              Greece               Western Europe   Attica   \n",
       "4  1970      1    0               Japan                    East Asia  Fukouka   \n",
       "\n",
       "  location  extended  success  suicide  ...                   target killed  \\\n",
       "0      NaN         0        1        0  ...             Julio Guzman    1.0   \n",
       "1      NaN         0        1        0  ...  Nadine Chaval, daughter    0.0   \n",
       "2      NaN         0        1        0  ...                 Employee    1.0   \n",
       "3      NaN         0        1        0  ...             U.S. Embassy    NaN   \n",
       "4      NaN         0        1        0  ...           U.S. Consulate    NaN   \n",
       "\n",
       "  wounded weapon_type  motive  summary                               group  \\\n",
       "0     0.0     Unknown     NaN      NaN                              MANO-D   \n",
       "1     0.0     Unknown     NaN      NaN  23rd of September Communist League   \n",
       "2     0.0     Unknown     NaN      NaN                             Unknown   \n",
       "3     NaN  Explosives     NaN      NaN                             Unknown   \n",
       "4     NaN  Incendiary     NaN      NaN                             Unknown   \n",
       "\n",
       "            city   latitude   longitude  \n",
       "0  Santo Domingo  18.456792  -69.951164  \n",
       "1    Mexico city  19.371887  -99.086624  \n",
       "2        Unknown  15.478598  120.599741  \n",
       "3         Athens  37.997490   23.762728  \n",
       "4        Fukouka  33.580412  130.396361  \n",
       "\n",
       "[5 rows x 23 columns]"
      ]
     },
     "execution_count": 5,
     "metadata": {},
     "output_type": "execute_result"
    }
   ],
   "source": [
    "data.head()"
   ]
  },
  {
   "cell_type": "code",
   "execution_count": 6,
   "id": "e6194a31",
   "metadata": {
    "execution": {
     "iopub.execute_input": "2021-11-19T14:49:27.704486Z",
     "iopub.status.busy": "2021-11-19T14:49:27.702615Z",
     "iopub.status.idle": "2021-11-19T14:49:27.929077Z",
     "shell.execute_reply": "2021-11-19T14:49:27.928380Z",
     "shell.execute_reply.started": "2021-11-19T14:35:08.275275Z"
    },
    "papermill": {
     "duration": 0.250372,
     "end_time": "2021-11-19T14:49:27.929227",
     "exception": false,
     "start_time": "2021-11-19T14:49:27.678855",
     "status": "completed"
    },
    "tags": []
   },
   "outputs": [
    {
     "name": "stdout",
     "output_type": "stream",
     "text": [
      "<class 'pandas.core.frame.DataFrame'>\n",
      "RangeIndex: 181691 entries, 0 to 181690\n",
      "Data columns (total 23 columns):\n",
      " #   Column          Non-Null Count   Dtype  \n",
      "---  ------          --------------   -----  \n",
      " 0   year            181691 non-null  int64  \n",
      " 1   month           181691 non-null  int64  \n",
      " 2   day             181691 non-null  int64  \n",
      " 3   country         181691 non-null  object \n",
      " 4   region          181691 non-null  object \n",
      " 5   state           181270 non-null  object \n",
      " 6   location        55495 non-null   object \n",
      " 7   extended        181691 non-null  int64  \n",
      " 8   success         181691 non-null  int64  \n",
      " 9   suicide         181691 non-null  int64  \n",
      " 10  attack_type     181691 non-null  object \n",
      " 11  target_type     181691 non-null  object \n",
      " 12  target_subtype  171318 non-null  object \n",
      " 13  target          181055 non-null  object \n",
      " 14  killed          171378 non-null  float64\n",
      " 15  wounded         165380 non-null  float64\n",
      " 16  weapon_type     181691 non-null  object \n",
      " 17  motive          50561 non-null   object \n",
      " 18  summary         115562 non-null  object \n",
      " 19  group           181691 non-null  object \n",
      " 20  city            181257 non-null  object \n",
      " 21  latitude        177135 non-null  float64\n",
      " 22  longitude       177134 non-null  float64\n",
      "dtypes: float64(4), int64(6), object(13)\n",
      "memory usage: 31.9+ MB\n"
     ]
    }
   ],
   "source": [
    "data.info()"
   ]
  },
  {
   "cell_type": "markdown",
   "id": "e9263403",
   "metadata": {
    "papermill": {
     "duration": 0.020109,
     "end_time": "2021-11-19T14:49:27.969895",
     "exception": false,
     "start_time": "2021-11-19T14:49:27.949786",
     "status": "completed"
    },
    "tags": []
   },
   "source": [
    "## Checking for missing values "
   ]
  },
  {
   "cell_type": "code",
   "execution_count": 7,
   "id": "4de0a4cc",
   "metadata": {
    "execution": {
     "iopub.execute_input": "2021-11-19T14:49:28.017536Z",
     "iopub.status.busy": "2021-11-19T14:49:28.016553Z",
     "iopub.status.idle": "2021-11-19T14:49:28.230268Z",
     "shell.execute_reply": "2021-11-19T14:49:28.230856Z",
     "shell.execute_reply.started": "2021-11-19T14:35:08.542695Z"
    },
    "papermill": {
     "duration": 0.240707,
     "end_time": "2021-11-19T14:49:28.231051",
     "exception": false,
     "start_time": "2021-11-19T14:49:27.990344",
     "status": "completed"
    },
    "tags": []
   },
   "outputs": [
    {
     "data": {
      "text/plain": [
       "year                   0\n",
       "month                  0\n",
       "day                    0\n",
       "country                0\n",
       "region                 0\n",
       "state                421\n",
       "location          126196\n",
       "extended               0\n",
       "success                0\n",
       "suicide                0\n",
       "attack_type            0\n",
       "target_type            0\n",
       "target_subtype     10373\n",
       "target               636\n",
       "killed             10313\n",
       "wounded            16311\n",
       "weapon_type            0\n",
       "motive            131130\n",
       "summary            66129\n",
       "group                  0\n",
       "city                 434\n",
       "latitude            4556\n",
       "longitude           4557\n",
       "dtype: int64"
      ]
     },
     "execution_count": 7,
     "metadata": {},
     "output_type": "execute_result"
    }
   ],
   "source": [
    "data.isna().sum()"
   ]
  },
  {
   "cell_type": "code",
   "execution_count": 8,
   "id": "a47eec85",
   "metadata": {
    "execution": {
     "iopub.execute_input": "2021-11-19T14:49:28.277709Z",
     "iopub.status.busy": "2021-11-19T14:49:28.276516Z",
     "iopub.status.idle": "2021-11-19T14:49:30.884994Z",
     "shell.execute_reply": "2021-11-19T14:49:30.885533Z",
     "shell.execute_reply.started": "2021-11-19T14:35:08.797447Z"
    },
    "papermill": {
     "duration": 2.633539,
     "end_time": "2021-11-19T14:49:30.885746",
     "exception": false,
     "start_time": "2021-11-19T14:49:28.252207",
     "status": "completed"
    },
    "tags": []
   },
   "outputs": [
    {
     "data": {
      "text/plain": [
       "<AxesSubplot:>"
      ]
     },
     "execution_count": 8,
     "metadata": {},
     "output_type": "execute_result"
    },
    {
     "data": {
      "image/png": "[encoded data removed]",
      "text/plain": [
       "<Figure size 1800x720 with 2 Axes>"
      ]
     },
     "metadata": {
      "needs_background": "light"
     },
     "output_type": "display_data"
    }
   ],
   "source": [
    "msno.matrix(data)"
   ]
  },
  {
   "cell_type": "markdown",
   "id": "66f0313d",
   "metadata": {
    "papermill": {
     "duration": 0.023236,
     "end_time": "2021-11-19T14:49:30.932596",
     "exception": false,
     "start_time": "2021-11-19T14:49:30.909360",
     "status": "completed"
    },
    "tags": []
   },
   "source": [
    "> #### Summary have more than 35% of missing data whereas Location, Motive have more than 70% of missing data."
   ]
  },
  {
   "cell_type": "code",
   "execution_count": 9,
   "id": "3a2a3956",
   "metadata": {
    "execution": {
     "iopub.execute_input": "2021-11-19T14:49:30.983695Z",
     "iopub.status.busy": "2021-11-19T14:49:30.982633Z",
     "iopub.status.idle": "2021-11-19T14:51:37.913106Z",
     "shell.execute_reply": "2021-11-19T14:51:37.913819Z",
     "shell.execute_reply.started": "2021-11-19T14:35:11.368285Z"
    },
    "papermill": {
     "duration": 126.957528,
     "end_time": "2021-11-19T14:51:37.914031",
     "exception": false,
     "start_time": "2021-11-19T14:49:30.956503",
     "status": "completed"
    },
    "tags": []
   },
   "outputs": [],
   "source": [
    "data.to_excel('terrorism_data.xlsx',index=False)"
   ]
  },
  {
   "cell_type": "markdown",
   "id": "8b77a3ca",
   "metadata": {
    "papermill": {
     "duration": 0.022782,
     "end_time": "2021-11-19T14:51:37.960408",
     "exception": false,
     "start_time": "2021-11-19T14:51:37.937626",
     "status": "completed"
    },
    "tags": []
   },
   "source": [
    "## Exploratory Data Analysis Using Tableau\n",
    "\n",
    "\n",
    "> #### Link: https://public.tableau.com/app/profile/siddharth.kulkarni2558/viz/TerrorismDataAnalysis_16364770272310/Story\n"
   ]
  },
  {
   "cell_type": "code",
   "execution_count": 10,
   "id": "5c1f727f",
   "metadata": {
    "execution": {
     "iopub.execute_input": "2021-11-19T14:51:38.015791Z",
     "iopub.status.busy": "2021-11-19T14:51:38.014814Z",
     "iopub.status.idle": "2021-11-19T14:51:38.018771Z",
     "shell.execute_reply": "2021-11-19T14:51:38.019349Z",
     "shell.execute_reply.started": "2021-11-19T14:47:29.148818Z"
    },
    "papermill": {
     "duration": 0.035986,
     "end_time": "2021-11-19T14:51:38.019540",
     "exception": false,
     "start_time": "2021-11-19T14:51:37.983554",
     "status": "completed"
    },
    "tags": []
   },
   "outputs": [
    {
     "data": {
      "text/html": [
       "<div class='tableauPlaceholder' id='viz1637332955517' style='position: relative'>\n",
       "    <noscript>\n",
       "        <a href='#'>\n",
       "        <img alt='Story ' src='https:&#47;&#47;public.tableau.com&#47;static&#47;images&#47;Te&#47;TerrorismDataAnalysis_16364770272310&#47;Story&#47;1_rss.png' style='border: none' />\n",
       "        </a>\n",
       "    </noscript>\n",
       "    <object class='tableauViz'  style='display:none;'><param name='host_url' value='https%3A%2F%2Fpublic.tableau.com%2F' /> <param name='embed_code_version' value='3' /> <param name='site_root' value='' /><param name='name' value='TerrorismDataAnalysis_16364770272310&#47;Story' /><param name='tabs' value='no' /><param name='toolbar' value='yes' /><param name='static_image' value='https:&#47;&#47;public.tableau.com&#47;static&#47;images&#47;Te&#47;TerrorismDataAnalysis_16364770272310&#47;Story&#47;1.png' /> <param name='animate_transition' value='yes' /><param name='display_static_image' value='yes' /><param name='display_spinner' value='yes' /><param name='display_overlay' value='yes' /><param name='display_count' value='yes' /><param name='language' value='en-US' />\n",
       "    </object>\n",
       "</div>\n",
       "<script type='text/javascript'>  \n",
       "    var divElement = document.getElementById('viz1637332955517');                    \n",
       "    var vizElement = divElement.getElementsByTagName('object')[0];                    \n",
       "    vizElement.style.width='100%';vizElement.style.height=(divElement.offsetWidth*0.75)+'px';                    \n",
       "    var scriptElement = document.createElement('script');                    \n",
       "    scriptElement.src = 'https://public.tableau.com/javascripts/api/viz_v1.js';                    \n",
       "    vizElement.parentNode.insertBefore(scriptElement, vizElement);                \n",
       "</script>\n"
      ],
      "text/plain": [
       "<IPython.core.display.HTML object>"
      ]
     },
     "metadata": {},
     "output_type": "display_data"
    }
   ],
   "source": [
    "%%HTML\n",
    "<div class='tableauPlaceholder' id='viz1637332955517' style='position: relative'>\n",
    "    <noscript>\n",
    "        <a href='#'>\n",
    "        <img alt='Story ' src='https:&#47;&#47;public.tableau.com&#47;static&#47;images&#47;Te&#47;TerrorismDataAnalysis_16364770272310&#47;Story&#47;1_rss.png' style='border: none' />\n",
    "        </a>\n",
    "    </noscript>\n",
    "    <object class='tableauViz'  style='display:none;'><param name='host_url' value='https%3A%2F%2Fpublic.tableau.com%2F' /> <param name='embed_code_version' value='3' /> <param name='site_root' value='' /><param name='name' value='TerrorismDataAnalysis_16364770272310&#47;Story' /><param name='tabs' value='no' /><param name='toolbar' value='yes' /><param name='static_image' value='https:&#47;&#47;public.tableau.com&#47;static&#47;images&#47;Te&#47;TerrorismDataAnalysis_16364770272310&#47;Story&#47;1.png' /> <param name='animate_transition' value='yes' /><param name='display_static_image' value='yes' /><param name='display_spinner' value='yes' /><param name='display_overlay' value='yes' /><param name='display_count' value='yes' /><param name='language' value='en-US' />\n",
    "    </object>\n",
    "</div>\n",
    "<script type='text/javascript'>  \n",
    "    var divElement = document.getElementById('viz1637332955517');                    \n",
    "    var vizElement = divElement.getElementsByTagName('object')[0];                    \n",
    "    vizElement.style.width='100%';vizElement.style.height=(divElement.offsetWidth*0.75)+'px';                    \n",
    "    var scriptElement = document.createElement('script');                    \n",
    "    scriptElement.src = 'https://public.tableau.com/javascripts/api/viz_v1.js';                    \n",
    "    vizElement.parentNode.insertBefore(scriptElement, vizElement);                \n",
    "</script>"
   ]
  },
  {
   "cell_type": "markdown",
   "id": "e756326f",
   "metadata": {
    "papermill": {
     "duration": 0.024009,
     "end_time": "2021-11-19T14:51:38.067754",
     "exception": false,
     "start_time": "2021-11-19T14:51:38.043745",
     "status": "completed"
    },
    "tags": []
   },
   "source": [
    "## Conclusion\n",
    "\n",
    "\n",
    "> #### Used Tableau and Analysed the Terrorism Data"
   ]
  }
 ],
 "metadata": {
  "kernelspec": {
   "display_name": "Python 3",
   "language": "python",
   "name": "python3"
  },
  "language_info": {
   "codemirror_mode": {
    "name": "ipython",
    "version": 3
   },
   "file_extension": ".py",
   "mimetype": "text/x-python",
   "name": "python",
   "nbconvert_exporter": "python",
   "pygments_lexer": "ipython3",
   "version": "3.7.10"
  },
  "papermill": {
   "default_parameters": {},
   "duration": 162.750169,
   "end_time": "2021-11-19T14:51:40.703404",
   "environment_variables": {},
   "exception": null,
   "input_path": "__notebook__.ipynb",
   "output_path": "__notebook__.ipynb",
   "parameters": {},
   "start_time": "2021-11-19T14:48:57.953235",
   "version": "2.3.3"
  }
 },
 "nbformat": 4,
 "nbformat_minor": 5
}
