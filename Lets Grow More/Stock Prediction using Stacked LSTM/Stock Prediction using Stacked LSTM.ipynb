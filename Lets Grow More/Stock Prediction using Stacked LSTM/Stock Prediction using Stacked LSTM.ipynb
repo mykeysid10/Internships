{
 "cells": [
  {
   "cell_type": "markdown",
   "id": "3d022294",
   "metadata": {
    "papermill": {
     "duration": 0.021428,
     "end_time": "2021-11-03T13:14:13.845118",
     "exception": false,
     "start_time": "2021-11-03T13:14:13.823690",
     "status": "completed"
    },
    "tags": []
   },
   "source": [
    "## **Aim:** Stock Market Prediction & Forecasting using Stacked LSTM\n",
    "\n",
    "<br>\n",
    "\n",
    "> #### **By:** Siddharth Kulkarni\n",
    "> #### **Technique used:** Deep Learning: Stacked Long Short Term Memory (LSTM)\n",
    "> #### **Language used:** Python\n",
    "> #### **Dataset:** https://raw.githubusercontent.com/mwitiderrick/stockprice/master/NSE-TATAGLOBAL.csv (Stock)"
   ]
  },
  {
   "cell_type": "markdown",
   "id": "c2bdafba",
   "metadata": {
    "papermill": {
     "duration": 0.016802,
     "end_time": "2021-11-03T13:14:13.879379",
     "exception": false,
     "start_time": "2021-11-03T13:14:13.862577",
     "status": "completed"
    },
    "tags": []
   },
   "source": [
    "## Loading Libraries & Importing Dataset"
   ]
  },
  {
   "cell_type": "code",
   "execution_count": 1,
   "id": "fa717d80",
   "metadata": {
    "execution": {
     "iopub.execute_input": "2021-11-03T13:14:13.925439Z",
     "iopub.status.busy": "2021-11-03T13:14:13.924652Z",
     "iopub.status.idle": "2021-11-03T13:14:20.014285Z",
     "shell.execute_reply": "2021-11-03T13:14:20.014751Z",
     "shell.execute_reply.started": "2021-11-03T12:50:58.010562Z"
    },
    "papermill": {
     "duration": 6.118433,
     "end_time": "2021-11-03T13:14:20.015045",
     "exception": false,
     "start_time": "2021-11-03T13:14:13.896612",
     "status": "completed"
    },
    "tags": []
   },
   "outputs": [],
   "source": [
    "import warnings\n",
    "warnings.filterwarnings(\"ignore\")\n",
    "import numpy as np\n",
    "import pandas as pd\n",
    "import matplotlib.pyplot as plt\n",
    "from sklearn.preprocessing import MinMaxScaler\n",
    "from sklearn.metrics import mean_squared_error, r2_score, mean_absolute_error\n",
    "from sklearn.model_selection import train_test_split\n",
    "from keras import callbacks\n",
    "from keras.models import Sequential\n",
    "from keras.layers import Dense\n",
    "from keras.layers import LSTM\n",
    "from numpy import array"
   ]
  },
  {
   "cell_type": "code",
   "execution_count": 2,
   "id": "872f0a60",
   "metadata": {
    "execution": {
     "iopub.execute_input": "2021-11-03T13:14:20.053768Z",
     "iopub.status.busy": "2021-11-03T13:14:20.053127Z",
     "iopub.status.idle": "2021-11-03T13:14:20.091924Z",
     "shell.execute_reply": "2021-11-03T13:14:20.092405Z",
     "shell.execute_reply.started": "2021-11-03T11:34:54.548875Z"
    },
    "papermill": {
     "duration": 0.059836,
     "end_time": "2021-11-03T13:14:20.092577",
     "exception": false,
     "start_time": "2021-11-03T13:14:20.032741",
     "status": "completed"
    },
    "tags": []
   },
   "outputs": [
    {
     "data": {
      "text/html": [
       "<div>\n",
       "<style scoped>\n",
       "    .dataframe tbody tr th:only-of-type {\n",
       "        vertical-align: middle;\n",
       "    }\n",
       "\n",
       "    .dataframe tbody tr th {\n",
       "        vertical-align: top;\n",
       "    }\n",
       "\n",
       "    .dataframe thead th {\n",
       "        text-align: right;\n",
       "    }\n",
       "</style>\n",
       "<table border=\"1\" class=\"dataframe\">\n",
       "  <thead>\n",
       "    <tr style=\"text-align: right;\">\n",
       "      <th></th>\n",
       "      <th>Date</th>\n",
       "      <th>Open</th>\n",
       "      <th>High</th>\n",
       "      <th>Low</th>\n",
       "      <th>Last</th>\n",
       "      <th>Close</th>\n",
       "      <th>Total Trade Quantity</th>\n",
       "      <th>Turnover (Lacs)</th>\n",
       "    </tr>\n",
       "  </thead>\n",
       "  <tbody>\n",
       "    <tr>\n",
       "      <th>0</th>\n",
       "      <td>2018-09-28</td>\n",
       "      <td>234.05</td>\n",
       "      <td>235.95</td>\n",
       "      <td>230.20</td>\n",
       "      <td>233.50</td>\n",
       "      <td>233.75</td>\n",
       "      <td>3069914</td>\n",
       "      <td>7162.35</td>\n",
       "    </tr>\n",
       "    <tr>\n",
       "      <th>1</th>\n",
       "      <td>2018-09-27</td>\n",
       "      <td>234.55</td>\n",
       "      <td>236.80</td>\n",
       "      <td>231.10</td>\n",
       "      <td>233.80</td>\n",
       "      <td>233.25</td>\n",
       "      <td>5082859</td>\n",
       "      <td>11859.95</td>\n",
       "    </tr>\n",
       "    <tr>\n",
       "      <th>2</th>\n",
       "      <td>2018-09-26</td>\n",
       "      <td>240.00</td>\n",
       "      <td>240.00</td>\n",
       "      <td>232.50</td>\n",
       "      <td>235.00</td>\n",
       "      <td>234.25</td>\n",
       "      <td>2240909</td>\n",
       "      <td>5248.60</td>\n",
       "    </tr>\n",
       "    <tr>\n",
       "      <th>3</th>\n",
       "      <td>2018-09-25</td>\n",
       "      <td>233.30</td>\n",
       "      <td>236.75</td>\n",
       "      <td>232.00</td>\n",
       "      <td>236.25</td>\n",
       "      <td>236.10</td>\n",
       "      <td>2349368</td>\n",
       "      <td>5503.90</td>\n",
       "    </tr>\n",
       "    <tr>\n",
       "      <th>4</th>\n",
       "      <td>2018-09-24</td>\n",
       "      <td>233.55</td>\n",
       "      <td>239.20</td>\n",
       "      <td>230.75</td>\n",
       "      <td>234.00</td>\n",
       "      <td>233.30</td>\n",
       "      <td>3423509</td>\n",
       "      <td>7999.55</td>\n",
       "    </tr>\n",
       "  </tbody>\n",
       "</table>\n",
       "</div>"
      ],
      "text/plain": [
       "         Date    Open    High     Low    Last   Close  Total Trade Quantity  \\\n",
       "0  2018-09-28  234.05  235.95  230.20  233.50  233.75               3069914   \n",
       "1  2018-09-27  234.55  236.80  231.10  233.80  233.25               5082859   \n",
       "2  2018-09-26  240.00  240.00  232.50  235.00  234.25               2240909   \n",
       "3  2018-09-25  233.30  236.75  232.00  236.25  236.10               2349368   \n",
       "4  2018-09-24  233.55  239.20  230.75  234.00  233.30               3423509   \n",
       "\n",
       "   Turnover (Lacs)  \n",
       "0          7162.35  \n",
       "1         11859.95  \n",
       "2          5248.60  \n",
       "3          5503.90  \n",
       "4          7999.55  "
      ]
     },
     "execution_count": 2,
     "metadata": {},
     "output_type": "execute_result"
    }
   ],
   "source": [
    "data = pd.read_csv(\"../input/stock-market/Stock_data.csv\")\n",
    "data.head()"
   ]
  },
  {
   "cell_type": "code",
   "execution_count": 3,
   "id": "6378f68e",
   "metadata": {
    "execution": {
     "iopub.execute_input": "2021-11-03T13:14:20.133120Z",
     "iopub.status.busy": "2021-11-03T13:14:20.132530Z",
     "iopub.status.idle": "2021-11-03T13:14:20.330483Z",
     "shell.execute_reply": "2021-11-03T13:14:20.330967Z",
     "shell.execute_reply.started": "2021-11-03T11:35:05.878595Z"
    },
    "papermill": {
     "duration": 0.219586,
     "end_time": "2021-11-03T13:14:20.331151",
     "exception": false,
     "start_time": "2021-11-03T13:14:20.111565",
     "status": "completed"
    },
    "tags": []
   },
   "outputs": [
    {
     "data": {
      "text/plain": [
       "[<matplotlib.lines.Line2D at 0x7f7f504cf110>]"
      ]
     },
     "execution_count": 3,
     "metadata": {},
     "output_type": "execute_result"
    },
    {
     "data": {
      "image/png": "[encoded data removed]",
      "text/plain": [
       "<Figure size 432x288 with 1 Axes>"
      ]
     },
     "metadata": {
      "needs_background": "light"
     },
     "output_type": "display_data"
    }
   ],
   "source": [
    "temp = data.reset_index()['Close']\n",
    "plt.plot(temp)"
   ]
  },
  {
   "cell_type": "markdown",
   "id": "4508db35",
   "metadata": {
    "papermill": {
     "duration": 0.01856,
     "end_time": "2021-11-03T13:14:20.368798",
     "exception": false,
     "start_time": "2021-11-03T13:14:20.350238",
     "status": "completed"
    },
    "tags": []
   },
   "source": [
    "## Data Transformation using Min-Max-Scaler"
   ]
  },
  {
   "cell_type": "code",
   "execution_count": 4,
   "id": "5eeeebd1",
   "metadata": {
    "execution": {
     "iopub.execute_input": "2021-11-03T13:14:20.420283Z",
     "iopub.status.busy": "2021-11-03T13:14:20.409200Z",
     "iopub.status.idle": "2021-11-03T13:14:20.422712Z",
     "shell.execute_reply": "2021-11-03T13:14:20.423170Z",
     "shell.execute_reply.started": "2021-11-03T11:35:21.569598Z"
    },
    "papermill": {
     "duration": 0.035713,
     "end_time": "2021-11-03T13:14:20.423343",
     "exception": false,
     "start_time": "2021-11-03T13:14:20.387630",
     "status": "completed"
    },
    "tags": []
   },
   "outputs": [
    {
     "data": {
      "text/html": [
       "<div>\n",
       "<style scoped>\n",
       "    .dataframe tbody tr th:only-of-type {\n",
       "        vertical-align: middle;\n",
       "    }\n",
       "\n",
       "    .dataframe tbody tr th {\n",
       "        vertical-align: top;\n",
       "    }\n",
       "\n",
       "    .dataframe thead th {\n",
       "        text-align: right;\n",
       "    }\n",
       "</style>\n",
       "<table border=\"1\" class=\"dataframe\">\n",
       "  <thead>\n",
       "    <tr style=\"text-align: right;\">\n",
       "      <th></th>\n",
       "      <th>Date</th>\n",
       "      <th>Open</th>\n",
       "      <th>High</th>\n",
       "      <th>Low</th>\n",
       "      <th>Last</th>\n",
       "      <th>Close</th>\n",
       "      <th>Total Trade Quantity</th>\n",
       "      <th>Turnover (Lacs)</th>\n",
       "    </tr>\n",
       "  </thead>\n",
       "  <tbody>\n",
       "    <tr>\n",
       "      <th>0</th>\n",
       "      <td>2018-09-28</td>\n",
       "      <td>234.05</td>\n",
       "      <td>235.95</td>\n",
       "      <td>230.20</td>\n",
       "      <td>233.50</td>\n",
       "      <td>233.75</td>\n",
       "      <td>3069914</td>\n",
       "      <td>7162.35</td>\n",
       "    </tr>\n",
       "    <tr>\n",
       "      <th>1</th>\n",
       "      <td>2018-09-27</td>\n",
       "      <td>234.55</td>\n",
       "      <td>236.80</td>\n",
       "      <td>231.10</td>\n",
       "      <td>233.80</td>\n",
       "      <td>233.25</td>\n",
       "      <td>5082859</td>\n",
       "      <td>11859.95</td>\n",
       "    </tr>\n",
       "    <tr>\n",
       "      <th>2</th>\n",
       "      <td>2018-09-26</td>\n",
       "      <td>240.00</td>\n",
       "      <td>240.00</td>\n",
       "      <td>232.50</td>\n",
       "      <td>235.00</td>\n",
       "      <td>234.25</td>\n",
       "      <td>2240909</td>\n",
       "      <td>5248.60</td>\n",
       "    </tr>\n",
       "    <tr>\n",
       "      <th>3</th>\n",
       "      <td>2018-09-25</td>\n",
       "      <td>233.30</td>\n",
       "      <td>236.75</td>\n",
       "      <td>232.00</td>\n",
       "      <td>236.25</td>\n",
       "      <td>236.10</td>\n",
       "      <td>2349368</td>\n",
       "      <td>5503.90</td>\n",
       "    </tr>\n",
       "    <tr>\n",
       "      <th>4</th>\n",
       "      <td>2018-09-24</td>\n",
       "      <td>233.55</td>\n",
       "      <td>239.20</td>\n",
       "      <td>230.75</td>\n",
       "      <td>234.00</td>\n",
       "      <td>233.30</td>\n",
       "      <td>3423509</td>\n",
       "      <td>7999.55</td>\n",
       "    </tr>\n",
       "  </tbody>\n",
       "</table>\n",
       "</div>"
      ],
      "text/plain": [
       "         Date    Open    High     Low    Last   Close  Total Trade Quantity  \\\n",
       "0  2018-09-28  234.05  235.95  230.20  233.50  233.75               3069914   \n",
       "1  2018-09-27  234.55  236.80  231.10  233.80  233.25               5082859   \n",
       "2  2018-09-26  240.00  240.00  232.50  235.00  234.25               2240909   \n",
       "3  2018-09-25  233.30  236.75  232.00  236.25  236.10               2349368   \n",
       "4  2018-09-24  233.55  239.20  230.75  234.00  233.30               3423509   \n",
       "\n",
       "   Turnover (Lacs)  \n",
       "0          7162.35  \n",
       "1         11859.95  \n",
       "2          5248.60  \n",
       "3          5503.90  \n",
       "4          7999.55  "
      ]
     },
     "execution_count": 4,
     "metadata": {},
     "output_type": "execute_result"
    }
   ],
   "source": [
    "data.head()"
   ]
  },
  {
   "cell_type": "code",
   "execution_count": 5,
   "id": "f771b684",
   "metadata": {
    "execution": {
     "iopub.execute_input": "2021-11-03T13:14:20.464791Z",
     "iopub.status.busy": "2021-11-03T13:14:20.464216Z",
     "iopub.status.idle": "2021-11-03T13:14:20.468330Z",
     "shell.execute_reply": "2021-11-03T13:14:20.468763Z",
     "shell.execute_reply.started": "2021-11-03T11:21:57.779576Z"
    },
    "papermill": {
     "duration": 0.026499,
     "end_time": "2021-11-03T13:14:20.468923",
     "exception": false,
     "start_time": "2021-11-03T13:14:20.442424",
     "status": "completed"
    },
    "tags": []
   },
   "outputs": [
    {
     "data": {
      "text/plain": [
       "(2035,)"
      ]
     },
     "execution_count": 5,
     "metadata": {},
     "output_type": "execute_result"
    }
   ],
   "source": [
    "temp.shape"
   ]
  },
  {
   "cell_type": "code",
   "execution_count": 6,
   "id": "fb0f7e9f",
   "metadata": {
    "execution": {
     "iopub.execute_input": "2021-11-03T13:14:20.512613Z",
     "iopub.status.busy": "2021-11-03T13:14:20.511916Z",
     "iopub.status.idle": "2021-11-03T13:14:20.515516Z",
     "shell.execute_reply": "2021-11-03T13:14:20.515981Z",
     "shell.execute_reply.started": "2021-11-03T11:35:44.219519Z"
    },
    "papermill": {
     "duration": 0.027925,
     "end_time": "2021-11-03T13:14:20.516178",
     "exception": false,
     "start_time": "2021-11-03T13:14:20.488253",
     "status": "completed"
    },
    "tags": []
   },
   "outputs": [],
   "source": [
    "scaler = MinMaxScaler(feature_range=(0,1))\n",
    "temp = scaler.fit_transform(np.array(temp).reshape(-1,1))"
   ]
  },
  {
   "cell_type": "code",
   "execution_count": 7,
   "id": "36945ed6",
   "metadata": {
    "execution": {
     "iopub.execute_input": "2021-11-03T13:14:20.559959Z",
     "iopub.status.busy": "2021-11-03T13:14:20.559327Z",
     "iopub.status.idle": "2021-11-03T13:14:20.561865Z",
     "shell.execute_reply": "2021-11-03T13:14:20.562336Z",
     "shell.execute_reply.started": "2021-11-03T11:22:28.770037Z"
    },
    "papermill": {
     "duration": 0.026834,
     "end_time": "2021-11-03T13:14:20.562505",
     "exception": false,
     "start_time": "2021-11-03T13:14:20.535671",
     "status": "completed"
    },
    "tags": []
   },
   "outputs": [
    {
     "data": {
      "text/plain": [
       "(2035, 1)"
      ]
     },
     "execution_count": 7,
     "metadata": {},
     "output_type": "execute_result"
    }
   ],
   "source": [
    "temp.shape"
   ]
  },
  {
   "cell_type": "markdown",
   "id": "b05177cd",
   "metadata": {
    "papermill": {
     "duration": 0.019287,
     "end_time": "2021-11-03T13:14:20.601331",
     "exception": false,
     "start_time": "2021-11-03T13:14:20.582044",
     "status": "completed"
    },
    "tags": []
   },
   "source": [
    "## Train Test Split"
   ]
  },
  {
   "cell_type": "code",
   "execution_count": 8,
   "id": "8f921884",
   "metadata": {
    "execution": {
     "iopub.execute_input": "2021-11-03T13:14:20.811550Z",
     "iopub.status.busy": "2021-11-03T13:14:20.809285Z",
     "iopub.status.idle": "2021-11-03T13:14:20.815645Z",
     "shell.execute_reply": "2021-11-03T13:14:20.815087Z",
     "shell.execute_reply.started": "2021-11-03T11:51:13.093872Z"
    },
    "papermill": {
     "duration": 0.194861,
     "end_time": "2021-11-03T13:14:20.815783",
     "exception": false,
     "start_time": "2021-11-03T13:14:20.620922",
     "status": "completed"
    },
    "tags": []
   },
   "outputs": [],
   "source": [
    "# Doing train test split (70-30) sequencially \n",
    "data = data.sort_values(by=\"Date\")\n",
    "ntrain = int(len(temp)*0.7)\n",
    "train, test = temp[0:ntrain,:], temp[ntrain:len(temp),:1]\n",
    "\n",
    "# Convert array of values to dataset matrix\n",
    "def dataset(df,time_step=1):\n",
    "    dx,dy = [],[]\n",
    "    for i in range(len(df)-time_step-1):\n",
    "        dx.append(df[i:(i+time_step),0])\n",
    "        dy.append(df[i+time_step,0])\n",
    "    return np.array(dx),np.array(dy)"
   ]
  },
  {
   "cell_type": "code",
   "execution_count": 9,
   "id": "e4656a7e",
   "metadata": {
    "execution": {
     "iopub.execute_input": "2021-11-03T13:14:20.858290Z",
     "iopub.status.busy": "2021-11-03T13:14:20.857692Z",
     "iopub.status.idle": "2021-11-03T13:14:20.866066Z",
     "shell.execute_reply": "2021-11-03T13:14:20.866710Z",
     "shell.execute_reply.started": "2021-11-03T11:55:03.769993Z"
    },
    "papermill": {
     "duration": 0.031491,
     "end_time": "2021-11-03T13:14:20.866933",
     "exception": false,
     "start_time": "2021-11-03T13:14:20.835442",
     "status": "completed"
    },
    "tags": []
   },
   "outputs": [
    {
     "name": "stdout",
     "output_type": "stream",
     "text": [
      "(1373, 50) (560, 50)\n",
      "(1373,) (560,)\n"
     ]
    }
   ],
   "source": [
    "# Reshaping the Dataset in 3 parts\n",
    "time_step = 50\n",
    "x_train, y_train = dataset(train,time_step)\n",
    "x_test, y_test = dataset(test,time_step)\n",
    "\n",
    "# Checking the Shape\n",
    "print(x_train.shape,x_test.shape)\n",
    "print(y_train.shape,y_test.shape)"
   ]
  },
  {
   "cell_type": "code",
   "execution_count": 10,
   "id": "87946415",
   "metadata": {
    "execution": {
     "iopub.execute_input": "2021-11-03T13:14:20.912487Z",
     "iopub.status.busy": "2021-11-03T13:14:20.911829Z",
     "iopub.status.idle": "2021-11-03T13:14:20.917097Z",
     "shell.execute_reply": "2021-11-03T13:14:20.917685Z",
     "shell.execute_reply.started": "2021-11-03T11:55:32.069187Z"
    },
    "papermill": {
     "duration": 0.028989,
     "end_time": "2021-11-03T13:14:20.917858",
     "exception": false,
     "start_time": "2021-11-03T13:14:20.888869",
     "status": "completed"
    },
    "tags": []
   },
   "outputs": [
    {
     "name": "stdout",
     "output_type": "stream",
     "text": [
      "(1373, 50, 1) (560, 50, 1)\n",
      "(1373,) (560,)\n"
     ]
    }
   ],
   "source": [
    "# Reshaping the data to numpy array as per requirement for LSTM\n",
    "x_train = x_train.reshape(x_train.shape[0],x_train.shape[1],1)\n",
    "x_test = x_test.reshape(x_test.shape[0],x_test.shape[1],1)\n",
    "\n",
    "# Checking the Shape\n",
    "print(x_train.shape,x_test.shape)\n",
    "print(y_train.shape,y_test.shape)"
   ]
  },
  {
   "cell_type": "markdown",
   "id": "63d364b4",
   "metadata": {
    "papermill": {
     "duration": 0.02059,
     "end_time": "2021-11-03T13:14:20.959073",
     "exception": false,
     "start_time": "2021-11-03T13:14:20.938483",
     "status": "completed"
    },
    "tags": []
   },
   "source": [
    "## Applying LSTM Model"
   ]
  },
  {
   "cell_type": "code",
   "execution_count": 11,
   "id": "007a889d",
   "metadata": {
    "execution": {
     "iopub.execute_input": "2021-11-03T13:14:21.004252Z",
     "iopub.status.busy": "2021-11-03T13:14:21.003568Z",
     "iopub.status.idle": "2021-11-03T13:14:21.631860Z",
     "shell.execute_reply": "2021-11-03T13:14:21.631204Z",
     "shell.execute_reply.started": "2021-11-03T12:25:00.488408Z"
    },
    "papermill": {
     "duration": 0.652079,
     "end_time": "2021-11-03T13:14:21.632017",
     "exception": false,
     "start_time": "2021-11-03T13:14:20.979938",
     "status": "completed"
    },
    "tags": []
   },
   "outputs": [
    {
     "name": "stderr",
     "output_type": "stream",
     "text": [
      "\n",
      "User settings:\n",
      "\n",
      "   KMP_AFFINITY=granularity=fine,verbose,compact,1,0\n",
      "   KMP_BLOCKTIME=0\n",
      "   KMP_DUPLICATE_LIB_OK=True\n",
      "   KMP_INIT_AT_FORK=FALSE\n",
      "   KMP_SETTINGS=1\n",
      "   KMP_WARNINGS=0\n",
      "\n",
      "Effective settings:\n",
      "\n",
      "   KMP_ABORT_DELAY=0\n",
      "   KMP_ADAPTIVE_LOCK_PROPS='1,1024'\n",
      "   KMP_ALIGN_ALLOC=64\n",
      "   KMP_ALL_THREADPRIVATE=128\n",
      "   KMP_ATOMIC_MODE=2\n",
      "   KMP_BLOCKTIME=0\n",
      "   KMP_CPUINFO_FILE: value is not defined\n",
      "   KMP_DETERMINISTIC_REDUCTION=false\n",
      "   KMP_DEVICE_THREAD_LIMIT=2147483647\n",
      "   KMP_DISP_NUM_BUFFERS=7\n",
      "   KMP_DUPLICATE_LIB_OK=true\n",
      "   KMP_ENABLE_TASK_THROTTLING=true\n",
      "   KMP_FORCE_REDUCTION: value is not defined\n",
      "   KMP_FOREIGN_THREADS_THREADPRIVATE=true\n",
      "   KMP_FORKJOIN_BARRIER='2,2'\n",
      "   KMP_FORKJOIN_BARRIER_PATTERN='hyper,hyper'\n",
      "   KMP_GTID_MODE=3\n",
      "   KMP_HANDLE_SIGNALS=false\n",
      "   KMP_HOT_TEAMS_MAX_LEVEL=1\n",
      "   KMP_HOT_TEAMS_MODE=0\n",
      "   KMP_INIT_AT_FORK=true\n",
      "   KMP_LIBRARY=throughput\n",
      "   KMP_LOCK_KIND=queuing\n",
      "   KMP_MALLOC_POOL_INCR=1M\n",
      "   KMP_NUM_LOCKS_IN_BLOCK=1\n",
      "   KMP_PLAIN_BARRIER='2,2'\n",
      "   KMP_PLAIN_BARRIER_PATTERN='hyper,hyper'\n",
      "   KMP_REDUCTION_BARRIER='1,1'\n",
      "   KMP_REDUCTION_BARRIER_PATTERN='hyper,hyper'\n",
      "   KMP_SCHEDULE='static,balanced;guided,iterative'\n",
      "   KMP_SETTINGS=true\n",
      "   KMP_SPIN_BACKOFF_PARAMS='4096,100'\n",
      "   KMP_STACKOFFSET=64\n",
      "   KMP_STACKPAD=0\n",
      "   KMP_STACKSIZE=8M\n",
      "   KMP_STORAGE_MAP=false\n",
      "   KMP_TASKING=2\n",
      "   KMP_TASKLOOP_MIN_TASKS=0\n",
      "   KMP_TASK_STEALING_CONSTRAINT=1\n",
      "   KMP_TEAMS_THREAD_LIMIT=4\n",
      "   KMP_TOPOLOGY_METHOD=all\n",
      "   KMP_USE_YIELD=1\n",
      "   KMP_VERSION=false\n",
      "   KMP_WARNINGS=false\n",
      "   OMP_AFFINITY_FORMAT='OMP: pid %P tid %i thread %n bound to OS proc set {%A}'\n",
      "   OMP_ALLOCATOR=omp_default_mem_alloc\n",
      "   OMP_CANCELLATION=false\n",
      "   OMP_DEFAULT_DEVICE=0\n",
      "   OMP_DISPLAY_AFFINITY=false\n",
      "   OMP_DISPLAY_ENV=false\n",
      "   OMP_DYNAMIC=false\n",
      "   OMP_MAX_ACTIVE_LEVELS=1\n",
      "   OMP_MAX_TASK_PRIORITY=0\n",
      "   OMP_NESTED: deprecated; max-active-levels-var=1\n",
      "   OMP_NUM_THREADS: value is not defined\n",
      "   OMP_PLACES: value is not defined\n",
      "   OMP_PROC_BIND='intel'\n",
      "   OMP_SCHEDULE='static'\n",
      "   OMP_STACKSIZE=8M\n",
      "   OMP_TARGET_OFFLOAD=DEFAULT\n",
      "   OMP_THREAD_LIMIT=2147483647\n",
      "   OMP_WAIT_POLICY=PASSIVE\n",
      "   KMP_AFFINITY='verbose,warnings,respect,granularity=fine,compact,1,0'\n",
      "\n",
      "2021-11-03 13:14:21.041159: I tensorflow/core/common_runtime/process_util.cc:146] Creating new thread pool with default inter op setting: 2. Tune using inter_op_parallelism_threads for best performance.\n"
     ]
    }
   ],
   "source": [
    "model = Sequential()\n",
    "model.add(LSTM(64,return_sequences = True,input_shape = (50,1)))\n",
    "model.add(LSTM(32))\n",
    "model.add(Dense(16,activation='relu'))\n",
    "model.add(Dense(1))"
   ]
  },
  {
   "cell_type": "code",
   "execution_count": 12,
   "id": "a7bcf4bc",
   "metadata": {
    "execution": {
     "iopub.execute_input": "2021-11-03T13:14:21.679994Z",
     "iopub.status.busy": "2021-11-03T13:14:21.678940Z",
     "iopub.status.idle": "2021-11-03T13:14:21.693925Z",
     "shell.execute_reply": "2021-11-03T13:14:21.694496Z",
     "shell.execute_reply.started": "2021-11-03T12:25:03.068927Z"
    },
    "papermill": {
     "duration": 0.041202,
     "end_time": "2021-11-03T13:14:21.694738",
     "exception": false,
     "start_time": "2021-11-03T13:14:21.653536",
     "status": "completed"
    },
    "tags": []
   },
   "outputs": [
    {
     "name": "stdout",
     "output_type": "stream",
     "text": [
      "Model: \"sequential\"\n",
      "_________________________________________________________________\n",
      "Layer (type)                 Output Shape              Param #   \n",
      "=================================================================\n",
      "lstm (LSTM)                  (None, 50, 64)            16896     \n",
      "_________________________________________________________________\n",
      "lstm_1 (LSTM)                (None, 32)                12416     \n",
      "_________________________________________________________________\n",
      "dense (Dense)                (None, 16)                528       \n",
      "_________________________________________________________________\n",
      "dense_1 (Dense)              (None, 1)                 17        \n",
      "=================================================================\n",
      "Total params: 29,857\n",
      "Trainable params: 29,857\n",
      "Non-trainable params: 0\n",
      "_________________________________________________________________\n"
     ]
    }
   ],
   "source": [
    "model.summary()\n",
    "model.compile(loss='mse',optimizer='adam')"
   ]
  },
  {
   "cell_type": "code",
   "execution_count": 13,
   "id": "cbdee615",
   "metadata": {
    "execution": {
     "iopub.execute_input": "2021-11-03T13:14:21.740260Z",
     "iopub.status.busy": "2021-11-03T13:14:21.739610Z",
     "iopub.status.idle": "2021-11-03T13:15:08.186176Z",
     "shell.execute_reply": "2021-11-03T13:15:08.186614Z",
     "shell.execute_reply.started": "2021-11-03T12:25:07.029193Z"
    },
    "papermill": {
     "duration": 46.471072,
     "end_time": "2021-11-03T13:15:08.186909",
     "exception": false,
     "start_time": "2021-11-03T13:14:21.715837",
     "status": "completed"
    },
    "tags": []
   },
   "outputs": [
    {
     "name": "stdout",
     "output_type": "stream",
     "text": [
      "Epoch 1/15\n"
     ]
    },
    {
     "name": "stderr",
     "output_type": "stream",
     "text": [
      "2021-11-03 13:14:21.795981: I tensorflow/compiler/mlir/mlir_graph_optimization_pass.cc:185] None of the MLIR Optimization Passes are enabled (registered 2)\n"
     ]
    },
    {
     "name": "stdout",
     "output_type": "stream",
     "text": [
      "43/43 [==============================] - 8s 96ms/step - loss: 0.0207 - val_loss: 0.0015\n",
      "Epoch 2/15\n",
      "43/43 [==============================] - 3s 73ms/step - loss: 0.0014 - val_loss: 0.0016\n",
      "Epoch 3/15\n",
      "43/43 [==============================] - 3s 75ms/step - loss: 0.0011 - val_loss: 9.6892e-04\n",
      "Epoch 4/15\n",
      "43/43 [==============================] - 3s 75ms/step - loss: 0.0012 - val_loss: 9.9044e-04\n",
      "Epoch 5/15\n",
      "43/43 [==============================] - 3s 82ms/step - loss: 0.0011 - val_loss: 7.6767e-04\n",
      "Epoch 6/15\n",
      "43/43 [==============================] - 3s 73ms/step - loss: 9.8974e-04 - val_loss: 6.3939e-04\n",
      "Epoch 7/15\n",
      "43/43 [==============================] - 3s 74ms/step - loss: 8.7095e-04 - val_loss: 8.0021e-04\n",
      "Epoch 8/15\n",
      "43/43 [==============================] - 3s 74ms/step - loss: 8.7041e-04 - val_loss: 7.0535e-04\n",
      "Epoch 9/15\n",
      "43/43 [==============================] - 3s 73ms/step - loss: 8.4462e-04 - val_loss: 6.3642e-04\n",
      "Epoch 10/15\n",
      "43/43 [==============================] - 3s 73ms/step - loss: 7.2899e-04 - val_loss: 4.0383e-04\n",
      "Epoch 11/15\n",
      "43/43 [==============================] - 3s 73ms/step - loss: 7.1153e-04 - val_loss: 7.8820e-04\n",
      "Epoch 12/15\n",
      "43/43 [==============================] - 3s 71ms/step - loss: 7.7865e-04 - val_loss: 7.7802e-04\n",
      "Epoch 13/15\n",
      "43/43 [==============================] - 3s 73ms/step - loss: 7.2191e-04 - val_loss: 6.3242e-04\n"
     ]
    },
    {
     "data": {
      "text/plain": [
       "<keras.callbacks.History at 0x7f7f449c7c10>"
      ]
     },
     "execution_count": 13,
     "metadata": {},
     "output_type": "execute_result"
    }
   ],
   "source": [
    "earlystopping = callbacks.EarlyStopping(monitor =\"val_loss\",mode =\"min\",patience = 3,restore_best_weights = True)\n",
    "model.fit(x_train,y_train,validation_data=(x_test,y_test),epochs = 15,batch_size = 32,verbose=1,callbacks =[earlystopping])"
   ]
  },
  {
   "cell_type": "markdown",
   "id": "e874e4fb",
   "metadata": {
    "papermill": {
     "duration": 0.213966,
     "end_time": "2021-11-03T13:15:08.553012",
     "exception": false,
     "start_time": "2021-11-03T13:15:08.339046",
     "status": "completed"
    },
    "tags": []
   },
   "source": [
    "## Prediction on Test Data"
   ]
  },
  {
   "cell_type": "code",
   "execution_count": 14,
   "id": "b9a5ba78",
   "metadata": {
    "execution": {
     "iopub.execute_input": "2021-11-03T13:15:08.866326Z",
     "iopub.status.busy": "2021-11-03T13:15:08.865655Z",
     "iopub.status.idle": "2021-11-03T13:15:48.486624Z",
     "shell.execute_reply": "2021-11-03T13:15:48.485814Z",
     "shell.execute_reply.started": "2021-11-03T12:26:15.579518Z"
    },
    "papermill": {
     "duration": 39.780239,
     "end_time": "2021-11-03T13:15:48.486777",
     "exception": false,
     "start_time": "2021-11-03T13:15:08.706538",
     "status": "completed"
    },
    "tags": []
   },
   "outputs": [],
   "source": [
    "yp_train = model.predict(x_train)\n",
    "yp_test = model.predict(x_test)"
   ]
  },
  {
   "cell_type": "markdown",
   "id": "00ee10d3",
   "metadata": {
    "papermill": {
     "duration": 0.152954,
     "end_time": "2021-11-03T13:15:48.792637",
     "exception": false,
     "start_time": "2021-11-03T13:15:48.639683",
     "status": "completed"
    },
    "tags": []
   },
   "source": [
    "## Inverse Transformation "
   ]
  },
  {
   "cell_type": "code",
   "execution_count": 15,
   "id": "dafd22ff",
   "metadata": {
    "execution": {
     "iopub.execute_input": "2021-11-03T13:15:49.109056Z",
     "iopub.status.busy": "2021-11-03T13:15:49.108119Z",
     "iopub.status.idle": "2021-11-03T13:15:49.112316Z",
     "shell.execute_reply": "2021-11-03T13:15:49.112860Z",
     "shell.execute_reply.started": "2021-11-03T12:26:34.444124Z"
    },
    "papermill": {
     "duration": 0.165323,
     "end_time": "2021-11-03T13:15:49.113023",
     "exception": false,
     "start_time": "2021-11-03T13:15:48.947700",
     "status": "completed"
    },
    "tags": []
   },
   "outputs": [],
   "source": [
    "yp_train = scaler.inverse_transform(yp_train)\n",
    "yp_test = scaler.inverse_transform(yp_test)"
   ]
  },
  {
   "cell_type": "code",
   "execution_count": 16,
   "id": "d198b263",
   "metadata": {
    "execution": {
     "iopub.execute_input": "2021-11-03T13:15:49.422435Z",
     "iopub.status.busy": "2021-11-03T13:15:49.421488Z",
     "iopub.status.idle": "2021-11-03T13:15:49.427908Z",
     "shell.execute_reply": "2021-11-03T13:15:49.428384Z",
     "shell.execute_reply.started": "2021-11-03T12:27:04.448560Z"
    },
    "papermill": {
     "duration": 0.162781,
     "end_time": "2021-11-03T13:15:49.428554",
     "exception": false,
     "start_time": "2021-11-03T13:15:49.265773",
     "status": "completed"
    },
    "tags": []
   },
   "outputs": [
    {
     "name": "stdout",
     "output_type": "stream",
     "text": [
      "(1373, 50, 1) (560, 50, 1)\n",
      "(1373,) (560,)\n",
      "(1373, 1) (560, 1)\n"
     ]
    }
   ],
   "source": [
    "print(x_train.shape,x_test.shape)\n",
    "print(y_train.shape,y_test.shape)\n",
    "print(yp_train.shape,yp_test.shape)"
   ]
  },
  {
   "cell_type": "markdown",
   "id": "46b64c8a",
   "metadata": {
    "papermill": {
     "duration": 0.155794,
     "end_time": "2021-11-03T13:15:49.739925",
     "exception": false,
     "start_time": "2021-11-03T13:15:49.584131",
     "status": "completed"
    },
    "tags": []
   },
   "source": [
    "## Evaluating the Model using metrics"
   ]
  },
  {
   "cell_type": "code",
   "execution_count": 17,
   "id": "a9465279",
   "metadata": {
    "execution": {
     "iopub.execute_input": "2021-11-03T13:15:50.054245Z",
     "iopub.status.busy": "2021-11-03T13:15:50.053209Z",
     "iopub.status.idle": "2021-11-03T13:15:50.058958Z",
     "shell.execute_reply": "2021-11-03T13:15:50.059416Z",
     "shell.execute_reply.started": "2021-11-03T12:31:59.347753Z"
    },
    "papermill": {
     "duration": 0.165312,
     "end_time": "2021-11-03T13:15:50.059584",
     "exception": false,
     "start_time": "2021-11-03T13:15:49.894272",
     "status": "completed"
    },
    "tags": []
   },
   "outputs": [
    {
     "name": "stdout",
     "output_type": "stream",
     "text": [
      "MAE for Train Data: 159.39635173178613\n",
      "MAE for Test Data: 109.62841021291125\n",
      "\n",
      "MSE for Train Data: 27524.40075529275\n",
      "MSE for Test Data: 12213.205665686814\n",
      "\n"
     ]
    }
   ],
   "source": [
    "# MAE\n",
    "print(\"MAE for Train Data: {}\".format(mean_absolute_error(y_train,yp_train)))\n",
    "print(\"MAE for Test Data: {}\\n\".format(mean_absolute_error(y_test,yp_test)))\n",
    "\n",
    "# MSE\n",
    "print(\"MSE for Train Data: {}\".format(mean_squared_error(y_train,yp_train)))\n",
    "print(\"MSE for Test Data: {}\\n\".format(mean_squared_error(y_test,yp_test)))"
   ]
  },
  {
   "cell_type": "markdown",
   "id": "6b577f9d",
   "metadata": {
    "papermill": {
     "duration": 0.15425,
     "end_time": "2021-11-03T13:15:50.369508",
     "exception": false,
     "start_time": "2021-11-03T13:15:50.215258",
     "status": "completed"
    },
    "tags": []
   },
   "source": [
    "## Plotting the Predicted Output"
   ]
  },
  {
   "cell_type": "code",
   "execution_count": 18,
   "id": "539ef98f",
   "metadata": {
    "execution": {
     "iopub.execute_input": "2021-11-03T13:15:50.684931Z",
     "iopub.status.busy": "2021-11-03T13:15:50.683399Z",
     "iopub.status.idle": "2021-11-03T13:15:50.882669Z",
     "shell.execute_reply": "2021-11-03T13:15:50.883159Z",
     "shell.execute_reply.started": "2021-11-03T12:40:15.991404Z"
    },
    "papermill": {
     "duration": 0.361538,
     "end_time": "2021-11-03T13:15:50.883329",
     "exception": false,
     "start_time": "2021-11-03T13:15:50.521791",
     "status": "completed"
    },
    "tags": []
   },
   "outputs": [
    {
     "data": {
      "image/png": "[encoded data removed]",
      "text/plain": [
       "<Figure size 432x288 with 1 Axes>"
      ]
     },
     "metadata": {
      "needs_background": "light"
     },
     "output_type": "display_data"
    }
   ],
   "source": [
    "# Shifting train predictions for plotting\n",
    "look_back=50\n",
    "yp_train_plot = np.empty_like(temp)\n",
    "yp_train_plot[:,:] = np.nan\n",
    "yp_train_plot[look_back:len(yp_train)+look_back,:] = yp_train\n",
    "\n",
    "# Shifting test predictions for plotting\n",
    "yp_test_plot = np.empty_like(temp)\n",
    "yp_test_plot[:, :] = np.nan\n",
    "yp_test_plot[len(yp_train)+(look_back*2)+1:len(temp)-1,:] = yp_test\n",
    "\n",
    "# Plotting predictions\n",
    "plt.plot(scaler.inverse_transform(temp))\n",
    "plt.plot(yp_train_plot)\n",
    "plt.plot(yp_test_plot)\n",
    "plt.show()"
   ]
  },
  {
   "cell_type": "markdown",
   "id": "ef22c564",
   "metadata": {
    "papermill": {
     "duration": 0.156778,
     "end_time": "2021-11-03T13:15:51.197257",
     "exception": false,
     "start_time": "2021-11-03T13:15:51.040479",
     "status": "completed"
    },
    "tags": []
   },
   "source": [
    "> **Orange Line: Train Data**\n",
    ">\n",
    "> **Green Line: Test Data**"
   ]
  },
  {
   "cell_type": "markdown",
   "id": "c66a915f",
   "metadata": {
    "papermill": {
     "duration": 0.155578,
     "end_time": "2021-11-03T13:15:51.509830",
     "exception": false,
     "start_time": "2021-11-03T13:15:51.354252",
     "status": "completed"
    },
    "tags": []
   },
   "source": [
    "## Predicting & Forecasting for next 30 Days"
   ]
  },
  {
   "cell_type": "code",
   "execution_count": 19,
   "id": "96561224",
   "metadata": {
    "execution": {
     "iopub.execute_input": "2021-11-03T13:15:51.825003Z",
     "iopub.status.busy": "2021-11-03T13:15:51.823979Z",
     "iopub.status.idle": "2021-11-03T13:15:51.827998Z",
     "shell.execute_reply": "2021-11-03T13:15:51.828457Z",
     "shell.execute_reply.started": "2021-11-03T12:59:04.889967Z"
    },
    "papermill": {
     "duration": 0.163403,
     "end_time": "2021-11-03T13:15:51.828632",
     "exception": false,
     "start_time": "2021-11-03T13:15:51.665229",
     "status": "completed"
    },
    "tags": []
   },
   "outputs": [],
   "source": [
    "x_input = test[(len(test)-50):].reshape(1,-1) # We take last 50 days data from test data for our future prediction \n",
    "temp_input = list(x_input)\n",
    "temp_input = temp_input[0].tolist() # Test data"
   ]
  },
  {
   "cell_type": "code",
   "execution_count": 20,
   "id": "07eeea9d",
   "metadata": {
    "execution": {
     "iopub.execute_input": "2021-11-03T13:15:52.144742Z",
     "iopub.status.busy": "2021-11-03T13:15:52.143776Z",
     "iopub.status.idle": "2021-11-03T13:15:53.816569Z",
     "shell.execute_reply": "2021-11-03T13:15:53.815940Z",
     "shell.execute_reply.started": "2021-11-03T13:05:54.415284Z"
    },
    "papermill": {
     "duration": 1.833078,
     "end_time": "2021-11-03T13:15:53.816719",
     "exception": false,
     "start_time": "2021-11-03T13:15:51.983641",
     "status": "completed"
    },
    "tags": []
   },
   "outputs": [
    {
     "name": "stdout",
     "output_type": "stream",
     "text": [
      "1 day output [[0.15451209]]\n",
      "2 day output [[0.1555203]]\n",
      "3 day output [[0.15612668]]\n",
      "4 day output [[0.15644695]]\n",
      "5 day output [[0.15656786]]\n",
      "6 day output [[0.15655291]]\n",
      "7 day output [[0.15644786]]\n",
      "8 day output [[0.15628459]]\n",
      "9 day output [[0.15608461]]\n",
      "10 day output [[0.15586287]]\n",
      "11 day output [[0.15562935]]\n",
      "12 day output [[0.1553906]]\n",
      "13 day output [[0.15515096]]\n",
      "14 day output [[0.15491319]]\n",
      "15 day output [[0.15467885]]\n",
      "16 day output [[0.1544492]]\n",
      "17 day output [[0.15422446]]\n",
      "18 day output [[0.15400538]]\n",
      "19 day output [[0.15379226]]\n",
      "20 day output [[0.15358523]]\n",
      "21 day output [[0.153384]]\n",
      "22 day output [[0.1531885]]\n",
      "23 day output [[0.15299883]]\n",
      "24 day output [[0.15281494]]\n",
      "25 day output [[0.15263645]]\n",
      "26 day output [[0.1524633]]\n",
      "27 day output [[0.15229534]]\n",
      "28 day output [[0.152132]]\n",
      "29 day output [[0.15197365]]\n"
     ]
    }
   ],
   "source": [
    "# Predictions for next 30 days\n",
    "\n",
    "lstm_op = []\n",
    "n_steps = 50\n",
    "i = 0\n",
    "while(i < 30):\n",
    "    if(len(temp_input)>50):\n",
    "        x_input=np.array(temp_input[1:])\n",
    "        \n",
    "        #print(\"{} day input {}\".format(i,x_input))\n",
    "        x_input=x_input.reshape(1,-1)\n",
    "        x_input = x_input.reshape((1, n_steps, 1))\n",
    "        \n",
    "        yp = model.predict(x_input, verbose=0)\n",
    "        print(\"{} day output {}\".format(i,yp))\n",
    "        \n",
    "        temp_input.extend(yp[0].tolist())\n",
    "        temp_input=temp_input[1:]\n",
    "        lstm_op.extend(yp.tolist())\n",
    "        i=i+1\n",
    "    else:\n",
    "        x_input = x_input.reshape((1,n_steps,1))\n",
    "        yp = model.predict(x_input,verbose=0)\n",
    "        \n",
    "        temp_input.extend(yp[0].tolist())\n",
    "        lstm_op.extend(yp.tolist())\n",
    "        i=i+1"
   ]
  },
  {
   "cell_type": "code",
   "execution_count": 21,
   "id": "5703e3f9",
   "metadata": {
    "execution": {
     "iopub.execute_input": "2021-11-03T13:15:54.140961Z",
     "iopub.status.busy": "2021-11-03T13:15:54.139901Z",
     "iopub.status.idle": "2021-11-03T13:15:54.548038Z",
     "shell.execute_reply": "2021-11-03T13:15:54.548491Z",
     "shell.execute_reply.started": "2021-11-03T13:09:46.749885Z"
    },
    "papermill": {
     "duration": 0.572203,
     "end_time": "2021-11-03T13:15:54.548683",
     "exception": false,
     "start_time": "2021-11-03T13:15:53.976480",
     "status": "completed"
    },
    "tags": []
   },
   "outputs": [
    {
     "data": {
      "text/plain": [
       "[<matplotlib.lines.Line2D at 0x7f7f446c0910>]"
      ]
     },
     "execution_count": 21,
     "metadata": {},
     "output_type": "execute_result"
    },
    {
     "data": {
      "image/png": "[encoded data removed]",
      "text/plain": [
       "<Figure size 432x288 with 1 Axes>"
      ]
     },
     "metadata": {
      "needs_background": "light"
     },
     "output_type": "display_data"
    }
   ],
   "source": [
    "day_new = np.arange(1,51)\n",
    "day_pred=np.arange(51,51+30)\n",
    "\n",
    "plt.plot(day_new,scaler.inverse_transform(temp[len(temp)-50:]))\n",
    "plt.plot(day_pred,scaler.inverse_transform(lstm_op))"
   ]
  },
  {
   "cell_type": "markdown",
   "id": "f2292b38",
   "metadata": {
    "papermill": {
     "duration": 0.161929,
     "end_time": "2021-11-03T13:15:54.873346",
     "exception": false,
     "start_time": "2021-11-03T13:15:54.711417",
     "status": "completed"
    },
    "tags": []
   },
   "source": [
    "## Conclusion\n",
    "> #### Used Stacked LSTM for Stock Market Prediction & Done Forecasting for next 30 days."
   ]
  }
 ],
 "metadata": {
  "kernelspec": {
   "display_name": "Python 3",
   "language": "python",
   "name": "python3"
  },
  "language_info": {
   "codemirror_mode": {
    "name": "ipython",
    "version": 3
   },
   "file_extension": ".py",
   "mimetype": "text/x-python",
   "name": "python",
   "nbconvert_exporter": "python",
   "pygments_lexer": "ipython3",
   "version": "3.7.10"
  },
  "papermill": {
   "default_parameters": {},
   "duration": 112.511256,
   "end_time": "2021-11-03T13:15:58.341118",
   "environment_variables": {},
   "exception": null,
   "input_path": "__notebook__.ipynb",
   "output_path": "__notebook__.ipynb",
   "parameters": {},
   "start_time": "2021-11-03T13:14:05.829862",
   "version": "2.3.3"
  }
 },
 "nbformat": 4,
 "nbformat_minor": 5
}
