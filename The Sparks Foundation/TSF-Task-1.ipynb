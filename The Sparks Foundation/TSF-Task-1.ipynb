{
 "cells": [
  {
   "cell_type": "markdown",
   "id": "ce7dacda",
   "metadata": {
    "papermill": {
     "duration": 0.012044,
     "end_time": "2021-06-28T17:41:43.031039",
     "exception": false,
     "start_time": "2021-06-28T17:41:43.018995",
     "status": "completed"
    },
    "tags": []
   },
   "source": [
    "## **Aim:** To predict percentage of an student based on number of hours he study.\n",
    "<br>\n",
    "\n",
    "> #### **By:** Siddharth Kulkarni\n",
    "> #### **Technique used:** Supervised ML - Linear Regression\n",
    "> #### **Language used:** R"
   ]
  },
  {
   "cell_type": "markdown",
   "id": "360f07a1",
   "metadata": {
    "papermill": {
     "duration": 0.010611,
     "end_time": "2021-06-28T17:41:43.054135",
     "exception": false,
     "start_time": "2021-06-28T17:41:43.043524",
     "status": "completed"
    },
    "tags": []
   },
   "source": [
    "## **Loading Libraries & Importing Dataset**"
   ]
  },
  {
   "cell_type": "code",
   "execution_count": 1,
   "id": "9a8088a6",
   "metadata": {
    "execution": {
     "iopub.execute_input": "2021-06-28T17:41:43.083812Z",
     "iopub.status.busy": "2021-06-28T17:41:43.083143Z",
     "iopub.status.idle": "2021-06-28T17:41:43.926122Z",
     "shell.execute_reply": "2021-06-28T17:41:43.925097Z"
    },
    "papermill": {
     "duration": 0.861536,
     "end_time": "2021-06-28T17:41:43.926392",
     "exception": false,
     "start_time": "2021-06-28T17:41:43.064856",
     "status": "completed"
    },
    "tags": []
   },
   "outputs": [
    {
     "name": "stderr",
     "output_type": "stream",
     "text": [
      "\n",
      "Attaching package: ‘dplyr’\n",
      "\n",
      "\n",
      "The following objects are masked from ‘package:stats’:\n",
      "\n",
      "    filter, lag\n",
      "\n",
      "\n",
      "The following objects are masked from ‘package:base’:\n",
      "\n",
      "    intersect, setdiff, setequal, union\n",
      "\n",
      "\n",
      "\n",
      "\u001b[36m──\u001b[39m \u001b[1m\u001b[1mColumn specification\u001b[1m\u001b[22m \u001b[36m────────────────────────────────────────────────────────\u001b[39m\n",
      "cols(\n",
      "  Hours = \u001b[32mcol_double()\u001b[39m,\n",
      "  Scores = \u001b[32mcol_double()\u001b[39m\n",
      ")\n",
      "\n",
      "\n"
     ]
    },
    {
     "data": {
      "text/html": [],
      "text/latex": [],
      "text/markdown": [],
      "text/plain": [
       "character(0)"
      ]
     },
     "metadata": {},
     "output_type": "display_data"
    },
    {
     "name": "stdout",
     "output_type": "stream",
     "text": [
      "[1] \"Dataset\"\n"
     ]
    },
    {
     "data": {
      "text/html": [],
      "text/latex": [],
      "text/markdown": [],
      "text/plain": [
       "character(0)"
      ]
     },
     "metadata": {},
     "output_type": "display_data"
    },
    {
     "data": {
      "text/html": [
       "<table class=\"dataframe\">\n",
       "<caption>A tibble: 6 × 2</caption>\n",
       "<thead>\n",
       "\t<tr><th scope=col>Hours</th><th scope=col>Scores</th></tr>\n",
       "\t<tr><th scope=col>&lt;dbl&gt;</th><th scope=col>&lt;dbl&gt;</th></tr>\n",
       "</thead>\n",
       "<tbody>\n",
       "\t<tr><td>2.5</td><td>21</td></tr>\n",
       "\t<tr><td>5.1</td><td>47</td></tr>\n",
       "\t<tr><td>3.2</td><td>27</td></tr>\n",
       "\t<tr><td>8.5</td><td>75</td></tr>\n",
       "\t<tr><td>3.5</td><td>30</td></tr>\n",
       "\t<tr><td>1.5</td><td>20</td></tr>\n",
       "</tbody>\n",
       "</table>\n"
      ],
      "text/latex": [
       "A tibble: 6 × 2\n",
       "\\begin{tabular}{ll}\n",
       " Hours & Scores\\\\\n",
       " <dbl> & <dbl>\\\\\n",
       "\\hline\n",
       "\t 2.5 & 21\\\\\n",
       "\t 5.1 & 47\\\\\n",
       "\t 3.2 & 27\\\\\n",
       "\t 8.5 & 75\\\\\n",
       "\t 3.5 & 30\\\\\n",
       "\t 1.5 & 20\\\\\n",
       "\\end{tabular}\n"
      ],
      "text/markdown": [
       "\n",
       "A tibble: 6 × 2\n",
       "\n",
       "| Hours &lt;dbl&gt; | Scores &lt;dbl&gt; |\n",
       "|---|---|\n",
       "| 2.5 | 21 |\n",
       "| 5.1 | 47 |\n",
       "| 3.2 | 27 |\n",
       "| 8.5 | 75 |\n",
       "| 3.5 | 30 |\n",
       "| 1.5 | 20 |\n",
       "\n"
      ],
      "text/plain": [
       "  Hours Scores\n",
       "1 2.5   21    \n",
       "2 5.1   47    \n",
       "3 3.2   27    \n",
       "4 8.5   75    \n",
       "5 3.5   30    \n",
       "6 1.5   20    "
      ]
     },
     "metadata": {},
     "output_type": "display_data"
    }
   ],
   "source": [
    "library(readr)\n",
    "library(dplyr)\n",
    "library(ggplot2)\n",
    "\n",
    "st_record = read_csv(\"../input/tsf-ds-ba-task-1/st_record.csv\")\n",
    "paste()\n",
    "print(\"Dataset\")\n",
    "paste()\n",
    "head(st_record)"
   ]
  },
  {
   "cell_type": "markdown",
   "id": "aa64e790",
   "metadata": {
    "papermill": {
     "duration": 0.016463,
     "end_time": "2021-06-28T17:41:43.959162",
     "exception": false,
     "start_time": "2021-06-28T17:41:43.942699",
     "status": "completed"
    },
    "tags": []
   },
   "source": [
    "## **Data Visuals** \n",
    "<br>\n",
    "\n",
    "> #### **Plotting independent variable on x axis(hours) & dependent variable on y axis(scores)**"
   ]
  },
  {
   "cell_type": "code",
   "execution_count": 2,
   "id": "fcfe3090",
   "metadata": {
    "execution": {
     "iopub.execute_input": "2021-06-28T17:41:44.032608Z",
     "iopub.status.busy": "2021-06-28T17:41:43.995139Z",
     "iopub.status.idle": "2021-06-28T17:41:46.003063Z",
     "shell.execute_reply": "2021-06-28T17:41:45.986094Z"
    },
    "papermill": {
     "duration": 2.028929,
     "end_time": "2021-06-28T17:41:46.003406",
     "exception": false,
     "start_time": "2021-06-28T17:41:43.974477",
     "status": "completed"
    },
    "tags": []
   },
   "outputs": [
    {
     "name": "stderr",
     "output_type": "stream",
     "text": [
      "`geom_smooth()` using formula 'y ~ x'\n",
      "\n"
     ]
    },
    {
     "data": {
      "image/png": "[encoded data removed]"
     },
     "metadata": {
      "image/png": {
       "height": 420,
       "width": 420
      }
     },
     "output_type": "display_data"
    }
   ],
   "source": [
    "ggplot(data = st_record,aes(x = Hours,y = Scores)) + geom_point(colour = \"black\",size = 1.5) + geom_smooth(method = \"lm\",se = FALSE,colour = \"red\",size = 0.8)"
   ]
  },
  {
   "cell_type": "markdown",
   "id": "05a5c3f9",
   "metadata": {
    "papermill": {
     "duration": 0.017218,
     "end_time": "2021-06-28T17:41:46.038199",
     "exception": false,
     "start_time": "2021-06-28T17:41:46.020981",
     "status": "completed"
    },
    "tags": []
   },
   "source": [
    "> **We observe that there is a linear relationship between study hours and scores.**\n",
    "\n",
    "> **The more you study the more you score!**\n",
    "\n",
    "> **No outlier points in the data.**"
   ]
  },
  {
   "cell_type": "markdown",
   "id": "a54b3c6d",
   "metadata": {
    "papermill": {
     "duration": 0.016315,
     "end_time": "2021-06-28T17:41:46.070868",
     "exception": false,
     "start_time": "2021-06-28T17:41:46.054553",
     "status": "completed"
    },
    "tags": []
   },
   "source": [
    "## **Data Modeling** \n",
    "<br>\n",
    "\n",
    "> #### **Linear Regression**"
   ]
  },
  {
   "cell_type": "code",
   "execution_count": 3,
   "id": "4a94f449",
   "metadata": {
    "execution": {
     "iopub.execute_input": "2021-06-28T17:41:46.110960Z",
     "iopub.status.busy": "2021-06-28T17:41:46.109647Z",
     "iopub.status.idle": "2021-06-28T17:41:46.142625Z",
     "shell.execute_reply": "2021-06-28T17:41:46.140578Z"
    },
    "papermill": {
     "duration": 0.055439,
     "end_time": "2021-06-28T17:41:46.142865",
     "exception": false,
     "start_time": "2021-06-28T17:41:46.087426",
     "status": "completed"
    },
    "tags": []
   },
   "outputs": [
    {
     "data": {
      "text/plain": [
       "\n",
       "Call:\n",
       "lm(formula = Scores ~ Hours, data = st_record)\n",
       "\n",
       "Residuals:\n",
       "    Min      1Q  Median      3Q     Max \n",
       "-10.578  -5.340   1.839   4.593   7.265 \n",
       "\n",
       "Coefficients:\n",
       "            Estimate Std. Error t value Pr(>|t|)    \n",
       "(Intercept)   2.4837     2.5317   0.981    0.337    \n",
       "Hours         9.7758     0.4529  21.583   <2e-16 ***\n",
       "---\n",
       "Signif. codes:  0 ‘***’ 0.001 ‘**’ 0.01 ‘*’ 0.05 ‘.’ 0.1 ‘ ’ 1\n",
       "\n",
       "Residual standard error: 5.603 on 23 degrees of freedom\n",
       "Multiple R-squared:  0.9529,\tAdjusted R-squared:  0.9509 \n",
       "F-statistic: 465.8 on 1 and 23 DF,  p-value: < 2.2e-16\n"
      ]
     },
     "metadata": {},
     "output_type": "display_data"
    }
   ],
   "source": [
    "x = lm(Scores ~ Hours,data = st_record)\n",
    "summary(x)"
   ]
  },
  {
   "cell_type": "markdown",
   "id": "3b89116d",
   "metadata": {
    "papermill": {
     "duration": 0.019497,
     "end_time": "2021-06-28T17:41:46.180408",
     "exception": false,
     "start_time": "2021-06-28T17:41:46.160911",
     "status": "completed"
    },
    "tags": []
   },
   "source": [
    "> **R-square value: 0.95**\n",
    "\n",
    "> **p-value < 2.2e-16**"
   ]
  },
  {
   "cell_type": "markdown",
   "id": "140a202e",
   "metadata": {
    "papermill": {
     "duration": 0.018595,
     "end_time": "2021-06-28T17:41:46.216079",
     "exception": false,
     "start_time": "2021-06-28T17:41:46.197484",
     "status": "completed"
    },
    "tags": []
   },
   "source": [
    "## **Coefficient of Correlation (r)**"
   ]
  },
  {
   "cell_type": "code",
   "execution_count": 4,
   "id": "039ea1b8",
   "metadata": {
    "execution": {
     "iopub.execute_input": "2021-06-28T17:41:46.258623Z",
     "iopub.status.busy": "2021-06-28T17:41:46.257112Z",
     "iopub.status.idle": "2021-06-28T17:41:46.274690Z",
     "shell.execute_reply": "2021-06-28T17:41:46.273315Z"
    },
    "papermill": {
     "duration": 0.040781,
     "end_time": "2021-06-28T17:41:46.274881",
     "exception": false,
     "start_time": "2021-06-28T17:41:46.234100",
     "status": "completed"
    },
    "tags": []
   },
   "outputs": [
    {
     "data": {
      "text/html": [
       "<style>\n",
       ".dl-inline {width: auto; margin:0; padding: 0}\n",
       ".dl-inline>dt, .dl-inline>dd {float: none; width: auto; display: inline-block}\n",
       ".dl-inline>dt::after {content: \":\\0020\"; padding-right: .5ex}\n",
       ".dl-inline>dt:not(:first-of-type) {padding-left: .5ex}\n",
       "</style><dl class=dl-inline><dt>(Intercept)</dt><dd>2.48367340537321</dd><dt>Hours</dt><dd>9.77580339078747</dd></dl>\n"
      ],
      "text/latex": [
       "\\begin{description*}\n",
       "\\item[(Intercept)] 2.48367340537321\n",
       "\\item[Hours] 9.77580339078747\n",
       "\\end{description*}\n"
      ],
      "text/markdown": [
       "(Intercept)\n",
       ":   2.48367340537321Hours\n",
       ":   9.77580339078747\n",
       "\n"
      ],
      "text/plain": [
       "(Intercept)       Hours \n",
       "   2.483673    9.775803 "
      ]
     },
     "metadata": {},
     "output_type": "display_data"
    }
   ],
   "source": [
    "coef(x)"
   ]
  },
  {
   "cell_type": "markdown",
   "id": "12254fe2",
   "metadata": {
    "papermill": {
     "duration": 0.019154,
     "end_time": "2021-06-28T17:41:46.312837",
     "exception": false,
     "start_time": "2021-06-28T17:41:46.293683",
     "status": "completed"
    },
    "tags": []
   },
   "source": [
    "## **Adding a column of Predicted values to the dataframe**"
   ]
  },
  {
   "cell_type": "code",
   "execution_count": 5,
   "id": "fcf7e778",
   "metadata": {
    "execution": {
     "iopub.execute_input": "2021-06-28T17:41:46.355097Z",
     "iopub.status.busy": "2021-06-28T17:41:46.353812Z",
     "iopub.status.idle": "2021-06-28T17:41:46.392387Z",
     "shell.execute_reply": "2021-06-28T17:41:46.390874Z"
    },
    "papermill": {
     "duration": 0.062401,
     "end_time": "2021-06-28T17:41:46.392562",
     "exception": false,
     "start_time": "2021-06-28T17:41:46.330161",
     "status": "completed"
    },
    "tags": []
   },
   "outputs": [
    {
     "data": {
      "text/html": [
       "<table class=\"dataframe\">\n",
       "<caption>A tibble: 6 × 3</caption>\n",
       "<thead>\n",
       "\t<tr><th scope=col>Hours</th><th scope=col>Scores</th><th scope=col>Predicted_Scores</th></tr>\n",
       "\t<tr><th scope=col>&lt;dbl&gt;</th><th scope=col>&lt;dbl&gt;</th><th scope=col>&lt;dbl&gt;</th></tr>\n",
       "</thead>\n",
       "<tbody>\n",
       "\t<tr><td>2.5</td><td>21</td><td>26.92318</td></tr>\n",
       "\t<tr><td>5.1</td><td>47</td><td>52.34027</td></tr>\n",
       "\t<tr><td>3.2</td><td>27</td><td>33.76624</td></tr>\n",
       "\t<tr><td>8.5</td><td>75</td><td>85.57800</td></tr>\n",
       "\t<tr><td>3.5</td><td>30</td><td>36.69899</td></tr>\n",
       "\t<tr><td>1.5</td><td>20</td><td>17.14738</td></tr>\n",
       "</tbody>\n",
       "</table>\n"
      ],
      "text/latex": [
       "A tibble: 6 × 3\n",
       "\\begin{tabular}{lll}\n",
       " Hours & Scores & Predicted\\_Scores\\\\\n",
       " <dbl> & <dbl> & <dbl>\\\\\n",
       "\\hline\n",
       "\t 2.5 & 21 & 26.92318\\\\\n",
       "\t 5.1 & 47 & 52.34027\\\\\n",
       "\t 3.2 & 27 & 33.76624\\\\\n",
       "\t 8.5 & 75 & 85.57800\\\\\n",
       "\t 3.5 & 30 & 36.69899\\\\\n",
       "\t 1.5 & 20 & 17.14738\\\\\n",
       "\\end{tabular}\n"
      ],
      "text/markdown": [
       "\n",
       "A tibble: 6 × 3\n",
       "\n",
       "| Hours &lt;dbl&gt; | Scores &lt;dbl&gt; | Predicted_Scores &lt;dbl&gt; |\n",
       "|---|---|---|\n",
       "| 2.5 | 21 | 26.92318 |\n",
       "| 5.1 | 47 | 52.34027 |\n",
       "| 3.2 | 27 | 33.76624 |\n",
       "| 8.5 | 75 | 85.57800 |\n",
       "| 3.5 | 30 | 36.69899 |\n",
       "| 1.5 | 20 | 17.14738 |\n",
       "\n"
      ],
      "text/plain": [
       "  Hours Scores Predicted_Scores\n",
       "1 2.5   21     26.92318        \n",
       "2 5.1   47     52.34027        \n",
       "3 3.2   27     33.76624        \n",
       "4 8.5   75     85.57800        \n",
       "5 3.5   30     36.69899        \n",
       "6 1.5   20     17.14738        "
      ]
     },
     "metadata": {},
     "output_type": "display_data"
    }
   ],
   "source": [
    "st_record = st_record %>% mutate(Predicted_Scores = fitted(x))\n",
    "head(st_record)"
   ]
  },
  {
   "cell_type": "markdown",
   "id": "b0eb0a89",
   "metadata": {
    "papermill": {
     "duration": 0.020522,
     "end_time": "2021-06-28T17:41:46.433637",
     "exception": false,
     "start_time": "2021-06-28T17:41:46.413115",
     "status": "completed"
    },
    "tags": []
   },
   "source": [
    "## **Predicted score if student studies for 9.25 hours**"
   ]
  },
  {
   "cell_type": "code",
   "execution_count": 6,
   "id": "16c7fc52",
   "metadata": {
    "execution": {
     "iopub.execute_input": "2021-06-28T17:41:46.479162Z",
     "iopub.status.busy": "2021-06-28T17:41:46.477513Z",
     "iopub.status.idle": "2021-06-28T17:41:46.495874Z",
     "shell.execute_reply": "2021-06-28T17:41:46.494548Z"
    },
    "papermill": {
     "duration": 0.042766,
     "end_time": "2021-06-28T17:41:46.496069",
     "exception": false,
     "start_time": "2021-06-28T17:41:46.453303",
     "status": "completed"
    },
    "tags": []
   },
   "outputs": [
    {
     "data": {
      "text/html": [
       "92.9098547701573"
      ],
      "text/latex": [
       "92.9098547701573"
      ],
      "text/markdown": [
       "92.9098547701573"
      ],
      "text/plain": [
       "[1] 92.90985"
      ]
     },
     "metadata": {},
     "output_type": "display_data"
    }
   ],
   "source": [
    "st_score = coef(x)[[1]] + coef(x)[[2]] * 9.25\n",
    "st_score"
   ]
  },
  {
   "cell_type": "markdown",
   "id": "2b32285b",
   "metadata": {
    "papermill": {
     "duration": 0.021862,
     "end_time": "2021-06-28T17:41:46.539441",
     "exception": false,
     "start_time": "2021-06-28T17:41:46.517579",
     "status": "completed"
    },
    "tags": []
   },
   "source": [
    "## **Status of Students based on their Scores**"
   ]
  },
  {
   "cell_type": "code",
   "execution_count": 7,
   "id": "3a4b6e9b",
   "metadata": {
    "execution": {
     "iopub.execute_input": "2021-06-28T17:41:46.584380Z",
     "iopub.status.busy": "2021-06-28T17:41:46.583000Z",
     "iopub.status.idle": "2021-06-28T17:41:46.615494Z",
     "shell.execute_reply": "2021-06-28T17:41:46.614414Z"
    },
    "papermill": {
     "duration": 0.056071,
     "end_time": "2021-06-28T17:41:46.615684",
     "exception": false,
     "start_time": "2021-06-28T17:41:46.559613",
     "status": "completed"
    },
    "tags": []
   },
   "outputs": [
    {
     "data": {
      "text/html": [
       "<table class=\"dataframe\">\n",
       "<caption>A tibble: 6 × 4</caption>\n",
       "<thead>\n",
       "\t<tr><th scope=col>Hours</th><th scope=col>Scores</th><th scope=col>Predicted_Scores</th><th scope=col>Result_Status</th></tr>\n",
       "\t<tr><th scope=col>&lt;dbl&gt;</th><th scope=col>&lt;dbl&gt;</th><th scope=col>&lt;dbl&gt;</th><th scope=col>&lt;chr&gt;</th></tr>\n",
       "</thead>\n",
       "<tbody>\n",
       "\t<tr><td>2.5</td><td>21</td><td>26.92318</td><td>Fail       </td></tr>\n",
       "\t<tr><td>5.1</td><td>47</td><td>52.34027</td><td>Pass       </td></tr>\n",
       "\t<tr><td>3.2</td><td>27</td><td>33.76624</td><td>Fail       </td></tr>\n",
       "\t<tr><td>8.5</td><td>75</td><td>85.57800</td><td>Distinction</td></tr>\n",
       "\t<tr><td>3.5</td><td>30</td><td>36.69899</td><td>Pass       </td></tr>\n",
       "\t<tr><td>1.5</td><td>20</td><td>17.14738</td><td>Fail       </td></tr>\n",
       "</tbody>\n",
       "</table>\n"
      ],
      "text/latex": [
       "A tibble: 6 × 4\n",
       "\\begin{tabular}{llll}\n",
       " Hours & Scores & Predicted\\_Scores & Result\\_Status\\\\\n",
       " <dbl> & <dbl> & <dbl> & <chr>\\\\\n",
       "\\hline\n",
       "\t 2.5 & 21 & 26.92318 & Fail       \\\\\n",
       "\t 5.1 & 47 & 52.34027 & Pass       \\\\\n",
       "\t 3.2 & 27 & 33.76624 & Fail       \\\\\n",
       "\t 8.5 & 75 & 85.57800 & Distinction\\\\\n",
       "\t 3.5 & 30 & 36.69899 & Pass       \\\\\n",
       "\t 1.5 & 20 & 17.14738 & Fail       \\\\\n",
       "\\end{tabular}\n"
      ],
      "text/markdown": [
       "\n",
       "A tibble: 6 × 4\n",
       "\n",
       "| Hours &lt;dbl&gt; | Scores &lt;dbl&gt; | Predicted_Scores &lt;dbl&gt; | Result_Status &lt;chr&gt; |\n",
       "|---|---|---|---|\n",
       "| 2.5 | 21 | 26.92318 | Fail        |\n",
       "| 5.1 | 47 | 52.34027 | Pass        |\n",
       "| 3.2 | 27 | 33.76624 | Fail        |\n",
       "| 8.5 | 75 | 85.57800 | Distinction |\n",
       "| 3.5 | 30 | 36.69899 | Pass        |\n",
       "| 1.5 | 20 | 17.14738 | Fail        |\n",
       "\n"
      ],
      "text/plain": [
       "  Hours Scores Predicted_Scores Result_Status\n",
       "1 2.5   21     26.92318         Fail         \n",
       "2 5.1   47     52.34027         Pass         \n",
       "3 3.2   27     33.76624         Fail         \n",
       "4 8.5   75     85.57800         Distinction  \n",
       "5 3.5   30     36.69899         Pass         \n",
       "6 1.5   20     17.14738         Fail         "
      ]
     },
     "metadata": {},
     "output_type": "display_data"
    }
   ],
   "source": [
    "st_record = st_record %>% \n",
    "  mutate(Result_Status = case_when(Predicted_Scores < 35 ~ \"Fail\",\n",
    "                            Predicted_Scores >= 35 & Predicted_Scores< 60 ~ \"Pass\",\n",
    "                            Predicted_Scores >= 60 & Predicted_Scores < 85 ~ \"First Class\",\n",
    "                            Predicted_Scores >= 85 ~ \"Distinction\"))\n",
    "head(st_record)"
   ]
  },
  {
   "cell_type": "markdown",
   "id": "13d4d98b",
   "metadata": {
    "papermill": {
     "duration": 0.02087,
     "end_time": "2021-06-28T17:41:46.658945",
     "exception": false,
     "start_time": "2021-06-28T17:41:46.638075",
     "status": "completed"
    },
    "tags": []
   },
   "source": [
    "## **Conclusion**\n",
    "<br>\n",
    "\n",
    "> #### **Used linear regression and successfully predicted the score of student studying for 9.25 hrs & would score 92.90985 marks**"
   ]
  }
 ],
 "metadata": {
  "kernelspec": {
   "display_name": "R",
   "language": "R",
   "name": "ir"
  },
  "language_info": {
   "codemirror_mode": "r",
   "file_extension": ".r",
   "mimetype": "text/x-r-source",
   "name": "R",
   "pygments_lexer": "r",
   "version": "4.0.5"
  },
  "papermill": {
   "default_parameters": {},
   "duration": 7.112155,
   "end_time": "2021-06-28T17:41:46.792306",
   "environment_variables": {},
   "exception": null,
   "input_path": "__notebook__.ipynb",
   "output_path": "__notebook__.ipynb",
   "parameters": {},
   "start_time": "2021-06-28T17:41:39.680151",
   "version": "2.3.3"
  }
 },
 "nbformat": 4,
 "nbformat_minor": 5
}
