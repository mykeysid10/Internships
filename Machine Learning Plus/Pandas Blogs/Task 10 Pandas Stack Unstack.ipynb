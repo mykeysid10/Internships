{
  "nbformat": 4,
  "nbformat_minor": 0,
  "metadata": {
    "colab": {
      "name": "Copy of 10 Pandas Stack.ipynb",
      "provenance": [],
      "collapsed_sections": []
    },
    "kernelspec": {
      "name": "python3",
      "display_name": "Python 3"
    },
    "language_info": {
      "name": "python"
    }
  },
  "cells": [
    {
      "cell_type": "markdown",
      "source": [
        "# Pandas Stacking\n",
        "\n",
        "Reshaping of a dataframe can be done using `stack()`, `unstack()` and `melt()` methods.\n"
      ],
      "metadata": {
        "id": "keFk7dkztjYU"
      }
    },
    {
      "cell_type": "markdown",
      "source": [
        "## How to reshape a pandas dataframe using stack, unstack and melt method.\n",
        "\n",
        "The most common methods for Reshaping a dataframe in pandas are using - \n",
        "\n",
        "* Stack method.\n",
        "* Unstack method.\n",
        "* Melt method.\n",
        "\n",
        "Let's create a dataframe. "
      ],
      "metadata": {
        "id": "b0bFXfCit2I7"
      }
    },
    {
      "cell_type": "code",
      "source": [
        "# Importing library\n",
        "import pandas as pd\n",
        "\n",
        "# Creating DataFrame from Multi-dimensional list\n",
        "lst = [['Ben','M'],['Gwen','F'],['Kevin','M'],['Julie','F'],['Azmuth','M'],['Vilgax','M'],['Prof. Paradox','M'],['Highbreed Commander','M']]\n",
        "Cartoon_df = pd.DataFrame(lst, columns = ['Cartoon_Name','Cartoon_Gender'])\n",
        "\n",
        "Cartoon_df"
      ],
      "metadata": {
        "colab": {
          "base_uri": "https://localhost:8080/",
          "height": 300
        },
        "id": "cx33htvPuFUJ",
        "outputId": "648bfd0e-e548-4691-99b0-6598e437810a"
      },
      "execution_count": null,
      "outputs": [
        {
          "output_type": "execute_result",
          "data": {
            "text/html": [
              "<div>\n",
              "<style scoped>\n",
              "    .dataframe tbody tr th:only-of-type {\n",
              "        vertical-align: middle;\n",
              "    }\n",
              "\n",
              "    .dataframe tbody tr th {\n",
              "        vertical-align: top;\n",
              "    }\n",
              "\n",
              "    .dataframe thead th {\n",
              "        text-align: right;\n",
              "    }\n",
              "</style>\n",
              "<table border=\"1\" class=\"dataframe\">\n",
              "  <thead>\n",
              "    <tr style=\"text-align: right;\">\n",
              "      <th></th>\n",
              "      <th>Cartoon_Name</th>\n",
              "      <th>Cartoon_Gender</th>\n",
              "    </tr>\n",
              "  </thead>\n",
              "  <tbody>\n",
              "    <tr>\n",
              "      <th>0</th>\n",
              "      <td>Ben</td>\n",
              "      <td>M</td>\n",
              "    </tr>\n",
              "    <tr>\n",
              "      <th>1</th>\n",
              "      <td>Gwen</td>\n",
              "      <td>F</td>\n",
              "    </tr>\n",
              "    <tr>\n",
              "      <th>2</th>\n",
              "      <td>Kevin</td>\n",
              "      <td>M</td>\n",
              "    </tr>\n",
              "    <tr>\n",
              "      <th>3</th>\n",
              "      <td>Julie</td>\n",
              "      <td>F</td>\n",
              "    </tr>\n",
              "    <tr>\n",
              "      <th>4</th>\n",
              "      <td>Azmuth</td>\n",
              "      <td>M</td>\n",
              "    </tr>\n",
              "    <tr>\n",
              "      <th>5</th>\n",
              "      <td>Vilgax</td>\n",
              "      <td>M</td>\n",
              "    </tr>\n",
              "    <tr>\n",
              "      <th>6</th>\n",
              "      <td>Prof. Paradox</td>\n",
              "      <td>M</td>\n",
              "    </tr>\n",
              "    <tr>\n",
              "      <th>7</th>\n",
              "      <td>Highbreed Commander</td>\n",
              "      <td>M</td>\n",
              "    </tr>\n",
              "  </tbody>\n",
              "</table>\n",
              "</div>"
            ],
            "text/plain": [
              "          Cartoon_Name Cartoon_Gender\n",
              "0                  Ben              M\n",
              "1                 Gwen              F\n",
              "2                Kevin              M\n",
              "3                Julie              F\n",
              "4               Azmuth              M\n",
              "5               Vilgax              M\n",
              "6        Prof. Paradox              M\n",
              "7  Highbreed Commander              M"
            ]
          },
          "metadata": {},
          "execution_count": 13
        }
      ]
    },
    {
      "cell_type": "markdown",
      "source": [
        "## 1.Reshape by using `stack()` method"
      ],
      "metadata": {
        "id": "m-XOASpzujlg"
      }
    },
    {
      "cell_type": "markdown",
      "source": [
        "Lets see the syntax of stack() method.\n",
        "\n",
        "### dataframe.stack()\n",
        "\n",
        "__Purpose:__ This method is mainly used to reshape the dataframe.\n",
        "\n",
        "__Returns:__ Dataframe with index."
      ],
      "metadata": {
        "id": "QBI3FhIguqsG"
      }
    },
    {
      "cell_type": "code",
      "source": [
        "# Reshape dataframe using stack method\n",
        "Cartoon_stacked = Cartoon_df.stack()\n",
        "\n",
        "Cartoon_stacked"
      ],
      "metadata": {
        "colab": {
          "base_uri": "https://localhost:8080/"
        },
        "id": "i_2IutSiun4Y",
        "outputId": "7b63e205-36a1-4ddf-84e7-15e495fd3b16"
      },
      "execution_count": null,
      "outputs": [
        {
          "output_type": "execute_result",
          "data": {
            "text/plain": [
              "0  Cartoon_Name                      Ben\n",
              "   Cartoon_Gender                      M\n",
              "1  Cartoon_Name                     Gwen\n",
              "   Cartoon_Gender                      F\n",
              "2  Cartoon_Name                    Kevin\n",
              "   Cartoon_Gender                      M\n",
              "3  Cartoon_Name                    Julie\n",
              "   Cartoon_Gender                      F\n",
              "4  Cartoon_Name                   Azmuth\n",
              "   Cartoon_Gender                      M\n",
              "5  Cartoon_Name                   Vilgax\n",
              "   Cartoon_Gender                      M\n",
              "6  Cartoon_Name            Prof. Paradox\n",
              "   Cartoon_Gender                      M\n",
              "7  Cartoon_Name      Highbreed Commander\n",
              "   Cartoon_Gender                      M\n",
              "dtype: object"
            ]
          },
          "metadata": {},
          "execution_count": 14
        }
      ]
    },
    {
      "cell_type": "markdown",
      "source": [
        "You can see that Cartoon_df has 7 rows and 2 columns and after applying stack method Cartoon_df has been streched in length and total number of rows are 7*2 = 14 rows."
      ],
      "metadata": {
        "id": "DqMgKE8ou-mP"
      }
    },
    {
      "cell_type": "markdown",
      "source": [
        "## 2.Reshape by using `unstack()` method"
      ],
      "metadata": {
        "id": "VAv4wfInvAAf"
      }
    },
    {
      "cell_type": "markdown",
      "source": [
        "Lets see the syntax of unstack() method.\n",
        "\n",
        "### dataframe.unstack()\n",
        "\n",
        "__Purpose:__ This method is opposite to stack() method, it is mainly used to reshape dataframe.\n",
        "\n",
        "__Returns:__ DataFrame with new innermost level of column tag."
      ],
      "metadata": {
        "id": "cjMUUqBovDvf"
      }
    },
    {
      "cell_type": "code",
      "source": [
        "# Reshape dataframe using unstack method\n",
        "Cartoon_unstacked = Cartoon_stacked.unstack()\n",
        "\n",
        "Cartoon_unstacked"
      ],
      "metadata": {
        "colab": {
          "base_uri": "https://localhost:8080/",
          "height": 300
        },
        "id": "ira-LLxOvKbd",
        "outputId": "9397163f-325b-4b92-99fd-f26010463c9c"
      },
      "execution_count": null,
      "outputs": [
        {
          "output_type": "execute_result",
          "data": {
            "text/html": [
              "<div>\n",
              "<style scoped>\n",
              "    .dataframe tbody tr th:only-of-type {\n",
              "        vertical-align: middle;\n",
              "    }\n",
              "\n",
              "    .dataframe tbody tr th {\n",
              "        vertical-align: top;\n",
              "    }\n",
              "\n",
              "    .dataframe thead th {\n",
              "        text-align: right;\n",
              "    }\n",
              "</style>\n",
              "<table border=\"1\" class=\"dataframe\">\n",
              "  <thead>\n",
              "    <tr style=\"text-align: right;\">\n",
              "      <th></th>\n",
              "      <th>Cartoon_Name</th>\n",
              "      <th>Cartoon_Gender</th>\n",
              "    </tr>\n",
              "  </thead>\n",
              "  <tbody>\n",
              "    <tr>\n",
              "      <th>0</th>\n",
              "      <td>Ben</td>\n",
              "      <td>M</td>\n",
              "    </tr>\n",
              "    <tr>\n",
              "      <th>1</th>\n",
              "      <td>Gwen</td>\n",
              "      <td>F</td>\n",
              "    </tr>\n",
              "    <tr>\n",
              "      <th>2</th>\n",
              "      <td>Kevin</td>\n",
              "      <td>M</td>\n",
              "    </tr>\n",
              "    <tr>\n",
              "      <th>3</th>\n",
              "      <td>Julie</td>\n",
              "      <td>F</td>\n",
              "    </tr>\n",
              "    <tr>\n",
              "      <th>4</th>\n",
              "      <td>Azmuth</td>\n",
              "      <td>M</td>\n",
              "    </tr>\n",
              "    <tr>\n",
              "      <th>5</th>\n",
              "      <td>Vilgax</td>\n",
              "      <td>M</td>\n",
              "    </tr>\n",
              "    <tr>\n",
              "      <th>6</th>\n",
              "      <td>Prof. Paradox</td>\n",
              "      <td>M</td>\n",
              "    </tr>\n",
              "    <tr>\n",
              "      <th>7</th>\n",
              "      <td>Highbreed Commander</td>\n",
              "      <td>M</td>\n",
              "    </tr>\n",
              "  </tbody>\n",
              "</table>\n",
              "</div>"
            ],
            "text/plain": [
              "          Cartoon_Name Cartoon_Gender\n",
              "0                  Ben              M\n",
              "1                 Gwen              F\n",
              "2                Kevin              M\n",
              "3                Julie              F\n",
              "4               Azmuth              M\n",
              "5               Vilgax              M\n",
              "6        Prof. Paradox              M\n",
              "7  Highbreed Commander              M"
            ]
          },
          "metadata": {},
          "execution_count": 15
        }
      ]
    },
    {
      "cell_type": "markdown",
      "source": [
        "You can see that after applying unstack to Cartoon_stacked, you get the original dataframe 'Cartoon_df'."
      ],
      "metadata": {
        "id": "Yjy1zUkVvQuX"
      }
    },
    {
      "cell_type": "markdown",
      "source": [
        "## 3.Reshape by using `melt()`"
      ],
      "metadata": {
        "id": "rKFklXcUvbDC"
      }
    },
    {
      "cell_type": "markdown",
      "source": [
        "Lets see the syntax of melt() method.\n",
        "\n",
        "### dataframe.melt(id_vars = ['col_names'])\n",
        "\n",
        "__Purpose:__ This method is also used to reshape the dataframe.\n",
        "\n",
        "__Returns:__ Reshaped dataframe from width to length format."
      ],
      "metadata": {
        "id": "gGmIk6ODvghr"
      }
    },
    {
      "cell_type": "code",
      "source": [
        "# Reshape dataframe using melt method\n",
        "Cartoon_melt = Cartoon_df.melt(id_vars = ['Cartoon_Name'])\n",
        "\n",
        "Cartoon_melt"
      ],
      "metadata": {
        "colab": {
          "base_uri": "https://localhost:8080/",
          "height": 300
        },
        "id": "dm1YwOTXvnIz",
        "outputId": "71b45a5c-adb2-457f-f511-4e36fb24a440"
      },
      "execution_count": null,
      "outputs": [
        {
          "output_type": "execute_result",
          "data": {
            "text/html": [
              "<div>\n",
              "<style scoped>\n",
              "    .dataframe tbody tr th:only-of-type {\n",
              "        vertical-align: middle;\n",
              "    }\n",
              "\n",
              "    .dataframe tbody tr th {\n",
              "        vertical-align: top;\n",
              "    }\n",
              "\n",
              "    .dataframe thead th {\n",
              "        text-align: right;\n",
              "    }\n",
              "</style>\n",
              "<table border=\"1\" class=\"dataframe\">\n",
              "  <thead>\n",
              "    <tr style=\"text-align: right;\">\n",
              "      <th></th>\n",
              "      <th>Cartoon_Name</th>\n",
              "      <th>variable</th>\n",
              "      <th>value</th>\n",
              "    </tr>\n",
              "  </thead>\n",
              "  <tbody>\n",
              "    <tr>\n",
              "      <th>0</th>\n",
              "      <td>Ben</td>\n",
              "      <td>Cartoon_Gender</td>\n",
              "      <td>M</td>\n",
              "    </tr>\n",
              "    <tr>\n",
              "      <th>1</th>\n",
              "      <td>Gwen</td>\n",
              "      <td>Cartoon_Gender</td>\n",
              "      <td>F</td>\n",
              "    </tr>\n",
              "    <tr>\n",
              "      <th>2</th>\n",
              "      <td>Kevin</td>\n",
              "      <td>Cartoon_Gender</td>\n",
              "      <td>M</td>\n",
              "    </tr>\n",
              "    <tr>\n",
              "      <th>3</th>\n",
              "      <td>Julie</td>\n",
              "      <td>Cartoon_Gender</td>\n",
              "      <td>F</td>\n",
              "    </tr>\n",
              "    <tr>\n",
              "      <th>4</th>\n",
              "      <td>Azmuth</td>\n",
              "      <td>Cartoon_Gender</td>\n",
              "      <td>M</td>\n",
              "    </tr>\n",
              "    <tr>\n",
              "      <th>5</th>\n",
              "      <td>Vilgax</td>\n",
              "      <td>Cartoon_Gender</td>\n",
              "      <td>M</td>\n",
              "    </tr>\n",
              "    <tr>\n",
              "      <th>6</th>\n",
              "      <td>Prof. Paradox</td>\n",
              "      <td>Cartoon_Gender</td>\n",
              "      <td>M</td>\n",
              "    </tr>\n",
              "    <tr>\n",
              "      <th>7</th>\n",
              "      <td>Highbreed Commander</td>\n",
              "      <td>Cartoon_Gender</td>\n",
              "      <td>M</td>\n",
              "    </tr>\n",
              "  </tbody>\n",
              "</table>\n",
              "</div>"
            ],
            "text/plain": [
              "          Cartoon_Name        variable value\n",
              "0                  Ben  Cartoon_Gender     M\n",
              "1                 Gwen  Cartoon_Gender     F\n",
              "2                Kevin  Cartoon_Gender     M\n",
              "3                Julie  Cartoon_Gender     F\n",
              "4               Azmuth  Cartoon_Gender     M\n",
              "5               Vilgax  Cartoon_Gender     M\n",
              "6        Prof. Paradox  Cartoon_Gender     M\n",
              "7  Highbreed Commander  Cartoon_Gender     M"
            ]
          },
          "metadata": {},
          "execution_count": 16
        }
      ]
    },
    {
      "cell_type": "markdown",
      "source": [
        "You can see that after applying melt to Cartoon_df, it has splitted the unspecified column 'Cartoon_gender' into variable and value where variable has column name 'Cartoon_gender' and value has its respective data value."
      ],
      "metadata": {
        "id": "7AMekSesvz0U"
      }
    },
    {
      "cell_type": "markdown",
      "source": [
        "## 4.Practical Tips\n",
        "\n",
        "* Use different parameters in the melt method and analyze the output.\n",
        "\n",
        "* Ensure that you have used correct parameters for `melt()`."
      ],
      "metadata": {
        "id": "ekJTyZEzwAh7"
      }
    },
    {
      "cell_type": "markdown",
      "source": [
        "## 5.Test Your Knowledge\n",
        "\n",
        "__Q1.__ reshape() can be used to reshape dataframe in pandas. True or False ?\n",
        "\n",
        "__Ans.__ `False.` `reshape()` can be used to reshape pandas series but for reshaping pandas dataframe `stack()`, `unstack()` and `melt()` methods are used.\n",
        "\n",
        "\n",
        "\n",
        "__Q2.__ If all column names are specified as argument in 'id_vars' in `melt()` method it will return the original dataframe as output. True or False ?\n",
        "\n",
        "__Ans.__ `False.` `melt()` is used for reshaping, if all column names are specified as argument in the melt method value, variable and other column names are displayed with empty dataframe.\n",
        "\n",
        "\n",
        "\n",
        "__Q3.__ What will be the output of following code ?"
      ],
      "metadata": {
        "id": "KBx5ntyZwIpf"
      }
    },
    {
      "cell_type": "code",
      "source": [
        "import pandas as pd\n",
        "\n",
        "l = [['Shinchan',9],['Doraemon',8],['Ninja Hattori',7],['Ben 10',9],['Mickey Mouse',7],['Dragon Ball Z',9]]  \n",
        "\n",
        "d = pd.DataFrame(l, columns = ['Name','points'])\n",
        "d_stacked = d.stack()\n",
        "\n",
        "d_stacked"
      ],
      "metadata": {
        "colab": {
          "base_uri": "https://localhost:8080/"
        },
        "id": "BN0Bd10oyBrF",
        "outputId": "cc179bb5-d080-4534-8d3d-bea3b6da8f99"
      },
      "execution_count": null,
      "outputs": [
        {
          "output_type": "execute_result",
          "data": {
            "text/plain": [
              "0  Name           Shinchan\n",
              "   points                9\n",
              "1  Name           Doraemon\n",
              "   points                8\n",
              "2  Name      Ninja Hattori\n",
              "   points                7\n",
              "3  Name             Ben 10\n",
              "   points                9\n",
              "4  Name       Mickey Mouse\n",
              "   points                7\n",
              "5  Name      Dragon Ball Z\n",
              "   points                9\n",
              "dtype: object"
            ]
          },
          "metadata": {},
          "execution_count": 1
        }
      ]
    },
    {
      "cell_type": "markdown",
      "source": [
        "__Q4.__ What will be the output of following code ?"
      ],
      "metadata": {
        "id": "OaqSvCc5yIlu"
      }
    },
    {
      "cell_type": "code",
      "source": [
        "import pandas as pd\n",
        "\n",
        "l = [['Shinchan',9],['Doraemon',8],['Ninja Hattori',7],['Ben 10',9],['Mickey Mouse',7],['Dragon Ball Z',9]]  \n",
        "\n",
        "d = pd.DataFrame(l, columns = ['Name','points'])\n",
        "d_stacked = d.stack()\n",
        "d_unstacked = d_stacked.unstack()\n",
        "\n",
        "d_unstacked"
      ],
      "metadata": {
        "colab": {
          "base_uri": "https://localhost:8080/",
          "height": 238
        },
        "id": "Z5YMLhbsyK7f",
        "outputId": "a2b9c989-8cea-4ba8-cf4f-a64d40f09009"
      },
      "execution_count": null,
      "outputs": [
        {
          "output_type": "execute_result",
          "data": {
            "text/html": [
              "<div>\n",
              "<style scoped>\n",
              "    .dataframe tbody tr th:only-of-type {\n",
              "        vertical-align: middle;\n",
              "    }\n",
              "\n",
              "    .dataframe tbody tr th {\n",
              "        vertical-align: top;\n",
              "    }\n",
              "\n",
              "    .dataframe thead th {\n",
              "        text-align: right;\n",
              "    }\n",
              "</style>\n",
              "<table border=\"1\" class=\"dataframe\">\n",
              "  <thead>\n",
              "    <tr style=\"text-align: right;\">\n",
              "      <th></th>\n",
              "      <th>Name</th>\n",
              "      <th>points</th>\n",
              "    </tr>\n",
              "  </thead>\n",
              "  <tbody>\n",
              "    <tr>\n",
              "      <th>0</th>\n",
              "      <td>Shinchan</td>\n",
              "      <td>9</td>\n",
              "    </tr>\n",
              "    <tr>\n",
              "      <th>1</th>\n",
              "      <td>Doraemon</td>\n",
              "      <td>8</td>\n",
              "    </tr>\n",
              "    <tr>\n",
              "      <th>2</th>\n",
              "      <td>Ninja Hattori</td>\n",
              "      <td>7</td>\n",
              "    </tr>\n",
              "    <tr>\n",
              "      <th>3</th>\n",
              "      <td>Ben 10</td>\n",
              "      <td>9</td>\n",
              "    </tr>\n",
              "    <tr>\n",
              "      <th>4</th>\n",
              "      <td>Mickey Mouse</td>\n",
              "      <td>7</td>\n",
              "    </tr>\n",
              "    <tr>\n",
              "      <th>5</th>\n",
              "      <td>Dragon Ball Z</td>\n",
              "      <td>9</td>\n",
              "    </tr>\n",
              "  </tbody>\n",
              "</table>\n",
              "</div>"
            ],
            "text/plain": [
              "            Name points\n",
              "0       Shinchan      9\n",
              "1       Doraemon      8\n",
              "2  Ninja Hattori      7\n",
              "3         Ben 10      9\n",
              "4   Mickey Mouse      7\n",
              "5  Dragon Ball Z      9"
            ]
          },
          "metadata": {},
          "execution_count": 2
        }
      ]
    },
    {
      "cell_type": "markdown",
      "source": [
        "__Q5.__ What will be the output of following code ?"
      ],
      "metadata": {
        "id": "IFdS7ddqyQtZ"
      }
    },
    {
      "cell_type": "code",
      "source": [
        "import pandas as pd\n",
        "\n",
        "l = [['Shinchan',9],['Doraemon',8],['Ninja Hattori',7],['Ben 10',9],['Mickey Mouse',7],['Dragon Ball Z',9]]  \n",
        "\n",
        "d = pd.DataFrame(l, columns = ['Name','points'])\n",
        "d_melt = d.melt()\n",
        "\n",
        "d_melt"
      ],
      "metadata": {
        "colab": {
          "base_uri": "https://localhost:8080/",
          "height": 425
        },
        "id": "GsIVcK-SyTDP",
        "outputId": "9117f304-4bd0-4bc4-a406-9ef48a543a5e"
      },
      "execution_count": null,
      "outputs": [
        {
          "output_type": "execute_result",
          "data": {
            "text/html": [
              "<div>\n",
              "<style scoped>\n",
              "    .dataframe tbody tr th:only-of-type {\n",
              "        vertical-align: middle;\n",
              "    }\n",
              "\n",
              "    .dataframe tbody tr th {\n",
              "        vertical-align: top;\n",
              "    }\n",
              "\n",
              "    .dataframe thead th {\n",
              "        text-align: right;\n",
              "    }\n",
              "</style>\n",
              "<table border=\"1\" class=\"dataframe\">\n",
              "  <thead>\n",
              "    <tr style=\"text-align: right;\">\n",
              "      <th></th>\n",
              "      <th>variable</th>\n",
              "      <th>value</th>\n",
              "    </tr>\n",
              "  </thead>\n",
              "  <tbody>\n",
              "    <tr>\n",
              "      <th>0</th>\n",
              "      <td>Name</td>\n",
              "      <td>Shinchan</td>\n",
              "    </tr>\n",
              "    <tr>\n",
              "      <th>1</th>\n",
              "      <td>Name</td>\n",
              "      <td>Doraemon</td>\n",
              "    </tr>\n",
              "    <tr>\n",
              "      <th>2</th>\n",
              "      <td>Name</td>\n",
              "      <td>Ninja Hattori</td>\n",
              "    </tr>\n",
              "    <tr>\n",
              "      <th>3</th>\n",
              "      <td>Name</td>\n",
              "      <td>Ben 10</td>\n",
              "    </tr>\n",
              "    <tr>\n",
              "      <th>4</th>\n",
              "      <td>Name</td>\n",
              "      <td>Mickey Mouse</td>\n",
              "    </tr>\n",
              "    <tr>\n",
              "      <th>5</th>\n",
              "      <td>Name</td>\n",
              "      <td>Dragon Ball Z</td>\n",
              "    </tr>\n",
              "    <tr>\n",
              "      <th>6</th>\n",
              "      <td>points</td>\n",
              "      <td>9</td>\n",
              "    </tr>\n",
              "    <tr>\n",
              "      <th>7</th>\n",
              "      <td>points</td>\n",
              "      <td>8</td>\n",
              "    </tr>\n",
              "    <tr>\n",
              "      <th>8</th>\n",
              "      <td>points</td>\n",
              "      <td>7</td>\n",
              "    </tr>\n",
              "    <tr>\n",
              "      <th>9</th>\n",
              "      <td>points</td>\n",
              "      <td>9</td>\n",
              "    </tr>\n",
              "    <tr>\n",
              "      <th>10</th>\n",
              "      <td>points</td>\n",
              "      <td>7</td>\n",
              "    </tr>\n",
              "    <tr>\n",
              "      <th>11</th>\n",
              "      <td>points</td>\n",
              "      <td>9</td>\n",
              "    </tr>\n",
              "  </tbody>\n",
              "</table>\n",
              "</div>"
            ],
            "text/plain": [
              "   variable          value\n",
              "0      Name       Shinchan\n",
              "1      Name       Doraemon\n",
              "2      Name  Ninja Hattori\n",
              "3      Name         Ben 10\n",
              "4      Name   Mickey Mouse\n",
              "5      Name  Dragon Ball Z\n",
              "6    points              9\n",
              "7    points              8\n",
              "8    points              7\n",
              "9    points              9\n",
              "10   points              7\n",
              "11   points              9"
            ]
          },
          "metadata": {},
          "execution_count": 3
        }
      ]
    }
  ]
}