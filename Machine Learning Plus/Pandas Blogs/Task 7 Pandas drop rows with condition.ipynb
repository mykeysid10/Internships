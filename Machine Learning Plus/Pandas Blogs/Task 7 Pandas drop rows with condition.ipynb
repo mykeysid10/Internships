{
  "nbformat": 4,
  "nbformat_minor": 0,
  "metadata": {
    "colab": {
      "name": "7 Pandas drop rows with condition.ipynb",
      "provenance": [],
      "collapsed_sections": []
    },
    "kernelspec": {
      "name": "python3",
      "display_name": "Python 3"
    },
    "language_info": {
      "name": "python"
    }
  },
  "cells": [
    {
      "cell_type": "markdown",
      "source": [
        "# Pandas Dropping rows with specified condition\n",
        "\n",
        "Dataframe can be subsetted using Vectorization or `DataFrame.drop()` function.\n",
        "\n"
      ],
      "metadata": {
        "id": "EBEIG-1yJYRk"
      }
    },
    {
      "cell_type": "markdown",
      "source": [
        "## How to drop rows from the dataframe based on a certain condition applied on a column.\n",
        "\n",
        "In this article, you will learn how to drop the rows from dataframe using -\n",
        "\n",
        "*  Vectorization method.\n",
        "*  Pandas Drop function.\n",
        "\n",
        "Let's create a dataframe first. "
      ],
      "metadata": {
        "id": "X5t9NF2KJa6r"
      }
    },
    {
      "cell_type": "code",
      "source": [
        "# Importing library\n",
        "import pandas as pd \n",
        "\n",
        "data = {\n",
        "    \"Roll No\": [1,2,3,4,5,6,7,8,9,10],\n",
        "    \"Name\": ['A','B','C','D','E','F','G','H','I','J'],\n",
        "    \"Age\": [10,11,10,12,11,10,11,10,10,10],\n",
        "    \"Gender\": ['M','F','F','M','M','M','F','F','M','F'],\n",
        "    \"Percentage\": [78,83,96,62,89,74,68,80,94,91]\n",
        "}\n",
        "\n",
        "# Creating DataFrame\n",
        "df = pd.DataFrame(data)\n",
        "\n",
        "print(\"Shape of Dataframe: {}\\n\".format(df.shape))\n",
        "df"
      ],
      "metadata": {
        "colab": {
          "base_uri": "https://localhost:8080/",
          "height": 398
        },
        "id": "H_2qTn-vJdkx",
        "outputId": "940b59cf-fdb7-4ae7-da3f-152848041760"
      },
      "execution_count": null,
      "outputs": [
        {
          "output_type": "stream",
          "name": "stdout",
          "text": [
            "Shape of Dataframe: (10, 5)\n",
            "\n"
          ]
        },
        {
          "output_type": "execute_result",
          "data": {
            "text/html": [
              "<div>\n",
              "<style scoped>\n",
              "    .dataframe tbody tr th:only-of-type {\n",
              "        vertical-align: middle;\n",
              "    }\n",
              "\n",
              "    .dataframe tbody tr th {\n",
              "        vertical-align: top;\n",
              "    }\n",
              "\n",
              "    .dataframe thead th {\n",
              "        text-align: right;\n",
              "    }\n",
              "</style>\n",
              "<table border=\"1\" class=\"dataframe\">\n",
              "  <thead>\n",
              "    <tr style=\"text-align: right;\">\n",
              "      <th></th>\n",
              "      <th>Roll No</th>\n",
              "      <th>Name</th>\n",
              "      <th>Age</th>\n",
              "      <th>Gender</th>\n",
              "      <th>Percentage</th>\n",
              "    </tr>\n",
              "  </thead>\n",
              "  <tbody>\n",
              "    <tr>\n",
              "      <th>0</th>\n",
              "      <td>1</td>\n",
              "      <td>A</td>\n",
              "      <td>10</td>\n",
              "      <td>M</td>\n",
              "      <td>78</td>\n",
              "    </tr>\n",
              "    <tr>\n",
              "      <th>1</th>\n",
              "      <td>2</td>\n",
              "      <td>B</td>\n",
              "      <td>11</td>\n",
              "      <td>F</td>\n",
              "      <td>83</td>\n",
              "    </tr>\n",
              "    <tr>\n",
              "      <th>2</th>\n",
              "      <td>3</td>\n",
              "      <td>C</td>\n",
              "      <td>10</td>\n",
              "      <td>F</td>\n",
              "      <td>96</td>\n",
              "    </tr>\n",
              "    <tr>\n",
              "      <th>3</th>\n",
              "      <td>4</td>\n",
              "      <td>D</td>\n",
              "      <td>12</td>\n",
              "      <td>M</td>\n",
              "      <td>62</td>\n",
              "    </tr>\n",
              "    <tr>\n",
              "      <th>4</th>\n",
              "      <td>5</td>\n",
              "      <td>E</td>\n",
              "      <td>11</td>\n",
              "      <td>M</td>\n",
              "      <td>89</td>\n",
              "    </tr>\n",
              "    <tr>\n",
              "      <th>5</th>\n",
              "      <td>6</td>\n",
              "      <td>F</td>\n",
              "      <td>10</td>\n",
              "      <td>M</td>\n",
              "      <td>74</td>\n",
              "    </tr>\n",
              "    <tr>\n",
              "      <th>6</th>\n",
              "      <td>7</td>\n",
              "      <td>G</td>\n",
              "      <td>11</td>\n",
              "      <td>F</td>\n",
              "      <td>68</td>\n",
              "    </tr>\n",
              "    <tr>\n",
              "      <th>7</th>\n",
              "      <td>8</td>\n",
              "      <td>H</td>\n",
              "      <td>10</td>\n",
              "      <td>F</td>\n",
              "      <td>80</td>\n",
              "    </tr>\n",
              "    <tr>\n",
              "      <th>8</th>\n",
              "      <td>9</td>\n",
              "      <td>I</td>\n",
              "      <td>10</td>\n",
              "      <td>M</td>\n",
              "      <td>94</td>\n",
              "    </tr>\n",
              "    <tr>\n",
              "      <th>9</th>\n",
              "      <td>10</td>\n",
              "      <td>J</td>\n",
              "      <td>10</td>\n",
              "      <td>F</td>\n",
              "      <td>91</td>\n",
              "    </tr>\n",
              "  </tbody>\n",
              "</table>\n",
              "</div>"
            ],
            "text/plain": [
              "   Roll No Name  Age Gender  Percentage\n",
              "0        1    A   10      M          78\n",
              "1        2    B   11      F          83\n",
              "2        3    C   10      F          96\n",
              "3        4    D   12      M          62\n",
              "4        5    E   11      M          89\n",
              "5        6    F   10      M          74\n",
              "6        7    G   11      F          68\n",
              "7        8    H   10      F          80\n",
              "8        9    I   10      M          94\n",
              "9       10    J   10      F          91"
            ]
          },
          "metadata": {},
          "execution_count": 2
        }
      ]
    },
    {
      "cell_type": "markdown",
      "source": [
        "## 1.Vectorization to filter out rows from the data"
      ],
      "metadata": {
        "id": "uKZRKDqcMMcB"
      }
    },
    {
      "cell_type": "code",
      "source": [
        "# Selecting Female students with age as 10 having percentage more than 80\n",
        "df1 = df[(df['Gender'] == 'F') & (df['Percentage'] > 80) & (df['Age'] == 10)]\n",
        "  \n",
        "print(\"Shape of Dataframe: {}\\n\".format(df1.shape))\n",
        "df1"
      ],
      "metadata": {
        "colab": {
          "base_uri": "https://localhost:8080/",
          "height": 147
        },
        "id": "JIZIhTSKMm-9",
        "outputId": "0637232f-103f-41d6-9032-5dfe3cdd2d07"
      },
      "execution_count": null,
      "outputs": [
        {
          "output_type": "stream",
          "name": "stdout",
          "text": [
            "Shape of Dataframe: (2, 5)\n",
            "\n"
          ]
        },
        {
          "output_type": "execute_result",
          "data": {
            "text/html": [
              "<div>\n",
              "<style scoped>\n",
              "    .dataframe tbody tr th:only-of-type {\n",
              "        vertical-align: middle;\n",
              "    }\n",
              "\n",
              "    .dataframe tbody tr th {\n",
              "        vertical-align: top;\n",
              "    }\n",
              "\n",
              "    .dataframe thead th {\n",
              "        text-align: right;\n",
              "    }\n",
              "</style>\n",
              "<table border=\"1\" class=\"dataframe\">\n",
              "  <thead>\n",
              "    <tr style=\"text-align: right;\">\n",
              "      <th></th>\n",
              "      <th>Roll No</th>\n",
              "      <th>Name</th>\n",
              "      <th>Age</th>\n",
              "      <th>Gender</th>\n",
              "      <th>Percentage</th>\n",
              "    </tr>\n",
              "  </thead>\n",
              "  <tbody>\n",
              "    <tr>\n",
              "      <th>2</th>\n",
              "      <td>3</td>\n",
              "      <td>C</td>\n",
              "      <td>10</td>\n",
              "      <td>F</td>\n",
              "      <td>96</td>\n",
              "    </tr>\n",
              "    <tr>\n",
              "      <th>9</th>\n",
              "      <td>10</td>\n",
              "      <td>J</td>\n",
              "      <td>10</td>\n",
              "      <td>F</td>\n",
              "      <td>91</td>\n",
              "    </tr>\n",
              "  </tbody>\n",
              "</table>\n",
              "</div>"
            ],
            "text/plain": [
              "   Roll No Name  Age Gender  Percentage\n",
              "2        3    C   10      F          96\n",
              "9       10    J   10      F          91"
            ]
          },
          "metadata": {},
          "execution_count": 3
        }
      ]
    },
    {
      "cell_type": "markdown",
      "source": [
        "You can observe there are 2 girls with Age = 10 having percentage more than 80."
      ],
      "metadata": {
        "id": "u8pbJXVDPemi"
      }
    },
    {
      "cell_type": "markdown",
      "source": [
        "## 2.`DataFrame.drop()` function to drop the rows from the data"
      ],
      "metadata": {
        "id": "E7V1YRNYPhKS"
      }
    },
    {
      "cell_type": "markdown",
      "source": [
        "Let's see the Syntax of `df.drop()` function.\n",
        "\n",
        "### DataFrame.drop()\n",
        "\n",
        "__DataFrame.drop(labels=None, axis=0, index=None, columns=None, level=None, inplace=False, errors='raise')__\n",
        "\n",
        "__Purpose:__ This function is used to remove rows or columns by specifying condition.\n",
        "\n",
        "__Parameters:__\n",
        "\n",
        " __- labels:__ single label or list. Index or column labels to drop.\n",
        "\n",
        " __- axis:__ specify the row or column. 0 or ‘index’ applies function to each column. 1 or ‘columns’ applies function to each row.\n",
        "\n",
        " __- index:__ single label or list. Alternative to specifying axis. (`labels, axis = 0` is same as `index = labels`)\n",
        "\n",
        " __- columns:__ single label or list. Alternative to specifying axis. (`labels, axis = 1` is same as `columns = labels`)\n",
        "\n",
        " __- level:__ level from which the labels will be removed.\n",
        "\n",
        " __- inplace:__ If `False`, return a copy, else return `None`.\n",
        "\n",
        " __- errors:__ raise or ignore errors.\n",
        " \n",
        "\n",
        "__Returns:__ Dataframe, None if `inplace = True`."
      ],
      "metadata": {
        "id": "tkTRWcUKQVkP"
      }
    },
    {
      "cell_type": "code",
      "source": [
        "# Selecting students with percentage less than 80% \n",
        "df2 = df.drop(df[df['Percentage'] >= 80].index)\n",
        "\n",
        "print(\"Shape of Dataframe: {}\\n\".format(df2.shape))\n",
        "df2"
      ],
      "metadata": {
        "colab": {
          "base_uri": "https://localhost:8080/",
          "height": 209
        },
        "id": "I_WAyeL3Ppwb",
        "outputId": "9b4e9e44-cac7-49d3-f6c2-8f262ec634a5"
      },
      "execution_count": null,
      "outputs": [
        {
          "output_type": "stream",
          "name": "stdout",
          "text": [
            "Shape of Dataframe: (4, 5)\n",
            "\n"
          ]
        },
        {
          "output_type": "execute_result",
          "data": {
            "text/html": [
              "<div>\n",
              "<style scoped>\n",
              "    .dataframe tbody tr th:only-of-type {\n",
              "        vertical-align: middle;\n",
              "    }\n",
              "\n",
              "    .dataframe tbody tr th {\n",
              "        vertical-align: top;\n",
              "    }\n",
              "\n",
              "    .dataframe thead th {\n",
              "        text-align: right;\n",
              "    }\n",
              "</style>\n",
              "<table border=\"1\" class=\"dataframe\">\n",
              "  <thead>\n",
              "    <tr style=\"text-align: right;\">\n",
              "      <th></th>\n",
              "      <th>Roll No</th>\n",
              "      <th>Name</th>\n",
              "      <th>Age</th>\n",
              "      <th>Gender</th>\n",
              "      <th>Percentage</th>\n",
              "    </tr>\n",
              "  </thead>\n",
              "  <tbody>\n",
              "    <tr>\n",
              "      <th>0</th>\n",
              "      <td>1</td>\n",
              "      <td>A</td>\n",
              "      <td>10</td>\n",
              "      <td>M</td>\n",
              "      <td>78</td>\n",
              "    </tr>\n",
              "    <tr>\n",
              "      <th>3</th>\n",
              "      <td>4</td>\n",
              "      <td>D</td>\n",
              "      <td>12</td>\n",
              "      <td>M</td>\n",
              "      <td>62</td>\n",
              "    </tr>\n",
              "    <tr>\n",
              "      <th>5</th>\n",
              "      <td>6</td>\n",
              "      <td>F</td>\n",
              "      <td>10</td>\n",
              "      <td>M</td>\n",
              "      <td>74</td>\n",
              "    </tr>\n",
              "    <tr>\n",
              "      <th>6</th>\n",
              "      <td>7</td>\n",
              "      <td>G</td>\n",
              "      <td>11</td>\n",
              "      <td>F</td>\n",
              "      <td>68</td>\n",
              "    </tr>\n",
              "  </tbody>\n",
              "</table>\n",
              "</div>"
            ],
            "text/plain": [
              "   Roll No Name  Age Gender  Percentage\n",
              "0        1    A   10      M          78\n",
              "3        4    D   12      M          62\n",
              "5        6    F   10      M          74\n",
              "6        7    G   11      F          68"
            ]
          },
          "metadata": {},
          "execution_count": 4
        }
      ]
    },
    {
      "cell_type": "markdown",
      "source": [
        "You can observe that 4 students scored below 80%. \n",
        "\n",
        "This is how subsetting of data takes places using `df.drop()` function."
      ],
      "metadata": {
        "id": "B13K3k-5QudL"
      }
    },
    {
      "cell_type": "markdown",
      "source": [
        "## 3.Practical Tips\n",
        "\n",
        "* If you have a large dataframe then use `df.drop(condition, inplace = True)` instead of `df1 = df.drop()`. Make sure the condition given is correct because inplace makes the changes in current dataframe itself.\n",
        "\n",
        "* Use `&`, `|` instead of `and`, `or` on multiple conditions.\n",
        "\n",
        "* Use `df.dropna()` to drop the Null values.\n",
        "\n",
        "* While subsetting the data for more than one condition make sure you use the conditions in `()` like `df = df[(Cond1) & (Cond2) & (Cond3)]`.\n"
      ],
      "metadata": {
        "id": "aVc5lPY6UgTZ"
      }
    },
    {
      "cell_type": "markdown",
      "source": [
        "## 4.Test Your Knowledge\n",
        "\n",
        "__Q1.__ Which method is used to remove the missing values from dataframe ?\n",
        "\n",
        "`A. dropna()`, `B. dropnull()`, `C. drop()`, `D. dropnan()`\n",
        "\n",
        "__Ans.__ A. `dropna()` method is used to remove the missing values.\n",
        "\n",
        "\n",
        "\n",
        "__Q2.__ What type of error is there in the following code ? How to overcome it? \n"
      ],
      "metadata": {
        "id": "d_tf0HpaUjV-"
      }
    },
    {
      "cell_type": "code",
      "source": [
        "df1 = df[(df['Gender'] == 'M') and (df['Percentage'] > 90)]"
      ],
      "metadata": {
        "id": "e7bOUWZUwTPh"
      },
      "execution_count": null,
      "outputs": []
    },
    {
      "cell_type": "markdown",
      "source": [
        "__Ans.__ `ValueError`. Use `&` instead of `and`."
      ],
      "metadata": {
        "id": "Q9HMw5oIwWDi"
      }
    },
    {
      "cell_type": "code",
      "source": [
        "df1 = df[(df['Gender'] == 'M') & (df['Percentage'] > 90)]"
      ],
      "metadata": {
        "id": "GUPn2FfcwW7Z"
      },
      "execution_count": null,
      "outputs": []
    },
    {
      "cell_type": "markdown",
      "source": [
        "__Q3.__ What is output of following code ?"
      ],
      "metadata": {
        "id": "9Lm7n1Hhv9JJ"
      }
    },
    {
      "cell_type": "code",
      "source": [
        "import numpy as np\n",
        "import pandas as pd \n",
        "\n",
        "data = {\"Roll No\": [1,2,3,4,5], \"Marks\": [np.nan,85,np.inf,60,90]}\n",
        "df = pd.DataFrame(data)\n",
        "df.dropna(inplace = True)\n",
        "\n",
        "print(df.shape)"
      ],
      "metadata": {
        "colab": {
          "base_uri": "https://localhost:8080/"
        },
        "id": "f94gnqD2wAHW",
        "outputId": "82c0c591-b645-42eb-8e3b-bac39c1275bb"
      },
      "execution_count": null,
      "outputs": [
        {
          "output_type": "stream",
          "name": "stdout",
          "text": [
            "(4, 2)\n"
          ]
        }
      ]
    }
  ]
}