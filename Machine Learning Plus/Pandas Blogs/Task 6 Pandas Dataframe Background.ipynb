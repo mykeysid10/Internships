{
  "nbformat": 4,
  "nbformat_minor": 0,
  "metadata": {
    "colab": {
      "name": "Copy of 6 Pandas Dataframe Background.ipynb",
      "provenance": [],
      "collapsed_sections": []
    },
    "kernelspec": {
      "name": "python3",
      "display_name": "Python 3"
    },
    "language_info": {
      "name": "python"
    }
  },
  "cells": [
    {
      "cell_type": "markdown",
      "source": [
        "# Set Pandas dataframe background color and font color in Python\n",
        "\n",
        "Adding Background color and font color in pandas dataframe to present it in well defined manner."
      ],
      "metadata": {
        "id": "ZI1LeWdVX1Og"
      }
    },
    {
      "cell_type": "markdown",
      "source": [
        "## How to set background color and font color to pandas dataframe\n",
        "\n",
        "In this article, you will learn how to add background and font color in a dataFrame using - \n",
        "* DataFrame style property.\n",
        "* User-defined Function.\n",
        "* Seaborn Library.\n",
        "\n",
        "Let's create a dataframe first."
      ],
      "metadata": {
        "id": "mkpPhCLoX4y1"
      }
    },
    {
      "cell_type": "code",
      "source": [
        "# Import libraries\n",
        "import numpy as np\n",
        "import pandas as pd\n",
        "\n",
        "# Create dataframe of Type-1 Diabetes symptoms\n",
        "df = pd.DataFrame({'Name': ['A','B','C','D'],\n",
        "                   'Gender': ['M','F','F','M'], \n",
        "                   'Fatigue': [0,1,0,1], \n",
        "                   'More thirst': [1,np.nan,0,0],\n",
        "                   'Weight Loss': [1,0,1,1],\n",
        "                   'Dehydration': [1,0,np.nan,1],\n",
        "                   'Mood swings': [1,0,1,0]})\n",
        "\n",
        "# Here M: Male, F: Female, 0: No, 1: Yes\n",
        "df"
      ],
      "metadata": {
        "colab": {
          "base_uri": "https://localhost:8080/",
          "height": 174
        },
        "id": "xJpaFX17YXt4",
        "outputId": "7e870b2b-79e4-4eb0-e458-2c854ec9fa04"
      },
      "execution_count": null,
      "outputs": [
        {
          "output_type": "execute_result",
          "data": {
            "text/html": [
              "<div>\n",
              "<style scoped>\n",
              "    .dataframe tbody tr th:only-of-type {\n",
              "        vertical-align: middle;\n",
              "    }\n",
              "\n",
              "    .dataframe tbody tr th {\n",
              "        vertical-align: top;\n",
              "    }\n",
              "\n",
              "    .dataframe thead th {\n",
              "        text-align: right;\n",
              "    }\n",
              "</style>\n",
              "<table border=\"1\" class=\"dataframe\">\n",
              "  <thead>\n",
              "    <tr style=\"text-align: right;\">\n",
              "      <th></th>\n",
              "      <th>Name</th>\n",
              "      <th>Gender</th>\n",
              "      <th>Fatigue</th>\n",
              "      <th>More thirst</th>\n",
              "      <th>Weight Loss</th>\n",
              "      <th>Dehydration</th>\n",
              "      <th>Mood swings</th>\n",
              "    </tr>\n",
              "  </thead>\n",
              "  <tbody>\n",
              "    <tr>\n",
              "      <th>0</th>\n",
              "      <td>A</td>\n",
              "      <td>M</td>\n",
              "      <td>0</td>\n",
              "      <td>1.0</td>\n",
              "      <td>1</td>\n",
              "      <td>1.0</td>\n",
              "      <td>1</td>\n",
              "    </tr>\n",
              "    <tr>\n",
              "      <th>1</th>\n",
              "      <td>B</td>\n",
              "      <td>F</td>\n",
              "      <td>1</td>\n",
              "      <td>NaN</td>\n",
              "      <td>0</td>\n",
              "      <td>0.0</td>\n",
              "      <td>0</td>\n",
              "    </tr>\n",
              "    <tr>\n",
              "      <th>2</th>\n",
              "      <td>C</td>\n",
              "      <td>F</td>\n",
              "      <td>0</td>\n",
              "      <td>0.0</td>\n",
              "      <td>1</td>\n",
              "      <td>NaN</td>\n",
              "      <td>1</td>\n",
              "    </tr>\n",
              "    <tr>\n",
              "      <th>3</th>\n",
              "      <td>D</td>\n",
              "      <td>M</td>\n",
              "      <td>1</td>\n",
              "      <td>0.0</td>\n",
              "      <td>1</td>\n",
              "      <td>1.0</td>\n",
              "      <td>0</td>\n",
              "    </tr>\n",
              "  </tbody>\n",
              "</table>\n",
              "</div>"
            ],
            "text/plain": [
              "  Name Gender  Fatigue  More thirst  Weight Loss  Dehydration  Mood swings\n",
              "0    A      M        0          1.0            1          1.0            1\n",
              "1    B      F        1          NaN            0          0.0            0\n",
              "2    C      F        0          0.0            1          NaN            1\n",
              "3    D      M        1          0.0            1          1.0            0"
            ]
          },
          "metadata": {},
          "execution_count": 3
        }
      ]
    },
    {
      "cell_type": "markdown",
      "source": [
        "## 1.Set background color and font color using DataFrame.style property"
      ],
      "metadata": {
        "id": "byU2OTsDYTfb"
      }
    },
    {
      "cell_type": "markdown",
      "source": [
        "Use `df.style.set_properties()` to add background color \n",
        "and font color in dataframe.\n",
        "\n",
        "Let's see the syntax of `df.style.set_properties()`\n",
        "\n",
        "### df.style.set_properties()\n",
        "\n",
        "__df.style.set_properties(subset=None, **kwargs)__\n",
        "\n",
        "__Purpose:__ used to set defined CSS-properties to each `<td>` HTML element within the given subset.\n",
        "\n",
        "__Parameters:__\n",
        "\n",
        "__- subset:__ valid slice of data to limit the style of dataframe.\n",
        "\n",
        "__- **kwargs:__ it is a dictionary of css properties, value pairs to be set for each cell.\n",
        "\n",
        "__Returns:__ Dataframe with applied properties of styles."
      ],
      "metadata": {
        "id": "nY4ZHM8WMjii"
      }
    },
    {
      "cell_type": "code",
      "source": [
        "# Applying df.style.set_properties, setting background color to yellow and font color to red\n",
        "\n",
        "df.style.set_properties(**{'background-color': 'yellow', 'color': 'red'})"
      ],
      "metadata": {
        "colab": {
          "base_uri": "https://localhost:8080/",
          "height": 174
        },
        "id": "qrgJsKk_MWfs",
        "outputId": "43d27bf8-a275-42ba-acb5-df6d638e2b03"
      },
      "execution_count": null,
      "outputs": [
        {
          "output_type": "execute_result",
          "data": {
            "text/html": [
              "<style  type=\"text/css\" >\n",
              "#T_44530c3a_5cd2_11ec_8c54_0242ac1c0002row0_col0,#T_44530c3a_5cd2_11ec_8c54_0242ac1c0002row0_col1,#T_44530c3a_5cd2_11ec_8c54_0242ac1c0002row0_col2,#T_44530c3a_5cd2_11ec_8c54_0242ac1c0002row0_col3,#T_44530c3a_5cd2_11ec_8c54_0242ac1c0002row0_col4,#T_44530c3a_5cd2_11ec_8c54_0242ac1c0002row0_col5,#T_44530c3a_5cd2_11ec_8c54_0242ac1c0002row0_col6,#T_44530c3a_5cd2_11ec_8c54_0242ac1c0002row1_col0,#T_44530c3a_5cd2_11ec_8c54_0242ac1c0002row1_col1,#T_44530c3a_5cd2_11ec_8c54_0242ac1c0002row1_col2,#T_44530c3a_5cd2_11ec_8c54_0242ac1c0002row1_col3,#T_44530c3a_5cd2_11ec_8c54_0242ac1c0002row1_col4,#T_44530c3a_5cd2_11ec_8c54_0242ac1c0002row1_col5,#T_44530c3a_5cd2_11ec_8c54_0242ac1c0002row1_col6,#T_44530c3a_5cd2_11ec_8c54_0242ac1c0002row2_col0,#T_44530c3a_5cd2_11ec_8c54_0242ac1c0002row2_col1,#T_44530c3a_5cd2_11ec_8c54_0242ac1c0002row2_col2,#T_44530c3a_5cd2_11ec_8c54_0242ac1c0002row2_col3,#T_44530c3a_5cd2_11ec_8c54_0242ac1c0002row2_col4,#T_44530c3a_5cd2_11ec_8c54_0242ac1c0002row2_col5,#T_44530c3a_5cd2_11ec_8c54_0242ac1c0002row2_col6,#T_44530c3a_5cd2_11ec_8c54_0242ac1c0002row3_col0,#T_44530c3a_5cd2_11ec_8c54_0242ac1c0002row3_col1,#T_44530c3a_5cd2_11ec_8c54_0242ac1c0002row3_col2,#T_44530c3a_5cd2_11ec_8c54_0242ac1c0002row3_col3,#T_44530c3a_5cd2_11ec_8c54_0242ac1c0002row3_col4,#T_44530c3a_5cd2_11ec_8c54_0242ac1c0002row3_col5,#T_44530c3a_5cd2_11ec_8c54_0242ac1c0002row3_col6{\n",
              "            background-color:  yellow;\n",
              "            color:  red;\n",
              "        }</style><table id=\"T_44530c3a_5cd2_11ec_8c54_0242ac1c0002\" class=\"dataframe\"><thead>    <tr>        <th class=\"blank level0\" ></th>        <th class=\"col_heading level0 col0\" >Name</th>        <th class=\"col_heading level0 col1\" >Gender</th>        <th class=\"col_heading level0 col2\" >Fatigue</th>        <th class=\"col_heading level0 col3\" >More thirst</th>        <th class=\"col_heading level0 col4\" >Weight Loss</th>        <th class=\"col_heading level0 col5\" >Dehydration</th>        <th class=\"col_heading level0 col6\" >Mood swings</th>    </tr></thead><tbody>\n",
              "                <tr>\n",
              "                        <th id=\"T_44530c3a_5cd2_11ec_8c54_0242ac1c0002level0_row0\" class=\"row_heading level0 row0\" >0</th>\n",
              "                        <td id=\"T_44530c3a_5cd2_11ec_8c54_0242ac1c0002row0_col0\" class=\"data row0 col0\" >A</td>\n",
              "                        <td id=\"T_44530c3a_5cd2_11ec_8c54_0242ac1c0002row0_col1\" class=\"data row0 col1\" >M</td>\n",
              "                        <td id=\"T_44530c3a_5cd2_11ec_8c54_0242ac1c0002row0_col2\" class=\"data row0 col2\" >0</td>\n",
              "                        <td id=\"T_44530c3a_5cd2_11ec_8c54_0242ac1c0002row0_col3\" class=\"data row0 col3\" >1.000000</td>\n",
              "                        <td id=\"T_44530c3a_5cd2_11ec_8c54_0242ac1c0002row0_col4\" class=\"data row0 col4\" >1</td>\n",
              "                        <td id=\"T_44530c3a_5cd2_11ec_8c54_0242ac1c0002row0_col5\" class=\"data row0 col5\" >1.000000</td>\n",
              "                        <td id=\"T_44530c3a_5cd2_11ec_8c54_0242ac1c0002row0_col6\" class=\"data row0 col6\" >1</td>\n",
              "            </tr>\n",
              "            <tr>\n",
              "                        <th id=\"T_44530c3a_5cd2_11ec_8c54_0242ac1c0002level0_row1\" class=\"row_heading level0 row1\" >1</th>\n",
              "                        <td id=\"T_44530c3a_5cd2_11ec_8c54_0242ac1c0002row1_col0\" class=\"data row1 col0\" >B</td>\n",
              "                        <td id=\"T_44530c3a_5cd2_11ec_8c54_0242ac1c0002row1_col1\" class=\"data row1 col1\" >F</td>\n",
              "                        <td id=\"T_44530c3a_5cd2_11ec_8c54_0242ac1c0002row1_col2\" class=\"data row1 col2\" >1</td>\n",
              "                        <td id=\"T_44530c3a_5cd2_11ec_8c54_0242ac1c0002row1_col3\" class=\"data row1 col3\" >nan</td>\n",
              "                        <td id=\"T_44530c3a_5cd2_11ec_8c54_0242ac1c0002row1_col4\" class=\"data row1 col4\" >0</td>\n",
              "                        <td id=\"T_44530c3a_5cd2_11ec_8c54_0242ac1c0002row1_col5\" class=\"data row1 col5\" >0.000000</td>\n",
              "                        <td id=\"T_44530c3a_5cd2_11ec_8c54_0242ac1c0002row1_col6\" class=\"data row1 col6\" >0</td>\n",
              "            </tr>\n",
              "            <tr>\n",
              "                        <th id=\"T_44530c3a_5cd2_11ec_8c54_0242ac1c0002level0_row2\" class=\"row_heading level0 row2\" >2</th>\n",
              "                        <td id=\"T_44530c3a_5cd2_11ec_8c54_0242ac1c0002row2_col0\" class=\"data row2 col0\" >C</td>\n",
              "                        <td id=\"T_44530c3a_5cd2_11ec_8c54_0242ac1c0002row2_col1\" class=\"data row2 col1\" >F</td>\n",
              "                        <td id=\"T_44530c3a_5cd2_11ec_8c54_0242ac1c0002row2_col2\" class=\"data row2 col2\" >0</td>\n",
              "                        <td id=\"T_44530c3a_5cd2_11ec_8c54_0242ac1c0002row2_col3\" class=\"data row2 col3\" >0.000000</td>\n",
              "                        <td id=\"T_44530c3a_5cd2_11ec_8c54_0242ac1c0002row2_col4\" class=\"data row2 col4\" >1</td>\n",
              "                        <td id=\"T_44530c3a_5cd2_11ec_8c54_0242ac1c0002row2_col5\" class=\"data row2 col5\" >nan</td>\n",
              "                        <td id=\"T_44530c3a_5cd2_11ec_8c54_0242ac1c0002row2_col6\" class=\"data row2 col6\" >1</td>\n",
              "            </tr>\n",
              "            <tr>\n",
              "                        <th id=\"T_44530c3a_5cd2_11ec_8c54_0242ac1c0002level0_row3\" class=\"row_heading level0 row3\" >3</th>\n",
              "                        <td id=\"T_44530c3a_5cd2_11ec_8c54_0242ac1c0002row3_col0\" class=\"data row3 col0\" >D</td>\n",
              "                        <td id=\"T_44530c3a_5cd2_11ec_8c54_0242ac1c0002row3_col1\" class=\"data row3 col1\" >M</td>\n",
              "                        <td id=\"T_44530c3a_5cd2_11ec_8c54_0242ac1c0002row3_col2\" class=\"data row3 col2\" >1</td>\n",
              "                        <td id=\"T_44530c3a_5cd2_11ec_8c54_0242ac1c0002row3_col3\" class=\"data row3 col3\" >0.000000</td>\n",
              "                        <td id=\"T_44530c3a_5cd2_11ec_8c54_0242ac1c0002row3_col4\" class=\"data row3 col4\" >1</td>\n",
              "                        <td id=\"T_44530c3a_5cd2_11ec_8c54_0242ac1c0002row3_col5\" class=\"data row3 col5\" >1.000000</td>\n",
              "                        <td id=\"T_44530c3a_5cd2_11ec_8c54_0242ac1c0002row3_col6\" class=\"data row3 col6\" >0</td>\n",
              "            </tr>\n",
              "    </tbody></table>"
            ],
            "text/plain": [
              "<pandas.io.formats.style.Styler at 0x7f0af483a790>"
            ]
          },
          "metadata": {},
          "execution_count": 4
        }
      ]
    },
    {
      "cell_type": "markdown",
      "source": [
        "In same way, `df.set_table_styles()` can be used to add background and font colors.\n",
        "\n",
        "Let's see the syntax of `df.set_table_styles()`.\n",
        "\n",
        "### df.set_table_styles()\n",
        "\n",
        "__df.set_table_styles(table_styles, axis=0, overwrite=True)__\n",
        "\n",
        "__Purpose:__ styling the tables, columns, rows or specific HTML selectors.\n",
        "\n",
        "__Parameters:__\n",
        "\n",
        "__- table_styles:__ list that supplies style to table using dictionary with selector and props as keys.\n",
        "\n",
        "__- axis:__ 0 or ‘index’ applies function to each column. 1 or ‘columns’ applies function to each row.\n",
        "\n",
        "__- overwrite:__ boolean value type parameters, if set `True` then it will overwrite style property if selectors intersect.\n",
        "\n",
        "__Returns:__ Dataframe with applied properties of styles."
      ],
      "metadata": {
        "id": "IY77wEbTNtmn"
      }
    },
    {
      "cell_type": "code",
      "source": [
        "# Applying df.set_table_styles, setting background color to black and font color to white\n",
        "\n",
        "df.style.set_table_styles([{'selector': 'td:not(.index_name)', 'props': [('background-color','black'),('color','white')]}])"
      ],
      "metadata": {
        "colab": {
          "base_uri": "https://localhost:8080/",
          "height": 174
        },
        "id": "iobkG3LePqPN",
        "outputId": "4b26cd52-0ee7-47b1-c13e-53ee6d4bd64d"
      },
      "execution_count": null,
      "outputs": [
        {
          "output_type": "execute_result",
          "data": {
            "text/html": [
              "<style  type=\"text/css\" >\n",
              "    #T_44559860_5cd2_11ec_8c54_0242ac1c0002 td:not(.index_name) {\n",
              "          background-color: black;\n",
              "          color: white;\n",
              "    }</style><table id=\"T_44559860_5cd2_11ec_8c54_0242ac1c0002\" class=\"dataframe\"><thead>    <tr>        <th class=\"blank level0\" ></th>        <th class=\"col_heading level0 col0\" >Name</th>        <th class=\"col_heading level0 col1\" >Gender</th>        <th class=\"col_heading level0 col2\" >Fatigue</th>        <th class=\"col_heading level0 col3\" >More thirst</th>        <th class=\"col_heading level0 col4\" >Weight Loss</th>        <th class=\"col_heading level0 col5\" >Dehydration</th>        <th class=\"col_heading level0 col6\" >Mood swings</th>    </tr></thead><tbody>\n",
              "                <tr>\n",
              "                        <th id=\"T_44559860_5cd2_11ec_8c54_0242ac1c0002level0_row0\" class=\"row_heading level0 row0\" >0</th>\n",
              "                        <td id=\"T_44559860_5cd2_11ec_8c54_0242ac1c0002row0_col0\" class=\"data row0 col0\" >A</td>\n",
              "                        <td id=\"T_44559860_5cd2_11ec_8c54_0242ac1c0002row0_col1\" class=\"data row0 col1\" >M</td>\n",
              "                        <td id=\"T_44559860_5cd2_11ec_8c54_0242ac1c0002row0_col2\" class=\"data row0 col2\" >0</td>\n",
              "                        <td id=\"T_44559860_5cd2_11ec_8c54_0242ac1c0002row0_col3\" class=\"data row0 col3\" >1.000000</td>\n",
              "                        <td id=\"T_44559860_5cd2_11ec_8c54_0242ac1c0002row0_col4\" class=\"data row0 col4\" >1</td>\n",
              "                        <td id=\"T_44559860_5cd2_11ec_8c54_0242ac1c0002row0_col5\" class=\"data row0 col5\" >1.000000</td>\n",
              "                        <td id=\"T_44559860_5cd2_11ec_8c54_0242ac1c0002row0_col6\" class=\"data row0 col6\" >1</td>\n",
              "            </tr>\n",
              "            <tr>\n",
              "                        <th id=\"T_44559860_5cd2_11ec_8c54_0242ac1c0002level0_row1\" class=\"row_heading level0 row1\" >1</th>\n",
              "                        <td id=\"T_44559860_5cd2_11ec_8c54_0242ac1c0002row1_col0\" class=\"data row1 col0\" >B</td>\n",
              "                        <td id=\"T_44559860_5cd2_11ec_8c54_0242ac1c0002row1_col1\" class=\"data row1 col1\" >F</td>\n",
              "                        <td id=\"T_44559860_5cd2_11ec_8c54_0242ac1c0002row1_col2\" class=\"data row1 col2\" >1</td>\n",
              "                        <td id=\"T_44559860_5cd2_11ec_8c54_0242ac1c0002row1_col3\" class=\"data row1 col3\" >nan</td>\n",
              "                        <td id=\"T_44559860_5cd2_11ec_8c54_0242ac1c0002row1_col4\" class=\"data row1 col4\" >0</td>\n",
              "                        <td id=\"T_44559860_5cd2_11ec_8c54_0242ac1c0002row1_col5\" class=\"data row1 col5\" >0.000000</td>\n",
              "                        <td id=\"T_44559860_5cd2_11ec_8c54_0242ac1c0002row1_col6\" class=\"data row1 col6\" >0</td>\n",
              "            </tr>\n",
              "            <tr>\n",
              "                        <th id=\"T_44559860_5cd2_11ec_8c54_0242ac1c0002level0_row2\" class=\"row_heading level0 row2\" >2</th>\n",
              "                        <td id=\"T_44559860_5cd2_11ec_8c54_0242ac1c0002row2_col0\" class=\"data row2 col0\" >C</td>\n",
              "                        <td id=\"T_44559860_5cd2_11ec_8c54_0242ac1c0002row2_col1\" class=\"data row2 col1\" >F</td>\n",
              "                        <td id=\"T_44559860_5cd2_11ec_8c54_0242ac1c0002row2_col2\" class=\"data row2 col2\" >0</td>\n",
              "                        <td id=\"T_44559860_5cd2_11ec_8c54_0242ac1c0002row2_col3\" class=\"data row2 col3\" >0.000000</td>\n",
              "                        <td id=\"T_44559860_5cd2_11ec_8c54_0242ac1c0002row2_col4\" class=\"data row2 col4\" >1</td>\n",
              "                        <td id=\"T_44559860_5cd2_11ec_8c54_0242ac1c0002row2_col5\" class=\"data row2 col5\" >nan</td>\n",
              "                        <td id=\"T_44559860_5cd2_11ec_8c54_0242ac1c0002row2_col6\" class=\"data row2 col6\" >1</td>\n",
              "            </tr>\n",
              "            <tr>\n",
              "                        <th id=\"T_44559860_5cd2_11ec_8c54_0242ac1c0002level0_row3\" class=\"row_heading level0 row3\" >3</th>\n",
              "                        <td id=\"T_44559860_5cd2_11ec_8c54_0242ac1c0002row3_col0\" class=\"data row3 col0\" >D</td>\n",
              "                        <td id=\"T_44559860_5cd2_11ec_8c54_0242ac1c0002row3_col1\" class=\"data row3 col1\" >M</td>\n",
              "                        <td id=\"T_44559860_5cd2_11ec_8c54_0242ac1c0002row3_col2\" class=\"data row3 col2\" >1</td>\n",
              "                        <td id=\"T_44559860_5cd2_11ec_8c54_0242ac1c0002row3_col3\" class=\"data row3 col3\" >0.000000</td>\n",
              "                        <td id=\"T_44559860_5cd2_11ec_8c54_0242ac1c0002row3_col4\" class=\"data row3 col4\" >1</td>\n",
              "                        <td id=\"T_44559860_5cd2_11ec_8c54_0242ac1c0002row3_col5\" class=\"data row3 col5\" >1.000000</td>\n",
              "                        <td id=\"T_44559860_5cd2_11ec_8c54_0242ac1c0002row3_col6\" class=\"data row3 col6\" >0</td>\n",
              "            </tr>\n",
              "    </tbody></table>"
            ],
            "text/plain": [
              "<pandas.io.formats.style.Styler at 0x7f0af4514cd0>"
            ]
          },
          "metadata": {},
          "execution_count": 5
        }
      ]
    },
    {
      "cell_type": "markdown",
      "source": [
        "`df.style.highlight_null()`  highlights missing or null values in the dataframe.\n",
        "\n",
        "Let's see the syntax of `df.style.highlight_null()`.\n",
        "\n",
        "### df.style.highlight_null()\n",
        "\n",
        "__df.style.highlight_null(null_color='red', subset=None, props=None)__\n",
        "\n",
        "__Purpose:__ To highlight missing values in the dataframe.\n",
        "\n",
        "__Parameters:__\n",
        "\n",
        "__- null_color:__ color for empty blocks, default color is 'red'.\n",
        "\n",
        "__- subset:__  valid slice of data to limit the style of dataframe.\n",
        "\n",
        "__- props:__ CSS properties for highlighting missing values.\n",
        "\n",
        "__Returns:__ Dataframe with applied properties of styles."
      ],
      "metadata": {
        "id": "Ogt7HmQzQLu2"
      }
    },
    {
      "cell_type": "code",
      "source": [
        "# Highlighting Null Values\n",
        "\n",
        "df.style.highlight_null()"
      ],
      "metadata": {
        "colab": {
          "base_uri": "https://localhost:8080/",
          "height": 174
        },
        "id": "XTn5add8QxWr",
        "outputId": "2c2ec998-e67c-40a2-900c-d12658e75060"
      },
      "execution_count": null,
      "outputs": [
        {
          "output_type": "execute_result",
          "data": {
            "text/html": [
              "<style  type=\"text/css\" >\n",
              "#T_445a083c_5cd2_11ec_8c54_0242ac1c0002row1_col3,#T_445a083c_5cd2_11ec_8c54_0242ac1c0002row2_col5{\n",
              "            background-color:  red;\n",
              "        }</style><table id=\"T_445a083c_5cd2_11ec_8c54_0242ac1c0002\" class=\"dataframe\"><thead>    <tr>        <th class=\"blank level0\" ></th>        <th class=\"col_heading level0 col0\" >Name</th>        <th class=\"col_heading level0 col1\" >Gender</th>        <th class=\"col_heading level0 col2\" >Fatigue</th>        <th class=\"col_heading level0 col3\" >More thirst</th>        <th class=\"col_heading level0 col4\" >Weight Loss</th>        <th class=\"col_heading level0 col5\" >Dehydration</th>        <th class=\"col_heading level0 col6\" >Mood swings</th>    </tr></thead><tbody>\n",
              "                <tr>\n",
              "                        <th id=\"T_445a083c_5cd2_11ec_8c54_0242ac1c0002level0_row0\" class=\"row_heading level0 row0\" >0</th>\n",
              "                        <td id=\"T_445a083c_5cd2_11ec_8c54_0242ac1c0002row0_col0\" class=\"data row0 col0\" >A</td>\n",
              "                        <td id=\"T_445a083c_5cd2_11ec_8c54_0242ac1c0002row0_col1\" class=\"data row0 col1\" >M</td>\n",
              "                        <td id=\"T_445a083c_5cd2_11ec_8c54_0242ac1c0002row0_col2\" class=\"data row0 col2\" >0</td>\n",
              "                        <td id=\"T_445a083c_5cd2_11ec_8c54_0242ac1c0002row0_col3\" class=\"data row0 col3\" >1.000000</td>\n",
              "                        <td id=\"T_445a083c_5cd2_11ec_8c54_0242ac1c0002row0_col4\" class=\"data row0 col4\" >1</td>\n",
              "                        <td id=\"T_445a083c_5cd2_11ec_8c54_0242ac1c0002row0_col5\" class=\"data row0 col5\" >1.000000</td>\n",
              "                        <td id=\"T_445a083c_5cd2_11ec_8c54_0242ac1c0002row0_col6\" class=\"data row0 col6\" >1</td>\n",
              "            </tr>\n",
              "            <tr>\n",
              "                        <th id=\"T_445a083c_5cd2_11ec_8c54_0242ac1c0002level0_row1\" class=\"row_heading level0 row1\" >1</th>\n",
              "                        <td id=\"T_445a083c_5cd2_11ec_8c54_0242ac1c0002row1_col0\" class=\"data row1 col0\" >B</td>\n",
              "                        <td id=\"T_445a083c_5cd2_11ec_8c54_0242ac1c0002row1_col1\" class=\"data row1 col1\" >F</td>\n",
              "                        <td id=\"T_445a083c_5cd2_11ec_8c54_0242ac1c0002row1_col2\" class=\"data row1 col2\" >1</td>\n",
              "                        <td id=\"T_445a083c_5cd2_11ec_8c54_0242ac1c0002row1_col3\" class=\"data row1 col3\" >nan</td>\n",
              "                        <td id=\"T_445a083c_5cd2_11ec_8c54_0242ac1c0002row1_col4\" class=\"data row1 col4\" >0</td>\n",
              "                        <td id=\"T_445a083c_5cd2_11ec_8c54_0242ac1c0002row1_col5\" class=\"data row1 col5\" >0.000000</td>\n",
              "                        <td id=\"T_445a083c_5cd2_11ec_8c54_0242ac1c0002row1_col6\" class=\"data row1 col6\" >0</td>\n",
              "            </tr>\n",
              "            <tr>\n",
              "                        <th id=\"T_445a083c_5cd2_11ec_8c54_0242ac1c0002level0_row2\" class=\"row_heading level0 row2\" >2</th>\n",
              "                        <td id=\"T_445a083c_5cd2_11ec_8c54_0242ac1c0002row2_col0\" class=\"data row2 col0\" >C</td>\n",
              "                        <td id=\"T_445a083c_5cd2_11ec_8c54_0242ac1c0002row2_col1\" class=\"data row2 col1\" >F</td>\n",
              "                        <td id=\"T_445a083c_5cd2_11ec_8c54_0242ac1c0002row2_col2\" class=\"data row2 col2\" >0</td>\n",
              "                        <td id=\"T_445a083c_5cd2_11ec_8c54_0242ac1c0002row2_col3\" class=\"data row2 col3\" >0.000000</td>\n",
              "                        <td id=\"T_445a083c_5cd2_11ec_8c54_0242ac1c0002row2_col4\" class=\"data row2 col4\" >1</td>\n",
              "                        <td id=\"T_445a083c_5cd2_11ec_8c54_0242ac1c0002row2_col5\" class=\"data row2 col5\" >nan</td>\n",
              "                        <td id=\"T_445a083c_5cd2_11ec_8c54_0242ac1c0002row2_col6\" class=\"data row2 col6\" >1</td>\n",
              "            </tr>\n",
              "            <tr>\n",
              "                        <th id=\"T_445a083c_5cd2_11ec_8c54_0242ac1c0002level0_row3\" class=\"row_heading level0 row3\" >3</th>\n",
              "                        <td id=\"T_445a083c_5cd2_11ec_8c54_0242ac1c0002row3_col0\" class=\"data row3 col0\" >D</td>\n",
              "                        <td id=\"T_445a083c_5cd2_11ec_8c54_0242ac1c0002row3_col1\" class=\"data row3 col1\" >M</td>\n",
              "                        <td id=\"T_445a083c_5cd2_11ec_8c54_0242ac1c0002row3_col2\" class=\"data row3 col2\" >1</td>\n",
              "                        <td id=\"T_445a083c_5cd2_11ec_8c54_0242ac1c0002row3_col3\" class=\"data row3 col3\" >0.000000</td>\n",
              "                        <td id=\"T_445a083c_5cd2_11ec_8c54_0242ac1c0002row3_col4\" class=\"data row3 col4\" >1</td>\n",
              "                        <td id=\"T_445a083c_5cd2_11ec_8c54_0242ac1c0002row3_col5\" class=\"data row3 col5\" >1.000000</td>\n",
              "                        <td id=\"T_445a083c_5cd2_11ec_8c54_0242ac1c0002row3_col6\" class=\"data row3 col6\" >0</td>\n",
              "            </tr>\n",
              "    </tbody></table>"
            ],
            "text/plain": [
              "<pandas.io.formats.style.Styler at 0x7f0af45148d0>"
            ]
          },
          "metadata": {},
          "execution_count": 6
        }
      ]
    },
    {
      "cell_type": "markdown",
      "source": [
        "Similarly, highlighting minimum & maximum values in dataframe using `df.style.highlight_min()` & `df.style.highlight_max()`.\n",
        "\n",
        "Let's see the syntax of `df.style.highlight_min()` & `df.style.highlight_max()`.\n",
        "\n",
        "### df.style.highlight_min() and df.style.highlight_max()\n",
        "\n",
        "__df.style.highlight_min(subset=None, color='yellow', axis=0, props=None)__\n",
        "\n",
        "__Purpose:__ highlight minimum values in the dataframe.\n",
        "\n",
        "\n",
        "__df.style.highlight_max(subset=None, color='yellow', axis=0, props=None)__\n",
        "\n",
        "__Purpose:__ highlight maximum values in the dataframe.\n",
        "\n",
        "\n",
        "__Parameters:__ \n",
        "\n",
        "__- subset:__ valid slice of data to limit the style of dataframe.\n",
        "\n",
        "__- color:__ color for minimum value block by default it is 'yellow'\n",
        "\n",
        "__- axis:__ 0 or ‘index’ applies function to each column. 1 or ‘columns’ applies function to each row.\n",
        "\n",
        "__- props:__ CSS properties for highlighting minimum values.\n",
        "\n",
        "__Returns:__ Dataframe with applied properties of styles."
      ],
      "metadata": {
        "id": "Zpzk3d-cRGMs"
      }
    },
    {
      "cell_type": "code",
      "source": [
        "df.style.highlight_min(axis = 0)"
      ],
      "metadata": {
        "colab": {
          "base_uri": "https://localhost:8080/",
          "height": 174
        },
        "id": "3_h8Kiv9SMAz",
        "outputId": "1c88a3be-0a9b-4fc3-d8f0-fc47512027d5"
      },
      "execution_count": null,
      "outputs": [
        {
          "output_type": "execute_result",
          "data": {
            "text/html": [
              "<style  type=\"text/css\" >\n",
              "#T_4460b4de_5cd2_11ec_8c54_0242ac1c0002row0_col2,#T_4460b4de_5cd2_11ec_8c54_0242ac1c0002row1_col4,#T_4460b4de_5cd2_11ec_8c54_0242ac1c0002row1_col5,#T_4460b4de_5cd2_11ec_8c54_0242ac1c0002row1_col6,#T_4460b4de_5cd2_11ec_8c54_0242ac1c0002row2_col2,#T_4460b4de_5cd2_11ec_8c54_0242ac1c0002row2_col3,#T_4460b4de_5cd2_11ec_8c54_0242ac1c0002row3_col3,#T_4460b4de_5cd2_11ec_8c54_0242ac1c0002row3_col6{\n",
              "            background-color:  yellow;\n",
              "        }</style><table id=\"T_4460b4de_5cd2_11ec_8c54_0242ac1c0002\" class=\"dataframe\"><thead>    <tr>        <th class=\"blank level0\" ></th>        <th class=\"col_heading level0 col0\" >Name</th>        <th class=\"col_heading level0 col1\" >Gender</th>        <th class=\"col_heading level0 col2\" >Fatigue</th>        <th class=\"col_heading level0 col3\" >More thirst</th>        <th class=\"col_heading level0 col4\" >Weight Loss</th>        <th class=\"col_heading level0 col5\" >Dehydration</th>        <th class=\"col_heading level0 col6\" >Mood swings</th>    </tr></thead><tbody>\n",
              "                <tr>\n",
              "                        <th id=\"T_4460b4de_5cd2_11ec_8c54_0242ac1c0002level0_row0\" class=\"row_heading level0 row0\" >0</th>\n",
              "                        <td id=\"T_4460b4de_5cd2_11ec_8c54_0242ac1c0002row0_col0\" class=\"data row0 col0\" >A</td>\n",
              "                        <td id=\"T_4460b4de_5cd2_11ec_8c54_0242ac1c0002row0_col1\" class=\"data row0 col1\" >M</td>\n",
              "                        <td id=\"T_4460b4de_5cd2_11ec_8c54_0242ac1c0002row0_col2\" class=\"data row0 col2\" >0</td>\n",
              "                        <td id=\"T_4460b4de_5cd2_11ec_8c54_0242ac1c0002row0_col3\" class=\"data row0 col3\" >1.000000</td>\n",
              "                        <td id=\"T_4460b4de_5cd2_11ec_8c54_0242ac1c0002row0_col4\" class=\"data row0 col4\" >1</td>\n",
              "                        <td id=\"T_4460b4de_5cd2_11ec_8c54_0242ac1c0002row0_col5\" class=\"data row0 col5\" >1.000000</td>\n",
              "                        <td id=\"T_4460b4de_5cd2_11ec_8c54_0242ac1c0002row0_col6\" class=\"data row0 col6\" >1</td>\n",
              "            </tr>\n",
              "            <tr>\n",
              "                        <th id=\"T_4460b4de_5cd2_11ec_8c54_0242ac1c0002level0_row1\" class=\"row_heading level0 row1\" >1</th>\n",
              "                        <td id=\"T_4460b4de_5cd2_11ec_8c54_0242ac1c0002row1_col0\" class=\"data row1 col0\" >B</td>\n",
              "                        <td id=\"T_4460b4de_5cd2_11ec_8c54_0242ac1c0002row1_col1\" class=\"data row1 col1\" >F</td>\n",
              "                        <td id=\"T_4460b4de_5cd2_11ec_8c54_0242ac1c0002row1_col2\" class=\"data row1 col2\" >1</td>\n",
              "                        <td id=\"T_4460b4de_5cd2_11ec_8c54_0242ac1c0002row1_col3\" class=\"data row1 col3\" >nan</td>\n",
              "                        <td id=\"T_4460b4de_5cd2_11ec_8c54_0242ac1c0002row1_col4\" class=\"data row1 col4\" >0</td>\n",
              "                        <td id=\"T_4460b4de_5cd2_11ec_8c54_0242ac1c0002row1_col5\" class=\"data row1 col5\" >0.000000</td>\n",
              "                        <td id=\"T_4460b4de_5cd2_11ec_8c54_0242ac1c0002row1_col6\" class=\"data row1 col6\" >0</td>\n",
              "            </tr>\n",
              "            <tr>\n",
              "                        <th id=\"T_4460b4de_5cd2_11ec_8c54_0242ac1c0002level0_row2\" class=\"row_heading level0 row2\" >2</th>\n",
              "                        <td id=\"T_4460b4de_5cd2_11ec_8c54_0242ac1c0002row2_col0\" class=\"data row2 col0\" >C</td>\n",
              "                        <td id=\"T_4460b4de_5cd2_11ec_8c54_0242ac1c0002row2_col1\" class=\"data row2 col1\" >F</td>\n",
              "                        <td id=\"T_4460b4de_5cd2_11ec_8c54_0242ac1c0002row2_col2\" class=\"data row2 col2\" >0</td>\n",
              "                        <td id=\"T_4460b4de_5cd2_11ec_8c54_0242ac1c0002row2_col3\" class=\"data row2 col3\" >0.000000</td>\n",
              "                        <td id=\"T_4460b4de_5cd2_11ec_8c54_0242ac1c0002row2_col4\" class=\"data row2 col4\" >1</td>\n",
              "                        <td id=\"T_4460b4de_5cd2_11ec_8c54_0242ac1c0002row2_col5\" class=\"data row2 col5\" >nan</td>\n",
              "                        <td id=\"T_4460b4de_5cd2_11ec_8c54_0242ac1c0002row2_col6\" class=\"data row2 col6\" >1</td>\n",
              "            </tr>\n",
              "            <tr>\n",
              "                        <th id=\"T_4460b4de_5cd2_11ec_8c54_0242ac1c0002level0_row3\" class=\"row_heading level0 row3\" >3</th>\n",
              "                        <td id=\"T_4460b4de_5cd2_11ec_8c54_0242ac1c0002row3_col0\" class=\"data row3 col0\" >D</td>\n",
              "                        <td id=\"T_4460b4de_5cd2_11ec_8c54_0242ac1c0002row3_col1\" class=\"data row3 col1\" >M</td>\n",
              "                        <td id=\"T_4460b4de_5cd2_11ec_8c54_0242ac1c0002row3_col2\" class=\"data row3 col2\" >1</td>\n",
              "                        <td id=\"T_4460b4de_5cd2_11ec_8c54_0242ac1c0002row3_col3\" class=\"data row3 col3\" >0.000000</td>\n",
              "                        <td id=\"T_4460b4de_5cd2_11ec_8c54_0242ac1c0002row3_col4\" class=\"data row3 col4\" >1</td>\n",
              "                        <td id=\"T_4460b4de_5cd2_11ec_8c54_0242ac1c0002row3_col5\" class=\"data row3 col5\" >1.000000</td>\n",
              "                        <td id=\"T_4460b4de_5cd2_11ec_8c54_0242ac1c0002row3_col6\" class=\"data row3 col6\" >0</td>\n",
              "            </tr>\n",
              "    </tbody></table>"
            ],
            "text/plain": [
              "<pandas.io.formats.style.Styler at 0x7f0af44c9190>"
            ]
          },
          "metadata": {},
          "execution_count": 7
        }
      ]
    },
    {
      "cell_type": "code",
      "source": [
        "df.style.highlight_max(axis = 0)"
      ],
      "metadata": {
        "colab": {
          "base_uri": "https://localhost:8080/",
          "height": 174
        },
        "id": "t7Te5e8zTW1c",
        "outputId": "8a0f1cca-8996-455e-f254-cd67aa0e17cd"
      },
      "execution_count": null,
      "outputs": [
        {
          "output_type": "execute_result",
          "data": {
            "text/html": [
              "<style  type=\"text/css\" >\n",
              "#T_4464a9b8_5cd2_11ec_8c54_0242ac1c0002row0_col3,#T_4464a9b8_5cd2_11ec_8c54_0242ac1c0002row0_col4,#T_4464a9b8_5cd2_11ec_8c54_0242ac1c0002row0_col5,#T_4464a9b8_5cd2_11ec_8c54_0242ac1c0002row0_col6,#T_4464a9b8_5cd2_11ec_8c54_0242ac1c0002row1_col2,#T_4464a9b8_5cd2_11ec_8c54_0242ac1c0002row2_col4,#T_4464a9b8_5cd2_11ec_8c54_0242ac1c0002row2_col6,#T_4464a9b8_5cd2_11ec_8c54_0242ac1c0002row3_col2,#T_4464a9b8_5cd2_11ec_8c54_0242ac1c0002row3_col4,#T_4464a9b8_5cd2_11ec_8c54_0242ac1c0002row3_col5{\n",
              "            background-color:  yellow;\n",
              "        }</style><table id=\"T_4464a9b8_5cd2_11ec_8c54_0242ac1c0002\" class=\"dataframe\"><thead>    <tr>        <th class=\"blank level0\" ></th>        <th class=\"col_heading level0 col0\" >Name</th>        <th class=\"col_heading level0 col1\" >Gender</th>        <th class=\"col_heading level0 col2\" >Fatigue</th>        <th class=\"col_heading level0 col3\" >More thirst</th>        <th class=\"col_heading level0 col4\" >Weight Loss</th>        <th class=\"col_heading level0 col5\" >Dehydration</th>        <th class=\"col_heading level0 col6\" >Mood swings</th>    </tr></thead><tbody>\n",
              "                <tr>\n",
              "                        <th id=\"T_4464a9b8_5cd2_11ec_8c54_0242ac1c0002level0_row0\" class=\"row_heading level0 row0\" >0</th>\n",
              "                        <td id=\"T_4464a9b8_5cd2_11ec_8c54_0242ac1c0002row0_col0\" class=\"data row0 col0\" >A</td>\n",
              "                        <td id=\"T_4464a9b8_5cd2_11ec_8c54_0242ac1c0002row0_col1\" class=\"data row0 col1\" >M</td>\n",
              "                        <td id=\"T_4464a9b8_5cd2_11ec_8c54_0242ac1c0002row0_col2\" class=\"data row0 col2\" >0</td>\n",
              "                        <td id=\"T_4464a9b8_5cd2_11ec_8c54_0242ac1c0002row0_col3\" class=\"data row0 col3\" >1.000000</td>\n",
              "                        <td id=\"T_4464a9b8_5cd2_11ec_8c54_0242ac1c0002row0_col4\" class=\"data row0 col4\" >1</td>\n",
              "                        <td id=\"T_4464a9b8_5cd2_11ec_8c54_0242ac1c0002row0_col5\" class=\"data row0 col5\" >1.000000</td>\n",
              "                        <td id=\"T_4464a9b8_5cd2_11ec_8c54_0242ac1c0002row0_col6\" class=\"data row0 col6\" >1</td>\n",
              "            </tr>\n",
              "            <tr>\n",
              "                        <th id=\"T_4464a9b8_5cd2_11ec_8c54_0242ac1c0002level0_row1\" class=\"row_heading level0 row1\" >1</th>\n",
              "                        <td id=\"T_4464a9b8_5cd2_11ec_8c54_0242ac1c0002row1_col0\" class=\"data row1 col0\" >B</td>\n",
              "                        <td id=\"T_4464a9b8_5cd2_11ec_8c54_0242ac1c0002row1_col1\" class=\"data row1 col1\" >F</td>\n",
              "                        <td id=\"T_4464a9b8_5cd2_11ec_8c54_0242ac1c0002row1_col2\" class=\"data row1 col2\" >1</td>\n",
              "                        <td id=\"T_4464a9b8_5cd2_11ec_8c54_0242ac1c0002row1_col3\" class=\"data row1 col3\" >nan</td>\n",
              "                        <td id=\"T_4464a9b8_5cd2_11ec_8c54_0242ac1c0002row1_col4\" class=\"data row1 col4\" >0</td>\n",
              "                        <td id=\"T_4464a9b8_5cd2_11ec_8c54_0242ac1c0002row1_col5\" class=\"data row1 col5\" >0.000000</td>\n",
              "                        <td id=\"T_4464a9b8_5cd2_11ec_8c54_0242ac1c0002row1_col6\" class=\"data row1 col6\" >0</td>\n",
              "            </tr>\n",
              "            <tr>\n",
              "                        <th id=\"T_4464a9b8_5cd2_11ec_8c54_0242ac1c0002level0_row2\" class=\"row_heading level0 row2\" >2</th>\n",
              "                        <td id=\"T_4464a9b8_5cd2_11ec_8c54_0242ac1c0002row2_col0\" class=\"data row2 col0\" >C</td>\n",
              "                        <td id=\"T_4464a9b8_5cd2_11ec_8c54_0242ac1c0002row2_col1\" class=\"data row2 col1\" >F</td>\n",
              "                        <td id=\"T_4464a9b8_5cd2_11ec_8c54_0242ac1c0002row2_col2\" class=\"data row2 col2\" >0</td>\n",
              "                        <td id=\"T_4464a9b8_5cd2_11ec_8c54_0242ac1c0002row2_col3\" class=\"data row2 col3\" >0.000000</td>\n",
              "                        <td id=\"T_4464a9b8_5cd2_11ec_8c54_0242ac1c0002row2_col4\" class=\"data row2 col4\" >1</td>\n",
              "                        <td id=\"T_4464a9b8_5cd2_11ec_8c54_0242ac1c0002row2_col5\" class=\"data row2 col5\" >nan</td>\n",
              "                        <td id=\"T_4464a9b8_5cd2_11ec_8c54_0242ac1c0002row2_col6\" class=\"data row2 col6\" >1</td>\n",
              "            </tr>\n",
              "            <tr>\n",
              "                        <th id=\"T_4464a9b8_5cd2_11ec_8c54_0242ac1c0002level0_row3\" class=\"row_heading level0 row3\" >3</th>\n",
              "                        <td id=\"T_4464a9b8_5cd2_11ec_8c54_0242ac1c0002row3_col0\" class=\"data row3 col0\" >D</td>\n",
              "                        <td id=\"T_4464a9b8_5cd2_11ec_8c54_0242ac1c0002row3_col1\" class=\"data row3 col1\" >M</td>\n",
              "                        <td id=\"T_4464a9b8_5cd2_11ec_8c54_0242ac1c0002row3_col2\" class=\"data row3 col2\" >1</td>\n",
              "                        <td id=\"T_4464a9b8_5cd2_11ec_8c54_0242ac1c0002row3_col3\" class=\"data row3 col3\" >0.000000</td>\n",
              "                        <td id=\"T_4464a9b8_5cd2_11ec_8c54_0242ac1c0002row3_col4\" class=\"data row3 col4\" >1</td>\n",
              "                        <td id=\"T_4464a9b8_5cd2_11ec_8c54_0242ac1c0002row3_col5\" class=\"data row3 col5\" >1.000000</td>\n",
              "                        <td id=\"T_4464a9b8_5cd2_11ec_8c54_0242ac1c0002row3_col6\" class=\"data row3 col6\" >0</td>\n",
              "            </tr>\n",
              "    </tbody></table>"
            ],
            "text/plain": [
              "<pandas.io.formats.style.Styler at 0x7f0af403f810>"
            ]
          },
          "metadata": {},
          "execution_count": 8
        }
      ]
    },
    {
      "cell_type": "markdown",
      "source": [
        "## 2.Set background color and font color using User-defined function & applymap function"
      ],
      "metadata": {
        "id": "PyVeFki0Tl1r"
      }
    },
    {
      "cell_type": "markdown",
      "source": [
        "Defining function `fun()` which will be applied on each block of dataframe.\n",
        "\n",
        "Let's see the sytax of `df.style.applymap()`.\n",
        "\n",
        "### df.style.applymap()\n",
        "\n",
        "__df.style.applymap(func, na_action=None, **kwargs)__\n",
        "\n",
        "__Purpose:__ used to apply function which accepts and returns scalars for every element of dataframe.\n",
        "\n",
        "__Parameters:__\n",
        "\n",
        " __- func:__ function to be applied on row or column.\n",
        "\n",
        "__- na_action:__ iterate through dataframe either ignoring `NaN` values without passing them to function.\n",
        "\n",
        "__- **kwargs:__ To pass arguments to the function.\n",
        "\n",
        "__Returns:__ Dataframe with applied properties of styles."
      ],
      "metadata": {
        "id": "02fv_jHXT7qk"
      }
    },
    {
      "cell_type": "code",
      "source": [
        "# Defining function `fun` which sets the background color to orange and font color to blue\n",
        "\n",
        "def fun(val):\n",
        "  return 'background-color: orange ; color: blue'\n",
        "\n",
        "df.style.applymap(fun)"
      ],
      "metadata": {
        "colab": {
          "base_uri": "https://localhost:8080/",
          "height": 174
        },
        "id": "4gAuZA3IUk5b",
        "outputId": "2779350b-3d75-438b-81a1-ddecf37008cb"
      },
      "execution_count": null,
      "outputs": [
        {
          "output_type": "execute_result",
          "data": {
            "text/html": [
              "<style  type=\"text/css\" >\n",
              "#T_4468eae6_5cd2_11ec_8c54_0242ac1c0002row0_col0,#T_4468eae6_5cd2_11ec_8c54_0242ac1c0002row0_col1,#T_4468eae6_5cd2_11ec_8c54_0242ac1c0002row0_col2,#T_4468eae6_5cd2_11ec_8c54_0242ac1c0002row0_col3,#T_4468eae6_5cd2_11ec_8c54_0242ac1c0002row0_col4,#T_4468eae6_5cd2_11ec_8c54_0242ac1c0002row0_col5,#T_4468eae6_5cd2_11ec_8c54_0242ac1c0002row0_col6,#T_4468eae6_5cd2_11ec_8c54_0242ac1c0002row1_col0,#T_4468eae6_5cd2_11ec_8c54_0242ac1c0002row1_col1,#T_4468eae6_5cd2_11ec_8c54_0242ac1c0002row1_col2,#T_4468eae6_5cd2_11ec_8c54_0242ac1c0002row1_col3,#T_4468eae6_5cd2_11ec_8c54_0242ac1c0002row1_col4,#T_4468eae6_5cd2_11ec_8c54_0242ac1c0002row1_col5,#T_4468eae6_5cd2_11ec_8c54_0242ac1c0002row1_col6,#T_4468eae6_5cd2_11ec_8c54_0242ac1c0002row2_col0,#T_4468eae6_5cd2_11ec_8c54_0242ac1c0002row2_col1,#T_4468eae6_5cd2_11ec_8c54_0242ac1c0002row2_col2,#T_4468eae6_5cd2_11ec_8c54_0242ac1c0002row2_col3,#T_4468eae6_5cd2_11ec_8c54_0242ac1c0002row2_col4,#T_4468eae6_5cd2_11ec_8c54_0242ac1c0002row2_col5,#T_4468eae6_5cd2_11ec_8c54_0242ac1c0002row2_col6,#T_4468eae6_5cd2_11ec_8c54_0242ac1c0002row3_col0,#T_4468eae6_5cd2_11ec_8c54_0242ac1c0002row3_col1,#T_4468eae6_5cd2_11ec_8c54_0242ac1c0002row3_col2,#T_4468eae6_5cd2_11ec_8c54_0242ac1c0002row3_col3,#T_4468eae6_5cd2_11ec_8c54_0242ac1c0002row3_col4,#T_4468eae6_5cd2_11ec_8c54_0242ac1c0002row3_col5,#T_4468eae6_5cd2_11ec_8c54_0242ac1c0002row3_col6{\n",
              "            background-color:  orange ;\n",
              "             color:  blue;\n",
              "        }</style><table id=\"T_4468eae6_5cd2_11ec_8c54_0242ac1c0002\" class=\"dataframe\"><thead>    <tr>        <th class=\"blank level0\" ></th>        <th class=\"col_heading level0 col0\" >Name</th>        <th class=\"col_heading level0 col1\" >Gender</th>        <th class=\"col_heading level0 col2\" >Fatigue</th>        <th class=\"col_heading level0 col3\" >More thirst</th>        <th class=\"col_heading level0 col4\" >Weight Loss</th>        <th class=\"col_heading level0 col5\" >Dehydration</th>        <th class=\"col_heading level0 col6\" >Mood swings</th>    </tr></thead><tbody>\n",
              "                <tr>\n",
              "                        <th id=\"T_4468eae6_5cd2_11ec_8c54_0242ac1c0002level0_row0\" class=\"row_heading level0 row0\" >0</th>\n",
              "                        <td id=\"T_4468eae6_5cd2_11ec_8c54_0242ac1c0002row0_col0\" class=\"data row0 col0\" >A</td>\n",
              "                        <td id=\"T_4468eae6_5cd2_11ec_8c54_0242ac1c0002row0_col1\" class=\"data row0 col1\" >M</td>\n",
              "                        <td id=\"T_4468eae6_5cd2_11ec_8c54_0242ac1c0002row0_col2\" class=\"data row0 col2\" >0</td>\n",
              "                        <td id=\"T_4468eae6_5cd2_11ec_8c54_0242ac1c0002row0_col3\" class=\"data row0 col3\" >1.000000</td>\n",
              "                        <td id=\"T_4468eae6_5cd2_11ec_8c54_0242ac1c0002row0_col4\" class=\"data row0 col4\" >1</td>\n",
              "                        <td id=\"T_4468eae6_5cd2_11ec_8c54_0242ac1c0002row0_col5\" class=\"data row0 col5\" >1.000000</td>\n",
              "                        <td id=\"T_4468eae6_5cd2_11ec_8c54_0242ac1c0002row0_col6\" class=\"data row0 col6\" >1</td>\n",
              "            </tr>\n",
              "            <tr>\n",
              "                        <th id=\"T_4468eae6_5cd2_11ec_8c54_0242ac1c0002level0_row1\" class=\"row_heading level0 row1\" >1</th>\n",
              "                        <td id=\"T_4468eae6_5cd2_11ec_8c54_0242ac1c0002row1_col0\" class=\"data row1 col0\" >B</td>\n",
              "                        <td id=\"T_4468eae6_5cd2_11ec_8c54_0242ac1c0002row1_col1\" class=\"data row1 col1\" >F</td>\n",
              "                        <td id=\"T_4468eae6_5cd2_11ec_8c54_0242ac1c0002row1_col2\" class=\"data row1 col2\" >1</td>\n",
              "                        <td id=\"T_4468eae6_5cd2_11ec_8c54_0242ac1c0002row1_col3\" class=\"data row1 col3\" >nan</td>\n",
              "                        <td id=\"T_4468eae6_5cd2_11ec_8c54_0242ac1c0002row1_col4\" class=\"data row1 col4\" >0</td>\n",
              "                        <td id=\"T_4468eae6_5cd2_11ec_8c54_0242ac1c0002row1_col5\" class=\"data row1 col5\" >0.000000</td>\n",
              "                        <td id=\"T_4468eae6_5cd2_11ec_8c54_0242ac1c0002row1_col6\" class=\"data row1 col6\" >0</td>\n",
              "            </tr>\n",
              "            <tr>\n",
              "                        <th id=\"T_4468eae6_5cd2_11ec_8c54_0242ac1c0002level0_row2\" class=\"row_heading level0 row2\" >2</th>\n",
              "                        <td id=\"T_4468eae6_5cd2_11ec_8c54_0242ac1c0002row2_col0\" class=\"data row2 col0\" >C</td>\n",
              "                        <td id=\"T_4468eae6_5cd2_11ec_8c54_0242ac1c0002row2_col1\" class=\"data row2 col1\" >F</td>\n",
              "                        <td id=\"T_4468eae6_5cd2_11ec_8c54_0242ac1c0002row2_col2\" class=\"data row2 col2\" >0</td>\n",
              "                        <td id=\"T_4468eae6_5cd2_11ec_8c54_0242ac1c0002row2_col3\" class=\"data row2 col3\" >0.000000</td>\n",
              "                        <td id=\"T_4468eae6_5cd2_11ec_8c54_0242ac1c0002row2_col4\" class=\"data row2 col4\" >1</td>\n",
              "                        <td id=\"T_4468eae6_5cd2_11ec_8c54_0242ac1c0002row2_col5\" class=\"data row2 col5\" >nan</td>\n",
              "                        <td id=\"T_4468eae6_5cd2_11ec_8c54_0242ac1c0002row2_col6\" class=\"data row2 col6\" >1</td>\n",
              "            </tr>\n",
              "            <tr>\n",
              "                        <th id=\"T_4468eae6_5cd2_11ec_8c54_0242ac1c0002level0_row3\" class=\"row_heading level0 row3\" >3</th>\n",
              "                        <td id=\"T_4468eae6_5cd2_11ec_8c54_0242ac1c0002row3_col0\" class=\"data row3 col0\" >D</td>\n",
              "                        <td id=\"T_4468eae6_5cd2_11ec_8c54_0242ac1c0002row3_col1\" class=\"data row3 col1\" >M</td>\n",
              "                        <td id=\"T_4468eae6_5cd2_11ec_8c54_0242ac1c0002row3_col2\" class=\"data row3 col2\" >1</td>\n",
              "                        <td id=\"T_4468eae6_5cd2_11ec_8c54_0242ac1c0002row3_col3\" class=\"data row3 col3\" >0.000000</td>\n",
              "                        <td id=\"T_4468eae6_5cd2_11ec_8c54_0242ac1c0002row3_col4\" class=\"data row3 col4\" >1</td>\n",
              "                        <td id=\"T_4468eae6_5cd2_11ec_8c54_0242ac1c0002row3_col5\" class=\"data row3 col5\" >1.000000</td>\n",
              "                        <td id=\"T_4468eae6_5cd2_11ec_8c54_0242ac1c0002row3_col6\" class=\"data row3 col6\" >0</td>\n",
              "            </tr>\n",
              "    </tbody></table>"
            ],
            "text/plain": [
              "<pandas.io.formats.style.Styler at 0x7f0af404bdd0>"
            ]
          },
          "metadata": {},
          "execution_count": 9
        }
      ]
    },
    {
      "cell_type": "markdown",
      "source": [
        "## 3.Set background color and font color using Seaborn Library"
      ],
      "metadata": {
        "id": "64XPPY0IVIFE"
      }
    },
    {
      "cell_type": "markdown",
      "source": [
        "Seaborn color palette is used to add background and font colors in dataframe.\n",
        "\n",
        "Let's see the sytax of `df.style.background_gradient()`.\n",
        "\n",
        "### df.style.background_gradient()\n",
        "\n",
        "__df.style.background_gradient(cmap='PuBu', low=0, high=0, axis=0, subset=None, text_color_threshold=0.408, vmin=None, vmax=None, gmap=None)__\n",
        "\n",
        "__Purpose:__ to color the background in a gradient style.\n",
        "\n",
        "__Parameters:__\n",
        "\n",
        "__- cmap:__ Matplotlib colormap.\n",
        "\n",
        "__- low:__ compresses the color range at the low value side.\n",
        "\n",
        "__- high:__ compresses the color range at the high value side.\n",
        "\n",
        "__- axis:__ 0 or ‘index’ applies function to each column. 1 or ‘columns’ applies function to each row.\n",
        "\n",
        "__- subset:__ valid slice of data to limit the style of dataframe.\n",
        "\n",
        "__- text_color_threshold:__ luminance threshold for determining text color in `[0, 1]`. \n",
        "\n",
        "__- vmin:__ minimum data value which corresponds to colormap minimum value.\n",
        "\n",
        "__- vmax:__ maximum data value which corresponds to colormap maximum value.\n",
        "\n",
        "__- gmap:__ slope map for determining the background colors.\n",
        "\n",
        "__Returns:__ dataframe with applied properties of styles."
      ],
      "metadata": {
        "id": "MIXwq1gRVN2M"
      }
    },
    {
      "cell_type": "code",
      "source": [
        "# Import library\n",
        "import seaborn as sns\n",
        "\n",
        "# Using color palette for gradient fill in DataFrame\n",
        "# set_precision() will make values limited to 2nd decimal only\n",
        "df.style.background_gradient(cmap=sns.light_palette(\"red\", as_cmap=True)).set_precision(2)"
      ],
      "metadata": {
        "colab": {
          "base_uri": "https://localhost:8080/",
          "height": 174
        },
        "id": "GgbHTsFoV0uE",
        "outputId": "2e21700d-7fda-4121-856b-89ef08dda17a"
      },
      "execution_count": null,
      "outputs": [
        {
          "output_type": "execute_result",
          "data": {
            "text/html": [
              "<style  type=\"text/css\" >\n",
              "#T_44a74afc_5cd2_11ec_8c54_0242ac1c0002row0_col2,#T_44a74afc_5cd2_11ec_8c54_0242ac1c0002row1_col4,#T_44a74afc_5cd2_11ec_8c54_0242ac1c0002row1_col5,#T_44a74afc_5cd2_11ec_8c54_0242ac1c0002row1_col6,#T_44a74afc_5cd2_11ec_8c54_0242ac1c0002row2_col2,#T_44a74afc_5cd2_11ec_8c54_0242ac1c0002row2_col3,#T_44a74afc_5cd2_11ec_8c54_0242ac1c0002row3_col3,#T_44a74afc_5cd2_11ec_8c54_0242ac1c0002row3_col6{\n",
              "            background-color:  #f3f0f0;\n",
              "            color:  #000000;\n",
              "        }#T_44a74afc_5cd2_11ec_8c54_0242ac1c0002row0_col3,#T_44a74afc_5cd2_11ec_8c54_0242ac1c0002row0_col4,#T_44a74afc_5cd2_11ec_8c54_0242ac1c0002row0_col5,#T_44a74afc_5cd2_11ec_8c54_0242ac1c0002row0_col6,#T_44a74afc_5cd2_11ec_8c54_0242ac1c0002row1_col2,#T_44a74afc_5cd2_11ec_8c54_0242ac1c0002row2_col4,#T_44a74afc_5cd2_11ec_8c54_0242ac1c0002row2_col6,#T_44a74afc_5cd2_11ec_8c54_0242ac1c0002row3_col2,#T_44a74afc_5cd2_11ec_8c54_0242ac1c0002row3_col4,#T_44a74afc_5cd2_11ec_8c54_0242ac1c0002row3_col5{\n",
              "            background-color:  #ff0000;\n",
              "            color:  #f1f1f1;\n",
              "        }#T_44a74afc_5cd2_11ec_8c54_0242ac1c0002row1_col3,#T_44a74afc_5cd2_11ec_8c54_0242ac1c0002row2_col5{\n",
              "            background-color:  #000000;\n",
              "            color:  #f1f1f1;\n",
              "        }</style><table id=\"T_44a74afc_5cd2_11ec_8c54_0242ac1c0002\" class=\"dataframe\"><thead>    <tr>        <th class=\"blank level0\" ></th>        <th class=\"col_heading level0 col0\" >Name</th>        <th class=\"col_heading level0 col1\" >Gender</th>        <th class=\"col_heading level0 col2\" >Fatigue</th>        <th class=\"col_heading level0 col3\" >More thirst</th>        <th class=\"col_heading level0 col4\" >Weight Loss</th>        <th class=\"col_heading level0 col5\" >Dehydration</th>        <th class=\"col_heading level0 col6\" >Mood swings</th>    </tr></thead><tbody>\n",
              "                <tr>\n",
              "                        <th id=\"T_44a74afc_5cd2_11ec_8c54_0242ac1c0002level0_row0\" class=\"row_heading level0 row0\" >0</th>\n",
              "                        <td id=\"T_44a74afc_5cd2_11ec_8c54_0242ac1c0002row0_col0\" class=\"data row0 col0\" >A</td>\n",
              "                        <td id=\"T_44a74afc_5cd2_11ec_8c54_0242ac1c0002row0_col1\" class=\"data row0 col1\" >M</td>\n",
              "                        <td id=\"T_44a74afc_5cd2_11ec_8c54_0242ac1c0002row0_col2\" class=\"data row0 col2\" >0</td>\n",
              "                        <td id=\"T_44a74afc_5cd2_11ec_8c54_0242ac1c0002row0_col3\" class=\"data row0 col3\" >1.00</td>\n",
              "                        <td id=\"T_44a74afc_5cd2_11ec_8c54_0242ac1c0002row0_col4\" class=\"data row0 col4\" >1</td>\n",
              "                        <td id=\"T_44a74afc_5cd2_11ec_8c54_0242ac1c0002row0_col5\" class=\"data row0 col5\" >1.00</td>\n",
              "                        <td id=\"T_44a74afc_5cd2_11ec_8c54_0242ac1c0002row0_col6\" class=\"data row0 col6\" >1</td>\n",
              "            </tr>\n",
              "            <tr>\n",
              "                        <th id=\"T_44a74afc_5cd2_11ec_8c54_0242ac1c0002level0_row1\" class=\"row_heading level0 row1\" >1</th>\n",
              "                        <td id=\"T_44a74afc_5cd2_11ec_8c54_0242ac1c0002row1_col0\" class=\"data row1 col0\" >B</td>\n",
              "                        <td id=\"T_44a74afc_5cd2_11ec_8c54_0242ac1c0002row1_col1\" class=\"data row1 col1\" >F</td>\n",
              "                        <td id=\"T_44a74afc_5cd2_11ec_8c54_0242ac1c0002row1_col2\" class=\"data row1 col2\" >1</td>\n",
              "                        <td id=\"T_44a74afc_5cd2_11ec_8c54_0242ac1c0002row1_col3\" class=\"data row1 col3\" >nan</td>\n",
              "                        <td id=\"T_44a74afc_5cd2_11ec_8c54_0242ac1c0002row1_col4\" class=\"data row1 col4\" >0</td>\n",
              "                        <td id=\"T_44a74afc_5cd2_11ec_8c54_0242ac1c0002row1_col5\" class=\"data row1 col5\" >0.00</td>\n",
              "                        <td id=\"T_44a74afc_5cd2_11ec_8c54_0242ac1c0002row1_col6\" class=\"data row1 col6\" >0</td>\n",
              "            </tr>\n",
              "            <tr>\n",
              "                        <th id=\"T_44a74afc_5cd2_11ec_8c54_0242ac1c0002level0_row2\" class=\"row_heading level0 row2\" >2</th>\n",
              "                        <td id=\"T_44a74afc_5cd2_11ec_8c54_0242ac1c0002row2_col0\" class=\"data row2 col0\" >C</td>\n",
              "                        <td id=\"T_44a74afc_5cd2_11ec_8c54_0242ac1c0002row2_col1\" class=\"data row2 col1\" >F</td>\n",
              "                        <td id=\"T_44a74afc_5cd2_11ec_8c54_0242ac1c0002row2_col2\" class=\"data row2 col2\" >0</td>\n",
              "                        <td id=\"T_44a74afc_5cd2_11ec_8c54_0242ac1c0002row2_col3\" class=\"data row2 col3\" >0.00</td>\n",
              "                        <td id=\"T_44a74afc_5cd2_11ec_8c54_0242ac1c0002row2_col4\" class=\"data row2 col4\" >1</td>\n",
              "                        <td id=\"T_44a74afc_5cd2_11ec_8c54_0242ac1c0002row2_col5\" class=\"data row2 col5\" >nan</td>\n",
              "                        <td id=\"T_44a74afc_5cd2_11ec_8c54_0242ac1c0002row2_col6\" class=\"data row2 col6\" >1</td>\n",
              "            </tr>\n",
              "            <tr>\n",
              "                        <th id=\"T_44a74afc_5cd2_11ec_8c54_0242ac1c0002level0_row3\" class=\"row_heading level0 row3\" >3</th>\n",
              "                        <td id=\"T_44a74afc_5cd2_11ec_8c54_0242ac1c0002row3_col0\" class=\"data row3 col0\" >D</td>\n",
              "                        <td id=\"T_44a74afc_5cd2_11ec_8c54_0242ac1c0002row3_col1\" class=\"data row3 col1\" >M</td>\n",
              "                        <td id=\"T_44a74afc_5cd2_11ec_8c54_0242ac1c0002row3_col2\" class=\"data row3 col2\" >1</td>\n",
              "                        <td id=\"T_44a74afc_5cd2_11ec_8c54_0242ac1c0002row3_col3\" class=\"data row3 col3\" >0.00</td>\n",
              "                        <td id=\"T_44a74afc_5cd2_11ec_8c54_0242ac1c0002row3_col4\" class=\"data row3 col4\" >1</td>\n",
              "                        <td id=\"T_44a74afc_5cd2_11ec_8c54_0242ac1c0002row3_col5\" class=\"data row3 col5\" >1.00</td>\n",
              "                        <td id=\"T_44a74afc_5cd2_11ec_8c54_0242ac1c0002row3_col6\" class=\"data row3 col6\" >0</td>\n",
              "            </tr>\n",
              "    </tbody></table>"
            ],
            "text/plain": [
              "<pandas.io.formats.style.Styler at 0x7f0ae8bb9350>"
            ]
          },
          "metadata": {},
          "execution_count": 10
        }
      ]
    },
    {
      "cell_type": "code",
      "source": [
        "# Highlighting null or missing values using color palette\n",
        "df.style.background_gradient(cmap=sns.light_palette(\"gold\", as_cmap=True)).set_precision(2).highlight_null('red')"
      ],
      "metadata": {
        "colab": {
          "base_uri": "https://localhost:8080/",
          "height": 174
        },
        "id": "hHWM0CswWGLr",
        "outputId": "69b5a5dd-cd6a-4829-a25f-85edf22d08fe"
      },
      "execution_count": null,
      "outputs": [
        {
          "output_type": "execute_result",
          "data": {
            "text/html": [
              "<style  type=\"text/css\" >\n",
              "#T_44ad9bbe_5cd2_11ec_8c54_0242ac1c0002row0_col2,#T_44ad9bbe_5cd2_11ec_8c54_0242ac1c0002row1_col4,#T_44ad9bbe_5cd2_11ec_8c54_0242ac1c0002row1_col5,#T_44ad9bbe_5cd2_11ec_8c54_0242ac1c0002row1_col6,#T_44ad9bbe_5cd2_11ec_8c54_0242ac1c0002row2_col2,#T_44ad9bbe_5cd2_11ec_8c54_0242ac1c0002row2_col3,#T_44ad9bbe_5cd2_11ec_8c54_0242ac1c0002row3_col3,#T_44ad9bbe_5cd2_11ec_8c54_0242ac1c0002row3_col6{\n",
              "            background-color:  #f3f0eb;\n",
              "            color:  #000000;\n",
              "        }#T_44ad9bbe_5cd2_11ec_8c54_0242ac1c0002row0_col3,#T_44ad9bbe_5cd2_11ec_8c54_0242ac1c0002row0_col4,#T_44ad9bbe_5cd2_11ec_8c54_0242ac1c0002row0_col5,#T_44ad9bbe_5cd2_11ec_8c54_0242ac1c0002row0_col6,#T_44ad9bbe_5cd2_11ec_8c54_0242ac1c0002row1_col2,#T_44ad9bbe_5cd2_11ec_8c54_0242ac1c0002row2_col4,#T_44ad9bbe_5cd2_11ec_8c54_0242ac1c0002row2_col6,#T_44ad9bbe_5cd2_11ec_8c54_0242ac1c0002row3_col2,#T_44ad9bbe_5cd2_11ec_8c54_0242ac1c0002row3_col4,#T_44ad9bbe_5cd2_11ec_8c54_0242ac1c0002row3_col5{\n",
              "            background-color:  #ffd700;\n",
              "            color:  #000000;\n",
              "        }#T_44ad9bbe_5cd2_11ec_8c54_0242ac1c0002row1_col3,#T_44ad9bbe_5cd2_11ec_8c54_0242ac1c0002row2_col5{\n",
              "            background-color:  #000000;\n",
              "            color:  #f1f1f1;\n",
              "            background-color:  red;\n",
              "        }</style><table id=\"T_44ad9bbe_5cd2_11ec_8c54_0242ac1c0002\" class=\"dataframe\"><thead>    <tr>        <th class=\"blank level0\" ></th>        <th class=\"col_heading level0 col0\" >Name</th>        <th class=\"col_heading level0 col1\" >Gender</th>        <th class=\"col_heading level0 col2\" >Fatigue</th>        <th class=\"col_heading level0 col3\" >More thirst</th>        <th class=\"col_heading level0 col4\" >Weight Loss</th>        <th class=\"col_heading level0 col5\" >Dehydration</th>        <th class=\"col_heading level0 col6\" >Mood swings</th>    </tr></thead><tbody>\n",
              "                <tr>\n",
              "                        <th id=\"T_44ad9bbe_5cd2_11ec_8c54_0242ac1c0002level0_row0\" class=\"row_heading level0 row0\" >0</th>\n",
              "                        <td id=\"T_44ad9bbe_5cd2_11ec_8c54_0242ac1c0002row0_col0\" class=\"data row0 col0\" >A</td>\n",
              "                        <td id=\"T_44ad9bbe_5cd2_11ec_8c54_0242ac1c0002row0_col1\" class=\"data row0 col1\" >M</td>\n",
              "                        <td id=\"T_44ad9bbe_5cd2_11ec_8c54_0242ac1c0002row0_col2\" class=\"data row0 col2\" >0</td>\n",
              "                        <td id=\"T_44ad9bbe_5cd2_11ec_8c54_0242ac1c0002row0_col3\" class=\"data row0 col3\" >1.00</td>\n",
              "                        <td id=\"T_44ad9bbe_5cd2_11ec_8c54_0242ac1c0002row0_col4\" class=\"data row0 col4\" >1</td>\n",
              "                        <td id=\"T_44ad9bbe_5cd2_11ec_8c54_0242ac1c0002row0_col5\" class=\"data row0 col5\" >1.00</td>\n",
              "                        <td id=\"T_44ad9bbe_5cd2_11ec_8c54_0242ac1c0002row0_col6\" class=\"data row0 col6\" >1</td>\n",
              "            </tr>\n",
              "            <tr>\n",
              "                        <th id=\"T_44ad9bbe_5cd2_11ec_8c54_0242ac1c0002level0_row1\" class=\"row_heading level0 row1\" >1</th>\n",
              "                        <td id=\"T_44ad9bbe_5cd2_11ec_8c54_0242ac1c0002row1_col0\" class=\"data row1 col0\" >B</td>\n",
              "                        <td id=\"T_44ad9bbe_5cd2_11ec_8c54_0242ac1c0002row1_col1\" class=\"data row1 col1\" >F</td>\n",
              "                        <td id=\"T_44ad9bbe_5cd2_11ec_8c54_0242ac1c0002row1_col2\" class=\"data row1 col2\" >1</td>\n",
              "                        <td id=\"T_44ad9bbe_5cd2_11ec_8c54_0242ac1c0002row1_col3\" class=\"data row1 col3\" >nan</td>\n",
              "                        <td id=\"T_44ad9bbe_5cd2_11ec_8c54_0242ac1c0002row1_col4\" class=\"data row1 col4\" >0</td>\n",
              "                        <td id=\"T_44ad9bbe_5cd2_11ec_8c54_0242ac1c0002row1_col5\" class=\"data row1 col5\" >0.00</td>\n",
              "                        <td id=\"T_44ad9bbe_5cd2_11ec_8c54_0242ac1c0002row1_col6\" class=\"data row1 col6\" >0</td>\n",
              "            </tr>\n",
              "            <tr>\n",
              "                        <th id=\"T_44ad9bbe_5cd2_11ec_8c54_0242ac1c0002level0_row2\" class=\"row_heading level0 row2\" >2</th>\n",
              "                        <td id=\"T_44ad9bbe_5cd2_11ec_8c54_0242ac1c0002row2_col0\" class=\"data row2 col0\" >C</td>\n",
              "                        <td id=\"T_44ad9bbe_5cd2_11ec_8c54_0242ac1c0002row2_col1\" class=\"data row2 col1\" >F</td>\n",
              "                        <td id=\"T_44ad9bbe_5cd2_11ec_8c54_0242ac1c0002row2_col2\" class=\"data row2 col2\" >0</td>\n",
              "                        <td id=\"T_44ad9bbe_5cd2_11ec_8c54_0242ac1c0002row2_col3\" class=\"data row2 col3\" >0.00</td>\n",
              "                        <td id=\"T_44ad9bbe_5cd2_11ec_8c54_0242ac1c0002row2_col4\" class=\"data row2 col4\" >1</td>\n",
              "                        <td id=\"T_44ad9bbe_5cd2_11ec_8c54_0242ac1c0002row2_col5\" class=\"data row2 col5\" >nan</td>\n",
              "                        <td id=\"T_44ad9bbe_5cd2_11ec_8c54_0242ac1c0002row2_col6\" class=\"data row2 col6\" >1</td>\n",
              "            </tr>\n",
              "            <tr>\n",
              "                        <th id=\"T_44ad9bbe_5cd2_11ec_8c54_0242ac1c0002level0_row3\" class=\"row_heading level0 row3\" >3</th>\n",
              "                        <td id=\"T_44ad9bbe_5cd2_11ec_8c54_0242ac1c0002row3_col0\" class=\"data row3 col0\" >D</td>\n",
              "                        <td id=\"T_44ad9bbe_5cd2_11ec_8c54_0242ac1c0002row3_col1\" class=\"data row3 col1\" >M</td>\n",
              "                        <td id=\"T_44ad9bbe_5cd2_11ec_8c54_0242ac1c0002row3_col2\" class=\"data row3 col2\" >1</td>\n",
              "                        <td id=\"T_44ad9bbe_5cd2_11ec_8c54_0242ac1c0002row3_col3\" class=\"data row3 col3\" >0.00</td>\n",
              "                        <td id=\"T_44ad9bbe_5cd2_11ec_8c54_0242ac1c0002row3_col4\" class=\"data row3 col4\" >1</td>\n",
              "                        <td id=\"T_44ad9bbe_5cd2_11ec_8c54_0242ac1c0002row3_col5\" class=\"data row3 col5\" >1.00</td>\n",
              "                        <td id=\"T_44ad9bbe_5cd2_11ec_8c54_0242ac1c0002row3_col6\" class=\"data row3 col6\" >0</td>\n",
              "            </tr>\n",
              "    </tbody></table>"
            ],
            "text/plain": [
              "<pandas.io.formats.style.Styler at 0x7f0ae5de2250>"
            ]
          },
          "metadata": {},
          "execution_count": 11
        }
      ]
    },
    {
      "cell_type": "code",
      "source": [
        "# Assemble Seaborn properties with DataFrame.style property\n",
        "df.style.background_gradient(cmap=sns.light_palette(\"yellow\", as_cmap=True)).set_precision(2).highlight_null('black').highlight_min(axis=0, color='skyblue').highlight_max(axis=0, color='blue')"
      ],
      "metadata": {
        "colab": {
          "base_uri": "https://localhost:8080/",
          "height": 174
        },
        "id": "jLoxIKyCWd9D",
        "outputId": "11a006b4-5d47-46b4-b9b3-1f5ee7927ed1"
      },
      "execution_count": null,
      "outputs": [
        {
          "output_type": "execute_result",
          "data": {
            "text/html": [
              "<style  type=\"text/css\" >\n",
              "#T_44b97984_5cd2_11ec_8c54_0242ac1c0002row0_col2,#T_44b97984_5cd2_11ec_8c54_0242ac1c0002row1_col4,#T_44b97984_5cd2_11ec_8c54_0242ac1c0002row1_col5,#T_44b97984_5cd2_11ec_8c54_0242ac1c0002row1_col6,#T_44b97984_5cd2_11ec_8c54_0242ac1c0002row2_col2,#T_44b97984_5cd2_11ec_8c54_0242ac1c0002row2_col3,#T_44b97984_5cd2_11ec_8c54_0242ac1c0002row3_col3,#T_44b97984_5cd2_11ec_8c54_0242ac1c0002row3_col6{\n",
              "            background-color:  #f2f2dd;\n",
              "            color:  #000000;\n",
              "            background-color:  skyblue;\n",
              "        }#T_44b97984_5cd2_11ec_8c54_0242ac1c0002row0_col3,#T_44b97984_5cd2_11ec_8c54_0242ac1c0002row0_col4,#T_44b97984_5cd2_11ec_8c54_0242ac1c0002row0_col5,#T_44b97984_5cd2_11ec_8c54_0242ac1c0002row0_col6,#T_44b97984_5cd2_11ec_8c54_0242ac1c0002row1_col2,#T_44b97984_5cd2_11ec_8c54_0242ac1c0002row2_col4,#T_44b97984_5cd2_11ec_8c54_0242ac1c0002row2_col6,#T_44b97984_5cd2_11ec_8c54_0242ac1c0002row3_col2,#T_44b97984_5cd2_11ec_8c54_0242ac1c0002row3_col4,#T_44b97984_5cd2_11ec_8c54_0242ac1c0002row3_col5{\n",
              "            background-color:  #ffff00;\n",
              "            color:  #000000;\n",
              "            background-color:  blue;\n",
              "        }#T_44b97984_5cd2_11ec_8c54_0242ac1c0002row1_col3,#T_44b97984_5cd2_11ec_8c54_0242ac1c0002row2_col5{\n",
              "            background-color:  #000000;\n",
              "            color:  #f1f1f1;\n",
              "            background-color:  black;\n",
              "        }</style><table id=\"T_44b97984_5cd2_11ec_8c54_0242ac1c0002\" class=\"dataframe\"><thead>    <tr>        <th class=\"blank level0\" ></th>        <th class=\"col_heading level0 col0\" >Name</th>        <th class=\"col_heading level0 col1\" >Gender</th>        <th class=\"col_heading level0 col2\" >Fatigue</th>        <th class=\"col_heading level0 col3\" >More thirst</th>        <th class=\"col_heading level0 col4\" >Weight Loss</th>        <th class=\"col_heading level0 col5\" >Dehydration</th>        <th class=\"col_heading level0 col6\" >Mood swings</th>    </tr></thead><tbody>\n",
              "                <tr>\n",
              "                        <th id=\"T_44b97984_5cd2_11ec_8c54_0242ac1c0002level0_row0\" class=\"row_heading level0 row0\" >0</th>\n",
              "                        <td id=\"T_44b97984_5cd2_11ec_8c54_0242ac1c0002row0_col0\" class=\"data row0 col0\" >A</td>\n",
              "                        <td id=\"T_44b97984_5cd2_11ec_8c54_0242ac1c0002row0_col1\" class=\"data row0 col1\" >M</td>\n",
              "                        <td id=\"T_44b97984_5cd2_11ec_8c54_0242ac1c0002row0_col2\" class=\"data row0 col2\" >0</td>\n",
              "                        <td id=\"T_44b97984_5cd2_11ec_8c54_0242ac1c0002row0_col3\" class=\"data row0 col3\" >1.00</td>\n",
              "                        <td id=\"T_44b97984_5cd2_11ec_8c54_0242ac1c0002row0_col4\" class=\"data row0 col4\" >1</td>\n",
              "                        <td id=\"T_44b97984_5cd2_11ec_8c54_0242ac1c0002row0_col5\" class=\"data row0 col5\" >1.00</td>\n",
              "                        <td id=\"T_44b97984_5cd2_11ec_8c54_0242ac1c0002row0_col6\" class=\"data row0 col6\" >1</td>\n",
              "            </tr>\n",
              "            <tr>\n",
              "                        <th id=\"T_44b97984_5cd2_11ec_8c54_0242ac1c0002level0_row1\" class=\"row_heading level0 row1\" >1</th>\n",
              "                        <td id=\"T_44b97984_5cd2_11ec_8c54_0242ac1c0002row1_col0\" class=\"data row1 col0\" >B</td>\n",
              "                        <td id=\"T_44b97984_5cd2_11ec_8c54_0242ac1c0002row1_col1\" class=\"data row1 col1\" >F</td>\n",
              "                        <td id=\"T_44b97984_5cd2_11ec_8c54_0242ac1c0002row1_col2\" class=\"data row1 col2\" >1</td>\n",
              "                        <td id=\"T_44b97984_5cd2_11ec_8c54_0242ac1c0002row1_col3\" class=\"data row1 col3\" >nan</td>\n",
              "                        <td id=\"T_44b97984_5cd2_11ec_8c54_0242ac1c0002row1_col4\" class=\"data row1 col4\" >0</td>\n",
              "                        <td id=\"T_44b97984_5cd2_11ec_8c54_0242ac1c0002row1_col5\" class=\"data row1 col5\" >0.00</td>\n",
              "                        <td id=\"T_44b97984_5cd2_11ec_8c54_0242ac1c0002row1_col6\" class=\"data row1 col6\" >0</td>\n",
              "            </tr>\n",
              "            <tr>\n",
              "                        <th id=\"T_44b97984_5cd2_11ec_8c54_0242ac1c0002level0_row2\" class=\"row_heading level0 row2\" >2</th>\n",
              "                        <td id=\"T_44b97984_5cd2_11ec_8c54_0242ac1c0002row2_col0\" class=\"data row2 col0\" >C</td>\n",
              "                        <td id=\"T_44b97984_5cd2_11ec_8c54_0242ac1c0002row2_col1\" class=\"data row2 col1\" >F</td>\n",
              "                        <td id=\"T_44b97984_5cd2_11ec_8c54_0242ac1c0002row2_col2\" class=\"data row2 col2\" >0</td>\n",
              "                        <td id=\"T_44b97984_5cd2_11ec_8c54_0242ac1c0002row2_col3\" class=\"data row2 col3\" >0.00</td>\n",
              "                        <td id=\"T_44b97984_5cd2_11ec_8c54_0242ac1c0002row2_col4\" class=\"data row2 col4\" >1</td>\n",
              "                        <td id=\"T_44b97984_5cd2_11ec_8c54_0242ac1c0002row2_col5\" class=\"data row2 col5\" >nan</td>\n",
              "                        <td id=\"T_44b97984_5cd2_11ec_8c54_0242ac1c0002row2_col6\" class=\"data row2 col6\" >1</td>\n",
              "            </tr>\n",
              "            <tr>\n",
              "                        <th id=\"T_44b97984_5cd2_11ec_8c54_0242ac1c0002level0_row3\" class=\"row_heading level0 row3\" >3</th>\n",
              "                        <td id=\"T_44b97984_5cd2_11ec_8c54_0242ac1c0002row3_col0\" class=\"data row3 col0\" >D</td>\n",
              "                        <td id=\"T_44b97984_5cd2_11ec_8c54_0242ac1c0002row3_col1\" class=\"data row3 col1\" >M</td>\n",
              "                        <td id=\"T_44b97984_5cd2_11ec_8c54_0242ac1c0002row3_col2\" class=\"data row3 col2\" >1</td>\n",
              "                        <td id=\"T_44b97984_5cd2_11ec_8c54_0242ac1c0002row3_col3\" class=\"data row3 col3\" >0.00</td>\n",
              "                        <td id=\"T_44b97984_5cd2_11ec_8c54_0242ac1c0002row3_col4\" class=\"data row3 col4\" >1</td>\n",
              "                        <td id=\"T_44b97984_5cd2_11ec_8c54_0242ac1c0002row3_col5\" class=\"data row3 col5\" >1.00</td>\n",
              "                        <td id=\"T_44b97984_5cd2_11ec_8c54_0242ac1c0002row3_col6\" class=\"data row3 col6\" >0</td>\n",
              "            </tr>\n",
              "    </tbody></table>"
            ],
            "text/plain": [
              "<pandas.io.formats.style.Styler at 0x7f0ae5df4e10>"
            ]
          },
          "metadata": {},
          "execution_count": 12
        }
      ]
    },
    {
      "cell_type": "markdown",
      "source": [
        "## 4.Practical Tips\n",
        "\n",
        "* Make sure that you are using `applymap()` for user defined functions method.\n",
        "\n",
        "* Make sure you are using `as_cmap=True` in seaborn functions depending on use."
      ],
      "metadata": {
        "id": "oFvipoVGWzBG"
      }
    },
    {
      "cell_type": "markdown",
      "source": [
        "## 5.Test Your Knowledge\n",
        "\n",
        "*Note: Use Diabetes dataframe from above to answer the following questions.*\n",
        "\n",
        "__Q1.__ Spot the error in the following code.\n"
      ],
      "metadata": {
        "id": "I1h6re1uYHOi"
      }
    },
    {
      "cell_type": "code",
      "source": [
        "def fun(val):\n",
        "  return 'background-color: black color: white'\n",
        "\n",
        "df.style.applymap(fun) "
      ],
      "metadata": {
        "id": "Fbr_J8Ent54z"
      },
      "execution_count": null,
      "outputs": []
    },
    {
      "cell_type": "markdown",
      "source": [
        "__Ans.__ Missing `;`. Correct code: `return 'background-color: black ; color: white'`."
      ],
      "metadata": {
        "id": "2Ju6IqRJt9HZ"
      }
    },
    {
      "cell_type": "code",
      "source": [
        "def fun(val):\n",
        "  return 'background-color: black; color: white'\n",
        "\n",
        "df.style.applymap(fun)"
      ],
      "metadata": {
        "colab": {
          "base_uri": "https://localhost:8080/",
          "height": 174
        },
        "id": "bVber_dNuKWc",
        "outputId": "2b2c7629-4123-44c0-d795-740e7ea50ba3"
      },
      "execution_count": null,
      "outputs": [
        {
          "output_type": "execute_result",
          "data": {
            "text/html": [
              "<style  type=\"text/css\" >\n",
              "#T_44c7f1b2_5cd2_11ec_8c54_0242ac1c0002row0_col0,#T_44c7f1b2_5cd2_11ec_8c54_0242ac1c0002row0_col1,#T_44c7f1b2_5cd2_11ec_8c54_0242ac1c0002row0_col2,#T_44c7f1b2_5cd2_11ec_8c54_0242ac1c0002row0_col3,#T_44c7f1b2_5cd2_11ec_8c54_0242ac1c0002row0_col4,#T_44c7f1b2_5cd2_11ec_8c54_0242ac1c0002row0_col5,#T_44c7f1b2_5cd2_11ec_8c54_0242ac1c0002row0_col6,#T_44c7f1b2_5cd2_11ec_8c54_0242ac1c0002row1_col0,#T_44c7f1b2_5cd2_11ec_8c54_0242ac1c0002row1_col1,#T_44c7f1b2_5cd2_11ec_8c54_0242ac1c0002row1_col2,#T_44c7f1b2_5cd2_11ec_8c54_0242ac1c0002row1_col3,#T_44c7f1b2_5cd2_11ec_8c54_0242ac1c0002row1_col4,#T_44c7f1b2_5cd2_11ec_8c54_0242ac1c0002row1_col5,#T_44c7f1b2_5cd2_11ec_8c54_0242ac1c0002row1_col6,#T_44c7f1b2_5cd2_11ec_8c54_0242ac1c0002row2_col0,#T_44c7f1b2_5cd2_11ec_8c54_0242ac1c0002row2_col1,#T_44c7f1b2_5cd2_11ec_8c54_0242ac1c0002row2_col2,#T_44c7f1b2_5cd2_11ec_8c54_0242ac1c0002row2_col3,#T_44c7f1b2_5cd2_11ec_8c54_0242ac1c0002row2_col4,#T_44c7f1b2_5cd2_11ec_8c54_0242ac1c0002row2_col5,#T_44c7f1b2_5cd2_11ec_8c54_0242ac1c0002row2_col6,#T_44c7f1b2_5cd2_11ec_8c54_0242ac1c0002row3_col0,#T_44c7f1b2_5cd2_11ec_8c54_0242ac1c0002row3_col1,#T_44c7f1b2_5cd2_11ec_8c54_0242ac1c0002row3_col2,#T_44c7f1b2_5cd2_11ec_8c54_0242ac1c0002row3_col3,#T_44c7f1b2_5cd2_11ec_8c54_0242ac1c0002row3_col4,#T_44c7f1b2_5cd2_11ec_8c54_0242ac1c0002row3_col5,#T_44c7f1b2_5cd2_11ec_8c54_0242ac1c0002row3_col6{\n",
              "            background-color:  black;\n",
              "             color:  white;\n",
              "        }</style><table id=\"T_44c7f1b2_5cd2_11ec_8c54_0242ac1c0002\" class=\"dataframe\"><thead>    <tr>        <th class=\"blank level0\" ></th>        <th class=\"col_heading level0 col0\" >Name</th>        <th class=\"col_heading level0 col1\" >Gender</th>        <th class=\"col_heading level0 col2\" >Fatigue</th>        <th class=\"col_heading level0 col3\" >More thirst</th>        <th class=\"col_heading level0 col4\" >Weight Loss</th>        <th class=\"col_heading level0 col5\" >Dehydration</th>        <th class=\"col_heading level0 col6\" >Mood swings</th>    </tr></thead><tbody>\n",
              "                <tr>\n",
              "                        <th id=\"T_44c7f1b2_5cd2_11ec_8c54_0242ac1c0002level0_row0\" class=\"row_heading level0 row0\" >0</th>\n",
              "                        <td id=\"T_44c7f1b2_5cd2_11ec_8c54_0242ac1c0002row0_col0\" class=\"data row0 col0\" >A</td>\n",
              "                        <td id=\"T_44c7f1b2_5cd2_11ec_8c54_0242ac1c0002row0_col1\" class=\"data row0 col1\" >M</td>\n",
              "                        <td id=\"T_44c7f1b2_5cd2_11ec_8c54_0242ac1c0002row0_col2\" class=\"data row0 col2\" >0</td>\n",
              "                        <td id=\"T_44c7f1b2_5cd2_11ec_8c54_0242ac1c0002row0_col3\" class=\"data row0 col3\" >1.000000</td>\n",
              "                        <td id=\"T_44c7f1b2_5cd2_11ec_8c54_0242ac1c0002row0_col4\" class=\"data row0 col4\" >1</td>\n",
              "                        <td id=\"T_44c7f1b2_5cd2_11ec_8c54_0242ac1c0002row0_col5\" class=\"data row0 col5\" >1.000000</td>\n",
              "                        <td id=\"T_44c7f1b2_5cd2_11ec_8c54_0242ac1c0002row0_col6\" class=\"data row0 col6\" >1</td>\n",
              "            </tr>\n",
              "            <tr>\n",
              "                        <th id=\"T_44c7f1b2_5cd2_11ec_8c54_0242ac1c0002level0_row1\" class=\"row_heading level0 row1\" >1</th>\n",
              "                        <td id=\"T_44c7f1b2_5cd2_11ec_8c54_0242ac1c0002row1_col0\" class=\"data row1 col0\" >B</td>\n",
              "                        <td id=\"T_44c7f1b2_5cd2_11ec_8c54_0242ac1c0002row1_col1\" class=\"data row1 col1\" >F</td>\n",
              "                        <td id=\"T_44c7f1b2_5cd2_11ec_8c54_0242ac1c0002row1_col2\" class=\"data row1 col2\" >1</td>\n",
              "                        <td id=\"T_44c7f1b2_5cd2_11ec_8c54_0242ac1c0002row1_col3\" class=\"data row1 col3\" >nan</td>\n",
              "                        <td id=\"T_44c7f1b2_5cd2_11ec_8c54_0242ac1c0002row1_col4\" class=\"data row1 col4\" >0</td>\n",
              "                        <td id=\"T_44c7f1b2_5cd2_11ec_8c54_0242ac1c0002row1_col5\" class=\"data row1 col5\" >0.000000</td>\n",
              "                        <td id=\"T_44c7f1b2_5cd2_11ec_8c54_0242ac1c0002row1_col6\" class=\"data row1 col6\" >0</td>\n",
              "            </tr>\n",
              "            <tr>\n",
              "                        <th id=\"T_44c7f1b2_5cd2_11ec_8c54_0242ac1c0002level0_row2\" class=\"row_heading level0 row2\" >2</th>\n",
              "                        <td id=\"T_44c7f1b2_5cd2_11ec_8c54_0242ac1c0002row2_col0\" class=\"data row2 col0\" >C</td>\n",
              "                        <td id=\"T_44c7f1b2_5cd2_11ec_8c54_0242ac1c0002row2_col1\" class=\"data row2 col1\" >F</td>\n",
              "                        <td id=\"T_44c7f1b2_5cd2_11ec_8c54_0242ac1c0002row2_col2\" class=\"data row2 col2\" >0</td>\n",
              "                        <td id=\"T_44c7f1b2_5cd2_11ec_8c54_0242ac1c0002row2_col3\" class=\"data row2 col3\" >0.000000</td>\n",
              "                        <td id=\"T_44c7f1b2_5cd2_11ec_8c54_0242ac1c0002row2_col4\" class=\"data row2 col4\" >1</td>\n",
              "                        <td id=\"T_44c7f1b2_5cd2_11ec_8c54_0242ac1c0002row2_col5\" class=\"data row2 col5\" >nan</td>\n",
              "                        <td id=\"T_44c7f1b2_5cd2_11ec_8c54_0242ac1c0002row2_col6\" class=\"data row2 col6\" >1</td>\n",
              "            </tr>\n",
              "            <tr>\n",
              "                        <th id=\"T_44c7f1b2_5cd2_11ec_8c54_0242ac1c0002level0_row3\" class=\"row_heading level0 row3\" >3</th>\n",
              "                        <td id=\"T_44c7f1b2_5cd2_11ec_8c54_0242ac1c0002row3_col0\" class=\"data row3 col0\" >D</td>\n",
              "                        <td id=\"T_44c7f1b2_5cd2_11ec_8c54_0242ac1c0002row3_col1\" class=\"data row3 col1\" >M</td>\n",
              "                        <td id=\"T_44c7f1b2_5cd2_11ec_8c54_0242ac1c0002row3_col2\" class=\"data row3 col2\" >1</td>\n",
              "                        <td id=\"T_44c7f1b2_5cd2_11ec_8c54_0242ac1c0002row3_col3\" class=\"data row3 col3\" >0.000000</td>\n",
              "                        <td id=\"T_44c7f1b2_5cd2_11ec_8c54_0242ac1c0002row3_col4\" class=\"data row3 col4\" >1</td>\n",
              "                        <td id=\"T_44c7f1b2_5cd2_11ec_8c54_0242ac1c0002row3_col5\" class=\"data row3 col5\" >1.000000</td>\n",
              "                        <td id=\"T_44c7f1b2_5cd2_11ec_8c54_0242ac1c0002row3_col6\" class=\"data row3 col6\" >0</td>\n",
              "            </tr>\n",
              "    </tbody></table>"
            ],
            "text/plain": [
              "<pandas.io.formats.style.Styler at 0x7f0ae5de6350>"
            ]
          },
          "metadata": {},
          "execution_count": 14
        }
      ]
    },
    {
      "cell_type": "markdown",
      "source": [
        "__Q2.__ Write a code to highlight `NaN` values in dataframe."
      ],
      "metadata": {
        "id": "J36sDNsVuChD"
      }
    },
    {
      "cell_type": "code",
      "source": [
        "# Method 1\n",
        "df.style.highlight_null(null_color='red')"
      ],
      "metadata": {
        "colab": {
          "base_uri": "https://localhost:8080/",
          "height": 174
        },
        "id": "ArLy82acuGJT",
        "outputId": "82506403-b0c0-4a8c-a5aa-347e370cead9"
      },
      "execution_count": null,
      "outputs": [
        {
          "output_type": "execute_result",
          "data": {
            "text/html": [
              "<style  type=\"text/css\" >\n",
              "#T_97802ce4_5cd2_11ec_8c54_0242ac1c0002row1_col3,#T_97802ce4_5cd2_11ec_8c54_0242ac1c0002row2_col5{\n",
              "            background-color:  red;\n",
              "        }</style><table id=\"T_97802ce4_5cd2_11ec_8c54_0242ac1c0002\" class=\"dataframe\"><thead>    <tr>        <th class=\"blank level0\" ></th>        <th class=\"col_heading level0 col0\" >Name</th>        <th class=\"col_heading level0 col1\" >Gender</th>        <th class=\"col_heading level0 col2\" >Fatigue</th>        <th class=\"col_heading level0 col3\" >More thirst</th>        <th class=\"col_heading level0 col4\" >Weight Loss</th>        <th class=\"col_heading level0 col5\" >Dehydration</th>        <th class=\"col_heading level0 col6\" >Mood swings</th>    </tr></thead><tbody>\n",
              "                <tr>\n",
              "                        <th id=\"T_97802ce4_5cd2_11ec_8c54_0242ac1c0002level0_row0\" class=\"row_heading level0 row0\" >0</th>\n",
              "                        <td id=\"T_97802ce4_5cd2_11ec_8c54_0242ac1c0002row0_col0\" class=\"data row0 col0\" >A</td>\n",
              "                        <td id=\"T_97802ce4_5cd2_11ec_8c54_0242ac1c0002row0_col1\" class=\"data row0 col1\" >M</td>\n",
              "                        <td id=\"T_97802ce4_5cd2_11ec_8c54_0242ac1c0002row0_col2\" class=\"data row0 col2\" >0</td>\n",
              "                        <td id=\"T_97802ce4_5cd2_11ec_8c54_0242ac1c0002row0_col3\" class=\"data row0 col3\" >1.000000</td>\n",
              "                        <td id=\"T_97802ce4_5cd2_11ec_8c54_0242ac1c0002row0_col4\" class=\"data row0 col4\" >1</td>\n",
              "                        <td id=\"T_97802ce4_5cd2_11ec_8c54_0242ac1c0002row0_col5\" class=\"data row0 col5\" >1.000000</td>\n",
              "                        <td id=\"T_97802ce4_5cd2_11ec_8c54_0242ac1c0002row0_col6\" class=\"data row0 col6\" >1</td>\n",
              "            </tr>\n",
              "            <tr>\n",
              "                        <th id=\"T_97802ce4_5cd2_11ec_8c54_0242ac1c0002level0_row1\" class=\"row_heading level0 row1\" >1</th>\n",
              "                        <td id=\"T_97802ce4_5cd2_11ec_8c54_0242ac1c0002row1_col0\" class=\"data row1 col0\" >B</td>\n",
              "                        <td id=\"T_97802ce4_5cd2_11ec_8c54_0242ac1c0002row1_col1\" class=\"data row1 col1\" >F</td>\n",
              "                        <td id=\"T_97802ce4_5cd2_11ec_8c54_0242ac1c0002row1_col2\" class=\"data row1 col2\" >1</td>\n",
              "                        <td id=\"T_97802ce4_5cd2_11ec_8c54_0242ac1c0002row1_col3\" class=\"data row1 col3\" >nan</td>\n",
              "                        <td id=\"T_97802ce4_5cd2_11ec_8c54_0242ac1c0002row1_col4\" class=\"data row1 col4\" >0</td>\n",
              "                        <td id=\"T_97802ce4_5cd2_11ec_8c54_0242ac1c0002row1_col5\" class=\"data row1 col5\" >0.000000</td>\n",
              "                        <td id=\"T_97802ce4_5cd2_11ec_8c54_0242ac1c0002row1_col6\" class=\"data row1 col6\" >0</td>\n",
              "            </tr>\n",
              "            <tr>\n",
              "                        <th id=\"T_97802ce4_5cd2_11ec_8c54_0242ac1c0002level0_row2\" class=\"row_heading level0 row2\" >2</th>\n",
              "                        <td id=\"T_97802ce4_5cd2_11ec_8c54_0242ac1c0002row2_col0\" class=\"data row2 col0\" >C</td>\n",
              "                        <td id=\"T_97802ce4_5cd2_11ec_8c54_0242ac1c0002row2_col1\" class=\"data row2 col1\" >F</td>\n",
              "                        <td id=\"T_97802ce4_5cd2_11ec_8c54_0242ac1c0002row2_col2\" class=\"data row2 col2\" >0</td>\n",
              "                        <td id=\"T_97802ce4_5cd2_11ec_8c54_0242ac1c0002row2_col3\" class=\"data row2 col3\" >0.000000</td>\n",
              "                        <td id=\"T_97802ce4_5cd2_11ec_8c54_0242ac1c0002row2_col4\" class=\"data row2 col4\" >1</td>\n",
              "                        <td id=\"T_97802ce4_5cd2_11ec_8c54_0242ac1c0002row2_col5\" class=\"data row2 col5\" >nan</td>\n",
              "                        <td id=\"T_97802ce4_5cd2_11ec_8c54_0242ac1c0002row2_col6\" class=\"data row2 col6\" >1</td>\n",
              "            </tr>\n",
              "            <tr>\n",
              "                        <th id=\"T_97802ce4_5cd2_11ec_8c54_0242ac1c0002level0_row3\" class=\"row_heading level0 row3\" >3</th>\n",
              "                        <td id=\"T_97802ce4_5cd2_11ec_8c54_0242ac1c0002row3_col0\" class=\"data row3 col0\" >D</td>\n",
              "                        <td id=\"T_97802ce4_5cd2_11ec_8c54_0242ac1c0002row3_col1\" class=\"data row3 col1\" >M</td>\n",
              "                        <td id=\"T_97802ce4_5cd2_11ec_8c54_0242ac1c0002row3_col2\" class=\"data row3 col2\" >1</td>\n",
              "                        <td id=\"T_97802ce4_5cd2_11ec_8c54_0242ac1c0002row3_col3\" class=\"data row3 col3\" >0.000000</td>\n",
              "                        <td id=\"T_97802ce4_5cd2_11ec_8c54_0242ac1c0002row3_col4\" class=\"data row3 col4\" >1</td>\n",
              "                        <td id=\"T_97802ce4_5cd2_11ec_8c54_0242ac1c0002row3_col5\" class=\"data row3 col5\" >1.000000</td>\n",
              "                        <td id=\"T_97802ce4_5cd2_11ec_8c54_0242ac1c0002row3_col6\" class=\"data row3 col6\" >0</td>\n",
              "            </tr>\n",
              "    </tbody></table>"
            ],
            "text/plain": [
              "<pandas.io.formats.style.Styler at 0x7f0ae5df4e50>"
            ]
          },
          "metadata": {},
          "execution_count": 16
        }
      ]
    },
    {
      "cell_type": "code",
      "source": [
        "# Method 2\n",
        "df.style.background_gradient(cmap=sns.light_palette(\"white\", as_cmap=True)).highlight_null('red')"
      ],
      "metadata": {
        "colab": {
          "base_uri": "https://localhost:8080/",
          "height": 174
        },
        "id": "QGMT4DP7u5aT",
        "outputId": "06d7fec6-9b97-49db-b3f6-f11535479a46"
      },
      "execution_count": null,
      "outputs": [
        {
          "output_type": "execute_result",
          "data": {
            "text/html": [
              "<style  type=\"text/css\" >\n",
              "#T_a4e47368_5cd2_11ec_8c54_0242ac1c0002row0_col2,#T_a4e47368_5cd2_11ec_8c54_0242ac1c0002row1_col4,#T_a4e47368_5cd2_11ec_8c54_0242ac1c0002row1_col5,#T_a4e47368_5cd2_11ec_8c54_0242ac1c0002row1_col6,#T_a4e47368_5cd2_11ec_8c54_0242ac1c0002row2_col2,#T_a4e47368_5cd2_11ec_8c54_0242ac1c0002row2_col3,#T_a4e47368_5cd2_11ec_8c54_0242ac1c0002row3_col3,#T_a4e47368_5cd2_11ec_8c54_0242ac1c0002row3_col6{\n",
              "            background-color:  #f1f1f1;\n",
              "            color:  #000000;\n",
              "        }#T_a4e47368_5cd2_11ec_8c54_0242ac1c0002row0_col3,#T_a4e47368_5cd2_11ec_8c54_0242ac1c0002row0_col4,#T_a4e47368_5cd2_11ec_8c54_0242ac1c0002row0_col5,#T_a4e47368_5cd2_11ec_8c54_0242ac1c0002row0_col6,#T_a4e47368_5cd2_11ec_8c54_0242ac1c0002row1_col2,#T_a4e47368_5cd2_11ec_8c54_0242ac1c0002row2_col4,#T_a4e47368_5cd2_11ec_8c54_0242ac1c0002row2_col6,#T_a4e47368_5cd2_11ec_8c54_0242ac1c0002row3_col2,#T_a4e47368_5cd2_11ec_8c54_0242ac1c0002row3_col4,#T_a4e47368_5cd2_11ec_8c54_0242ac1c0002row3_col5{\n",
              "            background-color:  #ffffff;\n",
              "            color:  #000000;\n",
              "        }#T_a4e47368_5cd2_11ec_8c54_0242ac1c0002row1_col3,#T_a4e47368_5cd2_11ec_8c54_0242ac1c0002row2_col5{\n",
              "            background-color:  #000000;\n",
              "            color:  #f1f1f1;\n",
              "            background-color:  red;\n",
              "        }</style><table id=\"T_a4e47368_5cd2_11ec_8c54_0242ac1c0002\" class=\"dataframe\"><thead>    <tr>        <th class=\"blank level0\" ></th>        <th class=\"col_heading level0 col0\" >Name</th>        <th class=\"col_heading level0 col1\" >Gender</th>        <th class=\"col_heading level0 col2\" >Fatigue</th>        <th class=\"col_heading level0 col3\" >More thirst</th>        <th class=\"col_heading level0 col4\" >Weight Loss</th>        <th class=\"col_heading level0 col5\" >Dehydration</th>        <th class=\"col_heading level0 col6\" >Mood swings</th>    </tr></thead><tbody>\n",
              "                <tr>\n",
              "                        <th id=\"T_a4e47368_5cd2_11ec_8c54_0242ac1c0002level0_row0\" class=\"row_heading level0 row0\" >0</th>\n",
              "                        <td id=\"T_a4e47368_5cd2_11ec_8c54_0242ac1c0002row0_col0\" class=\"data row0 col0\" >A</td>\n",
              "                        <td id=\"T_a4e47368_5cd2_11ec_8c54_0242ac1c0002row0_col1\" class=\"data row0 col1\" >M</td>\n",
              "                        <td id=\"T_a4e47368_5cd2_11ec_8c54_0242ac1c0002row0_col2\" class=\"data row0 col2\" >0</td>\n",
              "                        <td id=\"T_a4e47368_5cd2_11ec_8c54_0242ac1c0002row0_col3\" class=\"data row0 col3\" >1.000000</td>\n",
              "                        <td id=\"T_a4e47368_5cd2_11ec_8c54_0242ac1c0002row0_col4\" class=\"data row0 col4\" >1</td>\n",
              "                        <td id=\"T_a4e47368_5cd2_11ec_8c54_0242ac1c0002row0_col5\" class=\"data row0 col5\" >1.000000</td>\n",
              "                        <td id=\"T_a4e47368_5cd2_11ec_8c54_0242ac1c0002row0_col6\" class=\"data row0 col6\" >1</td>\n",
              "            </tr>\n",
              "            <tr>\n",
              "                        <th id=\"T_a4e47368_5cd2_11ec_8c54_0242ac1c0002level0_row1\" class=\"row_heading level0 row1\" >1</th>\n",
              "                        <td id=\"T_a4e47368_5cd2_11ec_8c54_0242ac1c0002row1_col0\" class=\"data row1 col0\" >B</td>\n",
              "                        <td id=\"T_a4e47368_5cd2_11ec_8c54_0242ac1c0002row1_col1\" class=\"data row1 col1\" >F</td>\n",
              "                        <td id=\"T_a4e47368_5cd2_11ec_8c54_0242ac1c0002row1_col2\" class=\"data row1 col2\" >1</td>\n",
              "                        <td id=\"T_a4e47368_5cd2_11ec_8c54_0242ac1c0002row1_col3\" class=\"data row1 col3\" >nan</td>\n",
              "                        <td id=\"T_a4e47368_5cd2_11ec_8c54_0242ac1c0002row1_col4\" class=\"data row1 col4\" >0</td>\n",
              "                        <td id=\"T_a4e47368_5cd2_11ec_8c54_0242ac1c0002row1_col5\" class=\"data row1 col5\" >0.000000</td>\n",
              "                        <td id=\"T_a4e47368_5cd2_11ec_8c54_0242ac1c0002row1_col6\" class=\"data row1 col6\" >0</td>\n",
              "            </tr>\n",
              "            <tr>\n",
              "                        <th id=\"T_a4e47368_5cd2_11ec_8c54_0242ac1c0002level0_row2\" class=\"row_heading level0 row2\" >2</th>\n",
              "                        <td id=\"T_a4e47368_5cd2_11ec_8c54_0242ac1c0002row2_col0\" class=\"data row2 col0\" >C</td>\n",
              "                        <td id=\"T_a4e47368_5cd2_11ec_8c54_0242ac1c0002row2_col1\" class=\"data row2 col1\" >F</td>\n",
              "                        <td id=\"T_a4e47368_5cd2_11ec_8c54_0242ac1c0002row2_col2\" class=\"data row2 col2\" >0</td>\n",
              "                        <td id=\"T_a4e47368_5cd2_11ec_8c54_0242ac1c0002row2_col3\" class=\"data row2 col3\" >0.000000</td>\n",
              "                        <td id=\"T_a4e47368_5cd2_11ec_8c54_0242ac1c0002row2_col4\" class=\"data row2 col4\" >1</td>\n",
              "                        <td id=\"T_a4e47368_5cd2_11ec_8c54_0242ac1c0002row2_col5\" class=\"data row2 col5\" >nan</td>\n",
              "                        <td id=\"T_a4e47368_5cd2_11ec_8c54_0242ac1c0002row2_col6\" class=\"data row2 col6\" >1</td>\n",
              "            </tr>\n",
              "            <tr>\n",
              "                        <th id=\"T_a4e47368_5cd2_11ec_8c54_0242ac1c0002level0_row3\" class=\"row_heading level0 row3\" >3</th>\n",
              "                        <td id=\"T_a4e47368_5cd2_11ec_8c54_0242ac1c0002row3_col0\" class=\"data row3 col0\" >D</td>\n",
              "                        <td id=\"T_a4e47368_5cd2_11ec_8c54_0242ac1c0002row3_col1\" class=\"data row3 col1\" >M</td>\n",
              "                        <td id=\"T_a4e47368_5cd2_11ec_8c54_0242ac1c0002row3_col2\" class=\"data row3 col2\" >1</td>\n",
              "                        <td id=\"T_a4e47368_5cd2_11ec_8c54_0242ac1c0002row3_col3\" class=\"data row3 col3\" >0.000000</td>\n",
              "                        <td id=\"T_a4e47368_5cd2_11ec_8c54_0242ac1c0002row3_col4\" class=\"data row3 col4\" >1</td>\n",
              "                        <td id=\"T_a4e47368_5cd2_11ec_8c54_0242ac1c0002row3_col5\" class=\"data row3 col5\" >1.000000</td>\n",
              "                        <td id=\"T_a4e47368_5cd2_11ec_8c54_0242ac1c0002row3_col6\" class=\"data row3 col6\" >0</td>\n",
              "            </tr>\n",
              "    </tbody></table>"
            ],
            "text/plain": [
              "<pandas.io.formats.style.Styler at 0x7f0ae5d1f110>"
            ]
          },
          "metadata": {},
          "execution_count": 18
        }
      ]
    },
    {
      "cell_type": "markdown",
      "source": [
        "__Q3.__ What to add in ```df.style.set_table_styles()``` to set background color and font color to column headings of dataframe ?"
      ],
      "metadata": {
        "id": "Bp8n1XX2u_YE"
      }
    },
    {
      "cell_type": "code",
      "source": [
        "t = {'selector': 'th:not(.index_name)', \n",
        "     'props': [('background-color','black'), ('color','white')]}\n",
        "\n",
        "df.style.set_table_styles([t])"
      ],
      "metadata": {
        "colab": {
          "base_uri": "https://localhost:8080/",
          "height": 174
        },
        "id": "ADAfYKjFvHmH",
        "outputId": "3ce937f1-4602-4deb-ed32-7a542df957df"
      },
      "execution_count": null,
      "outputs": [
        {
          "output_type": "execute_result",
          "data": {
            "text/html": [
              "<style  type=\"text/css\" >\n",
              "    #T_df046d46_5cd2_11ec_8c54_0242ac1c0002 th:not(.index_name) {\n",
              "          background-color: black;\n",
              "          color: white;\n",
              "    }</style><table id=\"T_df046d46_5cd2_11ec_8c54_0242ac1c0002\" class=\"dataframe\"><thead>    <tr>        <th class=\"blank level0\" ></th>        <th class=\"col_heading level0 col0\" >Name</th>        <th class=\"col_heading level0 col1\" >Gender</th>        <th class=\"col_heading level0 col2\" >Fatigue</th>        <th class=\"col_heading level0 col3\" >More thirst</th>        <th class=\"col_heading level0 col4\" >Weight Loss</th>        <th class=\"col_heading level0 col5\" >Dehydration</th>        <th class=\"col_heading level0 col6\" >Mood swings</th>    </tr></thead><tbody>\n",
              "                <tr>\n",
              "                        <th id=\"T_df046d46_5cd2_11ec_8c54_0242ac1c0002level0_row0\" class=\"row_heading level0 row0\" >0</th>\n",
              "                        <td id=\"T_df046d46_5cd2_11ec_8c54_0242ac1c0002row0_col0\" class=\"data row0 col0\" >A</td>\n",
              "                        <td id=\"T_df046d46_5cd2_11ec_8c54_0242ac1c0002row0_col1\" class=\"data row0 col1\" >M</td>\n",
              "                        <td id=\"T_df046d46_5cd2_11ec_8c54_0242ac1c0002row0_col2\" class=\"data row0 col2\" >0</td>\n",
              "                        <td id=\"T_df046d46_5cd2_11ec_8c54_0242ac1c0002row0_col3\" class=\"data row0 col3\" >1.000000</td>\n",
              "                        <td id=\"T_df046d46_5cd2_11ec_8c54_0242ac1c0002row0_col4\" class=\"data row0 col4\" >1</td>\n",
              "                        <td id=\"T_df046d46_5cd2_11ec_8c54_0242ac1c0002row0_col5\" class=\"data row0 col5\" >1.000000</td>\n",
              "                        <td id=\"T_df046d46_5cd2_11ec_8c54_0242ac1c0002row0_col6\" class=\"data row0 col6\" >1</td>\n",
              "            </tr>\n",
              "            <tr>\n",
              "                        <th id=\"T_df046d46_5cd2_11ec_8c54_0242ac1c0002level0_row1\" class=\"row_heading level0 row1\" >1</th>\n",
              "                        <td id=\"T_df046d46_5cd2_11ec_8c54_0242ac1c0002row1_col0\" class=\"data row1 col0\" >B</td>\n",
              "                        <td id=\"T_df046d46_5cd2_11ec_8c54_0242ac1c0002row1_col1\" class=\"data row1 col1\" >F</td>\n",
              "                        <td id=\"T_df046d46_5cd2_11ec_8c54_0242ac1c0002row1_col2\" class=\"data row1 col2\" >1</td>\n",
              "                        <td id=\"T_df046d46_5cd2_11ec_8c54_0242ac1c0002row1_col3\" class=\"data row1 col3\" >nan</td>\n",
              "                        <td id=\"T_df046d46_5cd2_11ec_8c54_0242ac1c0002row1_col4\" class=\"data row1 col4\" >0</td>\n",
              "                        <td id=\"T_df046d46_5cd2_11ec_8c54_0242ac1c0002row1_col5\" class=\"data row1 col5\" >0.000000</td>\n",
              "                        <td id=\"T_df046d46_5cd2_11ec_8c54_0242ac1c0002row1_col6\" class=\"data row1 col6\" >0</td>\n",
              "            </tr>\n",
              "            <tr>\n",
              "                        <th id=\"T_df046d46_5cd2_11ec_8c54_0242ac1c0002level0_row2\" class=\"row_heading level0 row2\" >2</th>\n",
              "                        <td id=\"T_df046d46_5cd2_11ec_8c54_0242ac1c0002row2_col0\" class=\"data row2 col0\" >C</td>\n",
              "                        <td id=\"T_df046d46_5cd2_11ec_8c54_0242ac1c0002row2_col1\" class=\"data row2 col1\" >F</td>\n",
              "                        <td id=\"T_df046d46_5cd2_11ec_8c54_0242ac1c0002row2_col2\" class=\"data row2 col2\" >0</td>\n",
              "                        <td id=\"T_df046d46_5cd2_11ec_8c54_0242ac1c0002row2_col3\" class=\"data row2 col3\" >0.000000</td>\n",
              "                        <td id=\"T_df046d46_5cd2_11ec_8c54_0242ac1c0002row2_col4\" class=\"data row2 col4\" >1</td>\n",
              "                        <td id=\"T_df046d46_5cd2_11ec_8c54_0242ac1c0002row2_col5\" class=\"data row2 col5\" >nan</td>\n",
              "                        <td id=\"T_df046d46_5cd2_11ec_8c54_0242ac1c0002row2_col6\" class=\"data row2 col6\" >1</td>\n",
              "            </tr>\n",
              "            <tr>\n",
              "                        <th id=\"T_df046d46_5cd2_11ec_8c54_0242ac1c0002level0_row3\" class=\"row_heading level0 row3\" >3</th>\n",
              "                        <td id=\"T_df046d46_5cd2_11ec_8c54_0242ac1c0002row3_col0\" class=\"data row3 col0\" >D</td>\n",
              "                        <td id=\"T_df046d46_5cd2_11ec_8c54_0242ac1c0002row3_col1\" class=\"data row3 col1\" >M</td>\n",
              "                        <td id=\"T_df046d46_5cd2_11ec_8c54_0242ac1c0002row3_col2\" class=\"data row3 col2\" >1</td>\n",
              "                        <td id=\"T_df046d46_5cd2_11ec_8c54_0242ac1c0002row3_col3\" class=\"data row3 col3\" >0.000000</td>\n",
              "                        <td id=\"T_df046d46_5cd2_11ec_8c54_0242ac1c0002row3_col4\" class=\"data row3 col4\" >1</td>\n",
              "                        <td id=\"T_df046d46_5cd2_11ec_8c54_0242ac1c0002row3_col5\" class=\"data row3 col5\" >1.000000</td>\n",
              "                        <td id=\"T_df046d46_5cd2_11ec_8c54_0242ac1c0002row3_col6\" class=\"data row3 col6\" >0</td>\n",
              "            </tr>\n",
              "    </tbody></table>"
            ],
            "text/plain": [
              "<pandas.io.formats.style.Styler at 0x7f0af44c9550>"
            ]
          },
          "metadata": {},
          "execution_count": 20
        }
      ]
    }
  ]
}