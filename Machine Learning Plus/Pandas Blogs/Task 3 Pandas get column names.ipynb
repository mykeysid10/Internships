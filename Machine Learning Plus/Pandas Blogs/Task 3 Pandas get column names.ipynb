{
  "nbformat": 4,
  "nbformat_minor": 0,
  "metadata": {
    "colab": {
      "name": "Copy of 3 Pandas get column names.ipynb",
      "provenance": [],
      "collapsed_sections": []
    },
    "kernelspec": {
      "name": "python3",
      "display_name": "Python 3"
    },
    "language_info": {
      "name": "python"
    }
  },
  "cells": [
    {
      "cell_type": "markdown",
      "source": [
        "# Pandas Get Column Names\n",
        "\n",
        "Get the dataframe column names by iterating over columns, using `dataframe.columns` and using `dataframe.columns.values`. "
      ],
      "metadata": {
        "id": "MM3-dP9YvdhX"
      }
    },
    {
      "cell_type": "markdown",
      "source": [
        "## How to get column names in Pandas dataframe </h1>\n",
        "\n",
        "In this article, you will be retrieving dataframe column names using -\n",
        "\n",
        "* Get column names by iterating over columns.\n",
        "* Get column names using dataframe.columns. \n",
        "* Get column names using dataframe.columns.values.\n",
        "\n",
        "Let's create a dataframe consisting students records."
      ],
      "metadata": {
        "id": "EtQ9NuD9wSaF"
      }
    },
    {
      "cell_type": "code",
      "source": [
        "# Importing Library\n",
        "import pandas as pd\n",
        "\n",
        "# Creating Dataframe\n",
        "data = {\n",
        "  \"Roll No\": [1, 2, 3], \n",
        "  \"Name\": [\"A\", \"B\", \"C\"],\n",
        "  \"Gender\": [\"M\",\"F\",\"F\"],\n",
        "  \"Age\": [20,21,20]}\n",
        "  \n",
        "df = pd.DataFrame(data)\n",
        "\n",
        "df"
      ],
      "metadata": {
        "colab": {
          "base_uri": "https://localhost:8080/",
          "height": 143
        },
        "id": "bx6PY0CIwufO",
        "outputId": "fc0c3186-95aa-4e22-d531-b79eb13e8221"
      },
      "execution_count": null,
      "outputs": [
        {
          "output_type": "execute_result",
          "data": {
            "text/html": [
              "\n",
              "  <div id=\"df-68c0697a-8cd6-4b53-ad59-5d1bb495fab7\">\n",
              "    <div class=\"colab-df-container\">\n",
              "      <div>\n",
              "<style scoped>\n",
              "    .dataframe tbody tr th:only-of-type {\n",
              "        vertical-align: middle;\n",
              "    }\n",
              "\n",
              "    .dataframe tbody tr th {\n",
              "        vertical-align: top;\n",
              "    }\n",
              "\n",
              "    .dataframe thead th {\n",
              "        text-align: right;\n",
              "    }\n",
              "</style>\n",
              "<table border=\"1\" class=\"dataframe\">\n",
              "  <thead>\n",
              "    <tr style=\"text-align: right;\">\n",
              "      <th></th>\n",
              "      <th>Roll No</th>\n",
              "      <th>Name</th>\n",
              "      <th>Gender</th>\n",
              "      <th>Age</th>\n",
              "    </tr>\n",
              "  </thead>\n",
              "  <tbody>\n",
              "    <tr>\n",
              "      <th>0</th>\n",
              "      <td>1</td>\n",
              "      <td>A</td>\n",
              "      <td>M</td>\n",
              "      <td>20</td>\n",
              "    </tr>\n",
              "    <tr>\n",
              "      <th>1</th>\n",
              "      <td>2</td>\n",
              "      <td>B</td>\n",
              "      <td>F</td>\n",
              "      <td>21</td>\n",
              "    </tr>\n",
              "    <tr>\n",
              "      <th>2</th>\n",
              "      <td>3</td>\n",
              "      <td>C</td>\n",
              "      <td>F</td>\n",
              "      <td>20</td>\n",
              "    </tr>\n",
              "  </tbody>\n",
              "</table>\n",
              "</div>\n",
              "      <button class=\"colab-df-convert\" onclick=\"convertToInteractive('df-68c0697a-8cd6-4b53-ad59-5d1bb495fab7')\"\n",
              "              title=\"Convert this dataframe to an interactive table.\"\n",
              "              style=\"display:none;\">\n",
              "        \n",
              "  <svg xmlns=\"http://www.w3.org/2000/svg\" height=\"24px\"viewBox=\"0 0 24 24\"\n",
              "       width=\"24px\">\n",
              "    <path d=\"M0 0h24v24H0V0z\" fill=\"none\"/>\n",
              "    <path d=\"M18.56 5.44l.94 2.06.94-2.06 2.06-.94-2.06-.94-.94-2.06-.94 2.06-2.06.94zm-11 1L8.5 8.5l.94-2.06 2.06-.94-2.06-.94L8.5 2.5l-.94 2.06-2.06.94zm10 10l.94 2.06.94-2.06 2.06-.94-2.06-.94-.94-2.06-.94 2.06-2.06.94z\"/><path d=\"M17.41 7.96l-1.37-1.37c-.4-.4-.92-.59-1.43-.59-.52 0-1.04.2-1.43.59L10.3 9.45l-7.72 7.72c-.78.78-.78 2.05 0 2.83L4 21.41c.39.39.9.59 1.41.59.51 0 1.02-.2 1.41-.59l7.78-7.78 2.81-2.81c.8-.78.8-2.07 0-2.86zM5.41 20L4 18.59l7.72-7.72 1.47 1.35L5.41 20z\"/>\n",
              "  </svg>\n",
              "      </button>\n",
              "      \n",
              "  <style>\n",
              "    .colab-df-container {\n",
              "      display:flex;\n",
              "      flex-wrap:wrap;\n",
              "      gap: 12px;\n",
              "    }\n",
              "\n",
              "    .colab-df-convert {\n",
              "      background-color: #E8F0FE;\n",
              "      border: none;\n",
              "      border-radius: 50%;\n",
              "      cursor: pointer;\n",
              "      display: none;\n",
              "      fill: #1967D2;\n",
              "      height: 32px;\n",
              "      padding: 0 0 0 0;\n",
              "      width: 32px;\n",
              "    }\n",
              "\n",
              "    .colab-df-convert:hover {\n",
              "      background-color: #E2EBFA;\n",
              "      box-shadow: 0px 1px 2px rgba(60, 64, 67, 0.3), 0px 1px 3px 1px rgba(60, 64, 67, 0.15);\n",
              "      fill: #174EA6;\n",
              "    }\n",
              "\n",
              "    [theme=dark] .colab-df-convert {\n",
              "      background-color: #3B4455;\n",
              "      fill: #D2E3FC;\n",
              "    }\n",
              "\n",
              "    [theme=dark] .colab-df-convert:hover {\n",
              "      background-color: #434B5C;\n",
              "      box-shadow: 0px 1px 3px 1px rgba(0, 0, 0, 0.15);\n",
              "      filter: drop-shadow(0px 1px 2px rgba(0, 0, 0, 0.3));\n",
              "      fill: #FFFFFF;\n",
              "    }\n",
              "  </style>\n",
              "\n",
              "      <script>\n",
              "        const buttonEl =\n",
              "          document.querySelector('#df-68c0697a-8cd6-4b53-ad59-5d1bb495fab7 button.colab-df-convert');\n",
              "        buttonEl.style.display =\n",
              "          google.colab.kernel.accessAllowed ? 'block' : 'none';\n",
              "\n",
              "        async function convertToInteractive(key) {\n",
              "          const element = document.querySelector('#df-68c0697a-8cd6-4b53-ad59-5d1bb495fab7');\n",
              "          const dataTable =\n",
              "            await google.colab.kernel.invokeFunction('convertToInteractive',\n",
              "                                                     [key], {});\n",
              "          if (!dataTable) return;\n",
              "\n",
              "          const docLinkHtml = 'Like what you see? Visit the ' +\n",
              "            '<a target=\"_blank\" href=https://colab.research.google.com/notebooks/data_table.ipynb>data table notebook</a>'\n",
              "            + ' to learn more about interactive tables.';\n",
              "          element.innerHTML = '';\n",
              "          dataTable['output_type'] = 'display_data';\n",
              "          await google.colab.output.renderOutput(dataTable, element);\n",
              "          const docLink = document.createElement('div');\n",
              "          docLink.innerHTML = docLinkHtml;\n",
              "          element.appendChild(docLink);\n",
              "        }\n",
              "      </script>\n",
              "    </div>\n",
              "  </div>\n",
              "  "
            ],
            "text/plain": [
              "   Roll No Name Gender  Age\n",
              "0        1    A      M   20\n",
              "1        2    B      F   21\n",
              "2        3    C      F   20"
            ]
          },
          "metadata": {},
          "execution_count": 1
        }
      ]
    },
    {
      "cell_type": "markdown",
      "source": [
        "## 1.Get column names by iterating over dataframe columns"
      ],
      "metadata": {
        "id": "t7EU3AxpxGAG"
      }
    },
    {
      "cell_type": "code",
      "source": [
        "# looping over the columns and storing column names in a list.\n",
        "\n",
        "col_names = []      \n",
        "\n",
        "for i in df.columns:\n",
        "  col_names.append(i)\n",
        "\n",
        "print(col_names)"
      ],
      "metadata": {
        "colab": {
          "base_uri": "https://localhost:8080/"
        },
        "id": "dhg_eTShxMP9",
        "outputId": "ac16ff77-9d87-4a2c-c33b-259ec64559ed"
      },
      "execution_count": null,
      "outputs": [
        {
          "output_type": "stream",
          "name": "stdout",
          "text": [
            "['Roll No', 'Name', 'Gender', 'Age']\n"
          ]
        }
      ]
    },
    {
      "cell_type": "markdown",
      "source": [
        "## 2.Get column names using dataframe.columns \n",
        "\n",
        "\n",
        "\n",
        "\n"
      ],
      "metadata": {
        "id": "UonPZnwfxfZx"
      }
    },
    {
      "cell_type": "code",
      "source": [
        "col_names = list(df.columns)\n",
        "\n",
        "print(col_names)"
      ],
      "metadata": {
        "colab": {
          "base_uri": "https://localhost:8080/"
        },
        "id": "QQ9P0EzTxkoN",
        "outputId": "80d15f71-2504-4a8e-804a-ca12155c4687"
      },
      "execution_count": null,
      "outputs": [
        {
          "output_type": "stream",
          "name": "stdout",
          "text": [
            "['Roll No', 'Name', 'Gender', 'Age']\n"
          ]
        }
      ]
    },
    {
      "cell_type": "markdown",
      "source": [
        "##3.Get column names using dataframe.columns.values\n",
        "\n"
      ],
      "metadata": {
        "id": "ZnFQp4m1xvBs"
      }
    },
    {
      "cell_type": "code",
      "source": [
        "col_names = list(df.columns.values)\n",
        "\n",
        "print(col_names)"
      ],
      "metadata": {
        "colab": {
          "base_uri": "https://localhost:8080/"
        },
        "id": "gLsvUVL2x0w1",
        "outputId": "d95b5f03-1973-4811-da43-87423f356bcc"
      },
      "execution_count": null,
      "outputs": [
        {
          "output_type": "stream",
          "name": "stdout",
          "text": [
            "['Roll No', 'Name', 'Gender', 'Age']\n"
          ]
        }
      ]
    },
    {
      "cell_type": "markdown",
      "source": [
        "## 4.Practical Tips \n",
        "\n",
        "* You can also try using `df.columns.tolist()` method.\n",
        "\n",
        "* You can also store the column names in tuple instead of list only if you don't want to manipulate the dataframe because tuples are immutable and are faster than list.\n"
      ],
      "metadata": {
        "id": "2pZpaheRyH6t"
      }
    },
    {
      "cell_type": "markdown",
      "metadata": {
        "id": "qooMzuozoY0s"
      },
      "source": [
        "## 5.Test Your Knowledge \n",
        "\n",
        "__Q1.__ What will be the output of following code ?\n",
        "\n",
        "`l = df.columns.to_tuple()`\n",
        "\n",
        "__Ans.__ \n",
        "\n",
        "`AttributeError: 'Index' object has no attribute 'to_tuple'.`\n",
        "\n",
        "You can use `l = tuple(df.columns)` instead.\n",
        "\n",
        "\n",
        "\n",
        "__Q2.__ What will be the output of following code ? (Consider the above students dataframe)\n",
        "\n"
      ]
    },
    {
      "cell_type": "code",
      "source": [
        "list = sorted(list(df.columns))\n",
        "list"
      ],
      "metadata": {
        "colab": {
          "base_uri": "https://localhost:8080/"
        },
        "id": "WBkmh0E0rBsc",
        "outputId": "996d2982-06d6-415f-bc4d-8d27306d07f0"
      },
      "execution_count": null,
      "outputs": [
        {
          "output_type": "execute_result",
          "data": {
            "text/plain": [
              "['Age', 'Gender', 'Name', 'Roll No']"
            ]
          },
          "metadata": {},
          "execution_count": 5
        }
      ]
    },
    {
      "cell_type": "markdown",
      "source": [
        "Columns are sorted alphabetically in ascending order."
      ],
      "metadata": {
        "id": "B1WugVw9rmSL"
      }
    }
  ]
}