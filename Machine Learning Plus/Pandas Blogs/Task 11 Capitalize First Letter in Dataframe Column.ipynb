{
  "nbformat": 4,
  "nbformat_minor": 0,
  "metadata": {
    "colab": {
      "name": "Copy of 11 Capitalize First Letter.ipynb",
      "provenance": [],
      "collapsed_sections": []
    },
    "kernelspec": {
      "name": "python3",
      "display_name": "Python 3"
    },
    "language_info": {
      "name": "python"
    }
  },
  "cells": [
    {
      "cell_type": "markdown",
      "source": [
        "# Capitalize first letter of a column in Pandas dataframe\n",
        "\n",
        "First letter of  column in dataframe can be capitalized by using `capitalize()` method."
      ],
      "metadata": {
        "id": "w5VzFsUCdkPP"
      }
    },
    {
      "cell_type": "markdown",
      "source": [
        "## How to capitalize first letter of a column in Pandas dataframe\n",
        "\n",
        "In this article, article, you will learn how to capitalize the first word of a column using -\n",
        "\n",
        "* Capitalize function\n",
        "* lambda __+__ capitalize() function\n",
        "\n",
        "Let's create a dataframe. "
      ],
      "metadata": {
        "id": "ravDvUIQdoqj"
      }
    },
    {
      "cell_type": "code",
      "source": [
        "# Importing library\n",
        "import pandas as pd\n",
        "\n",
        "# Create dataframe \n",
        "lst = [['duA lipa','F','don\\'t start now'],['laDy gaga','F','just dance'],['jusTin bieber','M','what do you mean'],['tayLor swiFt','F','all too well'],\n",
        "['shAwn meNdes','M','treat you better'],['seLena Gomez','F','come $ get it'], ['ed shEEran','M','thInKing out loud'],['bRuno mArs','M','the laZy song']]\n",
        "    \n",
        "Singer_df = pd.DataFrame(lst,columns=['Singer_Name','Gender','Song'])\n",
        "\n",
        "Singer_df"
      ],
      "metadata": {
        "colab": {
          "base_uri": "https://localhost:8080/",
          "height": 300
        },
        "id": "9FaHSUY8eWZI",
        "outputId": "71def7b6-ce8a-4a62-ca3a-d3859b910089"
      },
      "execution_count": null,
      "outputs": [
        {
          "output_type": "execute_result",
          "data": {
            "text/html": [
              "<div>\n",
              "<style scoped>\n",
              "    .dataframe tbody tr th:only-of-type {\n",
              "        vertical-align: middle;\n",
              "    }\n",
              "\n",
              "    .dataframe tbody tr th {\n",
              "        vertical-align: top;\n",
              "    }\n",
              "\n",
              "    .dataframe thead th {\n",
              "        text-align: right;\n",
              "    }\n",
              "</style>\n",
              "<table border=\"1\" class=\"dataframe\">\n",
              "  <thead>\n",
              "    <tr style=\"text-align: right;\">\n",
              "      <th></th>\n",
              "      <th>Singer_Name</th>\n",
              "      <th>Gender</th>\n",
              "      <th>Song</th>\n",
              "    </tr>\n",
              "  </thead>\n",
              "  <tbody>\n",
              "    <tr>\n",
              "      <th>0</th>\n",
              "      <td>duA lipa</td>\n",
              "      <td>F</td>\n",
              "      <td>don't start now</td>\n",
              "    </tr>\n",
              "    <tr>\n",
              "      <th>1</th>\n",
              "      <td>laDy gaga</td>\n",
              "      <td>F</td>\n",
              "      <td>just dance</td>\n",
              "    </tr>\n",
              "    <tr>\n",
              "      <th>2</th>\n",
              "      <td>jusTin bieber</td>\n",
              "      <td>M</td>\n",
              "      <td>what do you mean</td>\n",
              "    </tr>\n",
              "    <tr>\n",
              "      <th>3</th>\n",
              "      <td>tayLor swiFt</td>\n",
              "      <td>F</td>\n",
              "      <td>all too well</td>\n",
              "    </tr>\n",
              "    <tr>\n",
              "      <th>4</th>\n",
              "      <td>shAwn meNdes</td>\n",
              "      <td>M</td>\n",
              "      <td>treat you better</td>\n",
              "    </tr>\n",
              "    <tr>\n",
              "      <th>5</th>\n",
              "      <td>seLena Gomez</td>\n",
              "      <td>F</td>\n",
              "      <td>come $ get it</td>\n",
              "    </tr>\n",
              "    <tr>\n",
              "      <th>6</th>\n",
              "      <td>ed shEEran</td>\n",
              "      <td>M</td>\n",
              "      <td>thInKing out loud</td>\n",
              "    </tr>\n",
              "    <tr>\n",
              "      <th>7</th>\n",
              "      <td>bRuno mArs</td>\n",
              "      <td>M</td>\n",
              "      <td>the laZy song</td>\n",
              "    </tr>\n",
              "  </tbody>\n",
              "</table>\n",
              "</div>"
            ],
            "text/plain": [
              "     Singer_Name Gender               Song\n",
              "0       duA lipa      F    don't start now\n",
              "1      laDy gaga      F         just dance\n",
              "2  jusTin bieber      M   what do you mean\n",
              "3   tayLor swiFt      F       all too well\n",
              "4   shAwn meNdes      M   treat you better\n",
              "5   seLena Gomez      F      come $ get it\n",
              "6     ed shEEran      M  thInKing out loud\n",
              "7     bRuno mArs      M      the laZy song"
            ]
          },
          "metadata": {},
          "execution_count": 13
        }
      ]
    },
    {
      "cell_type": "markdown",
      "source": [
        "## 1.Capitalize first letter of a column using `dataframe.str.capitalize()` method"
      ],
      "metadata": {
        "id": "9OREs5oifd0J"
      }
    },
    {
      "cell_type": "markdown",
      "source": [
        "Lets see the syntax of `Series.str.capitalize()` method.\n",
        "\n",
        "### dataframe['Column_Name'].str.capitalize()\n",
        "\n",
        "__Purpose:__ capitalize the first word of specified column.\n",
        "\n",
        "__Returns:__ A series of objects with first character of a string in uppercase and all other characters in lowercase."
      ],
      "metadata": {
        "id": "E0IXvmhifgrH"
      }
    },
    {
      "cell_type": "code",
      "source": [
        "# Capitalize first letter of a column in Pandas dataframe using capitalize() on Singer_Name column\n",
        "Singer_df['Singer_Name']= Singer_df['Singer_Name'].str.capitalize()\n",
        "\n",
        "Singer_df"
      ],
      "metadata": {
        "colab": {
          "base_uri": "https://localhost:8080/",
          "height": 300
        },
        "id": "Z0PWT9VjfwQ7",
        "outputId": "4e342749-961d-4aef-a57b-fab5a21e1f90"
      },
      "execution_count": null,
      "outputs": [
        {
          "output_type": "execute_result",
          "data": {
            "text/html": [
              "<div>\n",
              "<style scoped>\n",
              "    .dataframe tbody tr th:only-of-type {\n",
              "        vertical-align: middle;\n",
              "    }\n",
              "\n",
              "    .dataframe tbody tr th {\n",
              "        vertical-align: top;\n",
              "    }\n",
              "\n",
              "    .dataframe thead th {\n",
              "        text-align: right;\n",
              "    }\n",
              "</style>\n",
              "<table border=\"1\" class=\"dataframe\">\n",
              "  <thead>\n",
              "    <tr style=\"text-align: right;\">\n",
              "      <th></th>\n",
              "      <th>Singer_Name</th>\n",
              "      <th>Gender</th>\n",
              "      <th>Song</th>\n",
              "    </tr>\n",
              "  </thead>\n",
              "  <tbody>\n",
              "    <tr>\n",
              "      <th>0</th>\n",
              "      <td>Dua lipa</td>\n",
              "      <td>F</td>\n",
              "      <td>don't start now</td>\n",
              "    </tr>\n",
              "    <tr>\n",
              "      <th>1</th>\n",
              "      <td>Lady gaga</td>\n",
              "      <td>F</td>\n",
              "      <td>just dance</td>\n",
              "    </tr>\n",
              "    <tr>\n",
              "      <th>2</th>\n",
              "      <td>Justin bieber</td>\n",
              "      <td>M</td>\n",
              "      <td>what do you mean</td>\n",
              "    </tr>\n",
              "    <tr>\n",
              "      <th>3</th>\n",
              "      <td>Taylor swift</td>\n",
              "      <td>F</td>\n",
              "      <td>all too well</td>\n",
              "    </tr>\n",
              "    <tr>\n",
              "      <th>4</th>\n",
              "      <td>Shawn mendes</td>\n",
              "      <td>M</td>\n",
              "      <td>treat you better</td>\n",
              "    </tr>\n",
              "    <tr>\n",
              "      <th>5</th>\n",
              "      <td>Selena gomez</td>\n",
              "      <td>F</td>\n",
              "      <td>come $ get it</td>\n",
              "    </tr>\n",
              "    <tr>\n",
              "      <th>6</th>\n",
              "      <td>Ed sheeran</td>\n",
              "      <td>M</td>\n",
              "      <td>thInKing out loud</td>\n",
              "    </tr>\n",
              "    <tr>\n",
              "      <th>7</th>\n",
              "      <td>Bruno mars</td>\n",
              "      <td>M</td>\n",
              "      <td>the laZy song</td>\n",
              "    </tr>\n",
              "  </tbody>\n",
              "</table>\n",
              "</div>"
            ],
            "text/plain": [
              "     Singer_Name Gender               Song\n",
              "0       Dua lipa      F    don't start now\n",
              "1      Lady gaga      F         just dance\n",
              "2  Justin bieber      M   what do you mean\n",
              "3   Taylor swift      F       all too well\n",
              "4   Shawn mendes      M   treat you better\n",
              "5   Selena gomez      F      come $ get it\n",
              "6     Ed sheeran      M  thInKing out loud\n",
              "7     Bruno mars      M      the laZy song"
            ]
          },
          "metadata": {},
          "execution_count": 14
        }
      ]
    },
    {
      "cell_type": "markdown",
      "source": [
        "You can see that after applying `capitalize()` on `Singer_Name` column, first letter of `Singer_Name` column got converted into uppercase and all other letters are converted to lowercase."
      ],
      "metadata": {
        "id": "v0bRCMCdgVrI"
      }
    },
    {
      "cell_type": "markdown",
      "source": [
        "##2.Capitalize first letter of a column using lambda __+__ capitalize() method"
      ],
      "metadata": {
        "id": "vJQQ-mkpgb9g"
      }
    },
    {
      "cell_type": "markdown",
      "source": [
        "Lets see the syntax for `capitalize()` method with lambda method.\n",
        "\n",
        "### dataframe['Column_Name'].apply(lambda argument: argument.capitalize())\n",
        "\n",
        "__Purpose:__ Used to make first word of column capital.\n",
        "\n",
        "__Returns:__ Column with first letter of string in uppercase and other letters in lowercase."
      ],
      "metadata": {
        "id": "aM-28svMgwPn"
      }
    },
    {
      "cell_type": "code",
      "source": [
        "# Capitalizing first letter or every record from Song columns \n",
        "Singer_df['Song'] = Singer_df['Song'].apply(lambda A: A.capitalize())\n",
        "\n",
        "Singer_df"
      ],
      "metadata": {
        "colab": {
          "base_uri": "https://localhost:8080/",
          "height": 300
        },
        "id": "0lzv-HOuhKEz",
        "outputId": "a63e2379-30c1-4fa0-bc23-8bb58921ef70"
      },
      "execution_count": null,
      "outputs": [
        {
          "output_type": "execute_result",
          "data": {
            "text/html": [
              "<div>\n",
              "<style scoped>\n",
              "    .dataframe tbody tr th:only-of-type {\n",
              "        vertical-align: middle;\n",
              "    }\n",
              "\n",
              "    .dataframe tbody tr th {\n",
              "        vertical-align: top;\n",
              "    }\n",
              "\n",
              "    .dataframe thead th {\n",
              "        text-align: right;\n",
              "    }\n",
              "</style>\n",
              "<table border=\"1\" class=\"dataframe\">\n",
              "  <thead>\n",
              "    <tr style=\"text-align: right;\">\n",
              "      <th></th>\n",
              "      <th>Singer_Name</th>\n",
              "      <th>Gender</th>\n",
              "      <th>Song</th>\n",
              "    </tr>\n",
              "  </thead>\n",
              "  <tbody>\n",
              "    <tr>\n",
              "      <th>0</th>\n",
              "      <td>Dua lipa</td>\n",
              "      <td>F</td>\n",
              "      <td>Don't start now</td>\n",
              "    </tr>\n",
              "    <tr>\n",
              "      <th>1</th>\n",
              "      <td>Lady gaga</td>\n",
              "      <td>F</td>\n",
              "      <td>Just dance</td>\n",
              "    </tr>\n",
              "    <tr>\n",
              "      <th>2</th>\n",
              "      <td>Justin bieber</td>\n",
              "      <td>M</td>\n",
              "      <td>What do you mean</td>\n",
              "    </tr>\n",
              "    <tr>\n",
              "      <th>3</th>\n",
              "      <td>Taylor swift</td>\n",
              "      <td>F</td>\n",
              "      <td>All too well</td>\n",
              "    </tr>\n",
              "    <tr>\n",
              "      <th>4</th>\n",
              "      <td>Shawn mendes</td>\n",
              "      <td>M</td>\n",
              "      <td>Treat you better</td>\n",
              "    </tr>\n",
              "    <tr>\n",
              "      <th>5</th>\n",
              "      <td>Selena gomez</td>\n",
              "      <td>F</td>\n",
              "      <td>Come $ get it</td>\n",
              "    </tr>\n",
              "    <tr>\n",
              "      <th>6</th>\n",
              "      <td>Ed sheeran</td>\n",
              "      <td>M</td>\n",
              "      <td>Thinking out loud</td>\n",
              "    </tr>\n",
              "    <tr>\n",
              "      <th>7</th>\n",
              "      <td>Bruno mars</td>\n",
              "      <td>M</td>\n",
              "      <td>The lazy song</td>\n",
              "    </tr>\n",
              "  </tbody>\n",
              "</table>\n",
              "</div>"
            ],
            "text/plain": [
              "     Singer_Name Gender               Song\n",
              "0       Dua lipa      F    Don't start now\n",
              "1      Lady gaga      F         Just dance\n",
              "2  Justin bieber      M   What do you mean\n",
              "3   Taylor swift      F       All too well\n",
              "4   Shawn mendes      M   Treat you better\n",
              "5   Selena gomez      F      Come $ get it\n",
              "6     Ed sheeran      M  Thinking out loud\n",
              "7     Bruno mars      M      The lazy song"
            ]
          },
          "metadata": {},
          "execution_count": 15
        }
      ]
    },
    {
      "cell_type": "markdown",
      "source": [
        "You can see that after applying `capitalize()` with lambda function on Song column, first letter of Song column is converted into uppercase and all other letters are converted to lowercase."
      ],
      "metadata": {
        "id": "BTPCm_niiRql"
      }
    },
    {
      "cell_type": "markdown",
      "source": [
        "## 3.Practical Tips\n",
        "\n",
        "* Always use `str.capitalize()` while performing capitalize operation on a column.\n",
        "\n",
        "* Ensure to store column data and overwrite it to the same column after performing `capitalize()` otherwise it will not reflect the original dataframe. \n",
        "\n",
        "* Ensure that you are applying `capitalize()` on a particular column."
      ],
      "metadata": {
        "id": "Y_LzajO6isug"
      }
    },
    {
      "cell_type": "markdown",
      "source": [
        "## 4.Test Your Knowledge\n",
        "\n",
        "__Q1.__ After applying `capitalize()` method on string ```'sInGeR'``` output will be ```'SInGeR'```. True or False?\n",
        "\n",
        "__Ans.__ False. Output will be `'Singer'`, `capitalize()` return first character of a string in uppercase and all other characters in lowercase.\n",
        "\n",
        "\n",
        "\n",
        "__Q2.__ What will be the output of following code ?"
      ],
      "metadata": {
        "id": "fP-k_OcVi72d"
      }
    },
    {
      "cell_type": "code",
      "source": [
        "import pandas as pd\n",
        "\n",
        "l = [['duA lipa','25 milion'],['laDy gaga','320 milion'],['jusTin bieber','285 milion'],['tayLor swiFt','365 milion'],\n",
        "['shAwn meNdes','40 milion'],['seLena Gomez','75 milion'], ['ed shEEran','200 milion'],['bRuno mArs','175 milion']]\n",
        "    \n",
        "df = pd.DataFrame(l, columns=['Singer_Name','Net_Worth(Dollars)'])\n",
        "df = df.str.capitalize()\n",
        "\n",
        "df"
      ],
      "metadata": {
        "id": "XY8XLfPXyumX"
      },
      "execution_count": null,
      "outputs": []
    },
    {
      "cell_type": "markdown",
      "source": [
        "__Ans.__ `AttributeError` - 'DataFrame' object has no attribute 'str'. You need to specify column name.\n",
        "\n",
        "\n",
        "\n",
        "__Q3.__ What will be the output of following code ?"
      ],
      "metadata": {
        "id": "fme5zc0Dy0pm"
      }
    },
    {
      "cell_type": "code",
      "source": [
        "import pandas as pd\n",
        "\n",
        "l = [['duA lipa','25 milion'],['laDy gaga','320 milion'],['jusTin bieber','285 milion'],['tayLor swiFt','365 milion'],\n",
        "['shAwn meNdes','40 milion'],['seLena Gomez','75 milion'], ['ed shEEran','200 milion'],['bRuno mArs','175 milion']]\n",
        "    \n",
        "df = pd.DataFrame(l, columns=['Singer_Name','Net_Worth(Dollars)'])\n",
        "df['Singer_Name'] = df['Singer_Name'].apply(lambda B: B.capitalize())\n",
        "\n",
        "df"
      ],
      "metadata": {
        "colab": {
          "base_uri": "https://localhost:8080/",
          "height": 300
        },
        "id": "ddmHUFI9yz3C",
        "outputId": "02408a05-1b21-461a-9f7d-6d2e7b64d25d"
      },
      "execution_count": null,
      "outputs": [
        {
          "output_type": "execute_result",
          "data": {
            "text/html": [
              "<div>\n",
              "<style scoped>\n",
              "    .dataframe tbody tr th:only-of-type {\n",
              "        vertical-align: middle;\n",
              "    }\n",
              "\n",
              "    .dataframe tbody tr th {\n",
              "        vertical-align: top;\n",
              "    }\n",
              "\n",
              "    .dataframe thead th {\n",
              "        text-align: right;\n",
              "    }\n",
              "</style>\n",
              "<table border=\"1\" class=\"dataframe\">\n",
              "  <thead>\n",
              "    <tr style=\"text-align: right;\">\n",
              "      <th></th>\n",
              "      <th>Singer_Name</th>\n",
              "      <th>Net_Worth(Dollars)</th>\n",
              "    </tr>\n",
              "  </thead>\n",
              "  <tbody>\n",
              "    <tr>\n",
              "      <th>0</th>\n",
              "      <td>Dua lipa</td>\n",
              "      <td>25 milion</td>\n",
              "    </tr>\n",
              "    <tr>\n",
              "      <th>1</th>\n",
              "      <td>Lady gaga</td>\n",
              "      <td>320 milion</td>\n",
              "    </tr>\n",
              "    <tr>\n",
              "      <th>2</th>\n",
              "      <td>Justin bieber</td>\n",
              "      <td>285 milion</td>\n",
              "    </tr>\n",
              "    <tr>\n",
              "      <th>3</th>\n",
              "      <td>Taylor swift</td>\n",
              "      <td>365 milion</td>\n",
              "    </tr>\n",
              "    <tr>\n",
              "      <th>4</th>\n",
              "      <td>Shawn mendes</td>\n",
              "      <td>40 milion</td>\n",
              "    </tr>\n",
              "    <tr>\n",
              "      <th>5</th>\n",
              "      <td>Selena gomez</td>\n",
              "      <td>75 milion</td>\n",
              "    </tr>\n",
              "    <tr>\n",
              "      <th>6</th>\n",
              "      <td>Ed sheeran</td>\n",
              "      <td>200 milion</td>\n",
              "    </tr>\n",
              "    <tr>\n",
              "      <th>7</th>\n",
              "      <td>Bruno mars</td>\n",
              "      <td>175 milion</td>\n",
              "    </tr>\n",
              "  </tbody>\n",
              "</table>\n",
              "</div>"
            ],
            "text/plain": [
              "     Singer_Name Net_Worth(Dollars)\n",
              "0       Dua lipa          25 milion\n",
              "1      Lady gaga         320 milion\n",
              "2  Justin bieber         285 milion\n",
              "3   Taylor swift         365 milion\n",
              "4   Shawn mendes          40 milion\n",
              "5   Selena gomez          75 milion\n",
              "6     Ed sheeran         200 milion\n",
              "7     Bruno mars         175 milion"
            ]
          },
          "metadata": {},
          "execution_count": 2
        }
      ]
    },
    {
      "cell_type": "markdown",
      "source": [
        "`Singer_Name` column's first letter gets capitalized."
      ],
      "metadata": {
        "id": "gSqx8UzBzWt_"
      }
    }
  ]
}