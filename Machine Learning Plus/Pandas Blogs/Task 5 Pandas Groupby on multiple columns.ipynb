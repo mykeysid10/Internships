{
  "nbformat": 4,
  "nbformat_minor": 0,
  "metadata": {
    "colab": {
      "name": "Copy of 5 Pandas Groupby on multiple columns.ipynb",
      "provenance": [],
      "collapsed_sections": []
    },
    "kernelspec": {
      "name": "python3",
      "display_name": "Python 3"
    },
    "language_info": {
      "name": "python"
    }
  },
  "cells": [
    {
      "cell_type": "markdown",
      "source": [
        "# Pandas Groupby on multiple columns\n",
        "\n",
        "Multiple columns in pandas dataframe can be grouped together by using pandas `groupby()` function."
      ],
      "metadata": {
        "id": "uhwiyU3i6XkJ"
      }
    },
    {
      "cell_type": "markdown",
      "source": [
        "## How to use pandas groupby on multiple columns using dictionary\n",
        "\n",
        "Steps to perform multi-column groupby with dictionary are -\n",
        "\n",
        "* Creating a dataframe.\n",
        "* Creating a dictionary having setup of columns on which groupby operation should be performed.\n",
        "* Performing groupby operation using aggregate functions like `sum()`, `min()`, `max()` etc.\n",
        "\n",
        "In this article, you will learn how to combine multiple columns in dataframe by using pandas groupby with dictionary.\n",
        "\n",
        "Let's create a dataframe first."
      ],
      "metadata": {
        "id": "L1CTVgwB6xW7"
      }
    },
    {
      "cell_type": "code",
      "source": [
        "# Import Library\n",
        "import pandas as pd\n",
        "\n",
        "# Step 1: Create Dataframe\n",
        "data = pd.DataFrame({'Brand':['Tesla','BMW','Ferrari','Ford'],\n",
        "                      'Mon':[100,150,50,40],\n",
        "                      'Tue':[48,29,90,43],\n",
        "                      'Wed':[43,57,49,34],\n",
        "                      'Thr':[94,84,64,31]})\n",
        "\n",
        "# Step 2: Creating Dictionary\n",
        "dict = { \n",
        "    'Brand':'Brand',\n",
        "    'Mon':'Total_Cars_Sold',\n",
        "    'Tue':'Total_Cars_Sold',\n",
        "    'Wed':'Total_Cars_Sold',\n",
        "    'Thr':'Total_Cars_Sold'}\n",
        "\n",
        "data"
      ],
      "metadata": {
        "colab": {
          "base_uri": "https://localhost:8080/",
          "height": 174
        },
        "id": "gR5i96q86xp6",
        "outputId": "9f5bc8da-0509-469d-8c14-1498b653855f"
      },
      "execution_count": null,
      "outputs": [
        {
          "output_type": "execute_result",
          "data": {
            "text/html": [
              "<div>\n",
              "<style scoped>\n",
              "    .dataframe tbody tr th:only-of-type {\n",
              "        vertical-align: middle;\n",
              "    }\n",
              "\n",
              "    .dataframe tbody tr th {\n",
              "        vertical-align: top;\n",
              "    }\n",
              "\n",
              "    .dataframe thead th {\n",
              "        text-align: right;\n",
              "    }\n",
              "</style>\n",
              "<table border=\"1\" class=\"dataframe\">\n",
              "  <thead>\n",
              "    <tr style=\"text-align: right;\">\n",
              "      <th></th>\n",
              "      <th>Brand</th>\n",
              "      <th>Mon</th>\n",
              "      <th>Tue</th>\n",
              "      <th>Wed</th>\n",
              "      <th>Thr</th>\n",
              "    </tr>\n",
              "  </thead>\n",
              "  <tbody>\n",
              "    <tr>\n",
              "      <th>0</th>\n",
              "      <td>Tesla</td>\n",
              "      <td>100</td>\n",
              "      <td>48</td>\n",
              "      <td>43</td>\n",
              "      <td>94</td>\n",
              "    </tr>\n",
              "    <tr>\n",
              "      <th>1</th>\n",
              "      <td>BMW</td>\n",
              "      <td>150</td>\n",
              "      <td>29</td>\n",
              "      <td>57</td>\n",
              "      <td>84</td>\n",
              "    </tr>\n",
              "    <tr>\n",
              "      <th>2</th>\n",
              "      <td>Ferrari</td>\n",
              "      <td>50</td>\n",
              "      <td>90</td>\n",
              "      <td>49</td>\n",
              "      <td>64</td>\n",
              "    </tr>\n",
              "    <tr>\n",
              "      <th>3</th>\n",
              "      <td>Ford</td>\n",
              "      <td>40</td>\n",
              "      <td>43</td>\n",
              "      <td>34</td>\n",
              "      <td>31</td>\n",
              "    </tr>\n",
              "  </tbody>\n",
              "</table>\n",
              "</div>"
            ],
            "text/plain": [
              "     Brand  Mon  Tue  Wed  Thr\n",
              "0    Tesla  100   48   43   94\n",
              "1      BMW  150   29   57   84\n",
              "2  Ferrari   50   90   49   64\n",
              "3     Ford   40   43   34   31"
            ]
          },
          "metadata": {},
          "execution_count": 9
        }
      ]
    },
    {
      "cell_type": "markdown",
      "source": [
        "## Applying Pandas Groupby"
      ],
      "metadata": {
        "id": "90V3g1M2EfMH"
      }
    },
    {
      "cell_type": "markdown",
      "source": [
        "Let's see the syntax of groupby function.\n",
        "\n",
        "### pandas.dataframe.groupby()\n",
        "\n",
        "__DataFrame.groupby(by=None, axis=0, level=None, as_index=True, sort=True, group_keys=True, squeeze=NoDefault.no_default, observed=False, dropna=True)__\n",
        "\n",
        "\n",
        "__Purpose:__ involves splitting of the object, applies a function and then combines the results. It can be used to group large amount of data.\n",
        "\n",
        "__Parameters:__\n",
        "\n",
        "__- by:__ mapping, label, list of labels.\n",
        "\n",
        " __- axis:__ 0 or ‘index’ applies function to each column. 1 or ‘columns’ applies function to each row.\n",
        "\n",
        " __- level:__ if the axis is a multi-index, then group by a particular level.\n",
        "\n",
        " __- as_index:__ object with group labels as the index is returned.\n",
        "\n",
        " __- sort:__ sort the group keys.\n",
        "\n",
        " __- group_keys:__ add group keys to index.\n",
        "\n",
        " __- squeeze:__ to reduce the dimensionality of the return type.\n",
        "\n",
        " __- observed:__ only applicable if any of the groupers are categorical.\n",
        "\n",
        " __- dropna:__ if `True`, and if group keys contain `NA` values then `NA` values are omitted."
      ],
      "metadata": {
        "id": "tMpktKiE-dHi"
      }
    },
    {
      "cell_type": "code",
      "source": [
        "# Step 3: Applying data.groupby\n",
        "data.groupby(dict, axis = 1).sum()"
      ],
      "metadata": {
        "colab": {
          "base_uri": "https://localhost:8080/",
          "height": 174
        },
        "id": "pe_NfRXf-f6j",
        "outputId": "ad543f47-36f3-4d7b-de9c-390eb3697be9"
      },
      "execution_count": null,
      "outputs": [
        {
          "output_type": "execute_result",
          "data": {
            "text/html": [
              "<div>\n",
              "<style scoped>\n",
              "    .dataframe tbody tr th:only-of-type {\n",
              "        vertical-align: middle;\n",
              "    }\n",
              "\n",
              "    .dataframe tbody tr th {\n",
              "        vertical-align: top;\n",
              "    }\n",
              "\n",
              "    .dataframe thead th {\n",
              "        text-align: right;\n",
              "    }\n",
              "</style>\n",
              "<table border=\"1\" class=\"dataframe\">\n",
              "  <thead>\n",
              "    <tr style=\"text-align: right;\">\n",
              "      <th></th>\n",
              "      <th>Brand</th>\n",
              "      <th>Total_Cars_Sold</th>\n",
              "    </tr>\n",
              "  </thead>\n",
              "  <tbody>\n",
              "    <tr>\n",
              "      <th>0</th>\n",
              "      <td>Tesla</td>\n",
              "      <td>285</td>\n",
              "    </tr>\n",
              "    <tr>\n",
              "      <th>1</th>\n",
              "      <td>BMW</td>\n",
              "      <td>320</td>\n",
              "    </tr>\n",
              "    <tr>\n",
              "      <th>2</th>\n",
              "      <td>Ferrari</td>\n",
              "      <td>253</td>\n",
              "    </tr>\n",
              "    <tr>\n",
              "      <th>3</th>\n",
              "      <td>Ford</td>\n",
              "      <td>148</td>\n",
              "    </tr>\n",
              "  </tbody>\n",
              "</table>\n",
              "</div>"
            ],
            "text/plain": [
              "     Brand  Total_Cars_Sold\n",
              "0    Tesla              285\n",
              "1      BMW              320\n",
              "2  Ferrari              253\n",
              "3     Ford              148"
            ]
          },
          "metadata": {},
          "execution_count": 10
        }
      ]
    },
    {
      "cell_type": "markdown",
      "source": [
        "* Pandas group by is used to divide data into groups and get meaningful results from grouped data by using aggregate functions on it.\n",
        "\n",
        "* `sum()` function is used to perform sum of values on a group of data."
      ],
      "metadata": {
        "id": "wWFMCcNq-oh6"
      }
    },
    {
      "cell_type": "markdown",
      "source": [
        "## 1.Groupby using dictionary to get total number of cars sold for each brand in first two days and last two days"
      ],
      "metadata": {
        "id": "XVWhAT8uAvX1"
      }
    },
    {
      "cell_type": "code",
      "source": [
        "dict = {'Brand':'Brand',\n",
        "    'Mon':'Initial_2_Days',\n",
        "    'Tue':'Initial_2_Days',\n",
        "    'Wed':'Last_2_Days',\n",
        "    'Thr':'Last_2_Days'}\n",
        "    \n",
        "data.groupby(dict, axis = 1).sum()"
      ],
      "metadata": {
        "colab": {
          "base_uri": "https://localhost:8080/",
          "height": 174
        },
        "id": "W0VAUEKfAwJ1",
        "outputId": "da0f57e9-bd88-4cf5-f50c-bed23e0d3896"
      },
      "execution_count": null,
      "outputs": [
        {
          "output_type": "execute_result",
          "data": {
            "text/html": [
              "<div>\n",
              "<style scoped>\n",
              "    .dataframe tbody tr th:only-of-type {\n",
              "        vertical-align: middle;\n",
              "    }\n",
              "\n",
              "    .dataframe tbody tr th {\n",
              "        vertical-align: top;\n",
              "    }\n",
              "\n",
              "    .dataframe thead th {\n",
              "        text-align: right;\n",
              "    }\n",
              "</style>\n",
              "<table border=\"1\" class=\"dataframe\">\n",
              "  <thead>\n",
              "    <tr style=\"text-align: right;\">\n",
              "      <th></th>\n",
              "      <th>Brand</th>\n",
              "      <th>Initial_2_Days</th>\n",
              "      <th>Last_2_Days</th>\n",
              "    </tr>\n",
              "  </thead>\n",
              "  <tbody>\n",
              "    <tr>\n",
              "      <th>0</th>\n",
              "      <td>Tesla</td>\n",
              "      <td>148</td>\n",
              "      <td>137</td>\n",
              "    </tr>\n",
              "    <tr>\n",
              "      <th>1</th>\n",
              "      <td>BMW</td>\n",
              "      <td>179</td>\n",
              "      <td>141</td>\n",
              "    </tr>\n",
              "    <tr>\n",
              "      <th>2</th>\n",
              "      <td>Ferrari</td>\n",
              "      <td>140</td>\n",
              "      <td>113</td>\n",
              "    </tr>\n",
              "    <tr>\n",
              "      <th>3</th>\n",
              "      <td>Ford</td>\n",
              "      <td>83</td>\n",
              "      <td>65</td>\n",
              "    </tr>\n",
              "  </tbody>\n",
              "</table>\n",
              "</div>"
            ],
            "text/plain": [
              "     Brand  Initial_2_Days  Last_2_Days\n",
              "0    Tesla             148          137\n",
              "1      BMW             179          141\n",
              "2  Ferrari             140          113\n",
              "3     Ford              83           65"
            ]
          },
          "metadata": {},
          "execution_count": 11
        }
      ]
    },
    {
      "cell_type": "markdown",
      "source": [
        "Here, using 'initial_2_days' and 'last_2_days' one can interpret that one can group together columns with same properties."
      ],
      "metadata": {
        "id": "jNaE940DBNOE"
      }
    },
    {
      "cell_type": "markdown",
      "source": [
        "## 2.Groupby using dictionary to get minimum number of cars sold for each brand"
      ],
      "metadata": {
        "id": "_tXz001qBcq9"
      }
    },
    {
      "cell_type": "code",
      "source": [
        "dict = {'Mon':'Least_Count',\n",
        "   'Tue':'Least_Count',\n",
        "   'Wed':'Least_Count',\n",
        "   'Thr':'Least_Count'}\n",
        "\n",
        "data = data.set_index('Brand')\n",
        "data.groupby(dict, axis = 1).min()"
      ],
      "metadata": {
        "colab": {
          "base_uri": "https://localhost:8080/",
          "height": 206
        },
        "id": "lMRaLpHmBkLB",
        "outputId": "2c661f72-ba0c-4346-cd34-d619c2958b95"
      },
      "execution_count": null,
      "outputs": [
        {
          "output_type": "execute_result",
          "data": {
            "text/html": [
              "<div>\n",
              "<style scoped>\n",
              "    .dataframe tbody tr th:only-of-type {\n",
              "        vertical-align: middle;\n",
              "    }\n",
              "\n",
              "    .dataframe tbody tr th {\n",
              "        vertical-align: top;\n",
              "    }\n",
              "\n",
              "    .dataframe thead th {\n",
              "        text-align: right;\n",
              "    }\n",
              "</style>\n",
              "<table border=\"1\" class=\"dataframe\">\n",
              "  <thead>\n",
              "    <tr style=\"text-align: right;\">\n",
              "      <th></th>\n",
              "      <th>Least_Count</th>\n",
              "    </tr>\n",
              "    <tr>\n",
              "      <th>Brand</th>\n",
              "      <th></th>\n",
              "    </tr>\n",
              "  </thead>\n",
              "  <tbody>\n",
              "    <tr>\n",
              "      <th>Tesla</th>\n",
              "      <td>43</td>\n",
              "    </tr>\n",
              "    <tr>\n",
              "      <th>BMW</th>\n",
              "      <td>29</td>\n",
              "    </tr>\n",
              "    <tr>\n",
              "      <th>Ferrari</th>\n",
              "      <td>49</td>\n",
              "    </tr>\n",
              "    <tr>\n",
              "      <th>Ford</th>\n",
              "      <td>31</td>\n",
              "    </tr>\n",
              "  </tbody>\n",
              "</table>\n",
              "</div>"
            ],
            "text/plain": [
              "         Least_Count\n",
              "Brand               \n",
              "Tesla             43\n",
              "BMW               29\n",
              "Ferrari           49\n",
              "Ford              31"
            ]
          },
          "metadata": {},
          "execution_count": 12
        }
      ]
    },
    {
      "cell_type": "markdown",
      "source": [
        "`min()` finds the minimum value from group of values for specific brand for all days."
      ],
      "metadata": {
        "id": "LZxeyQ2gBuqX"
      }
    },
    {
      "cell_type": "markdown",
      "source": [
        "## 3.Groupby using dictionary to get maximum number of cars sold for each brand"
      ],
      "metadata": {
        "id": "wqwGtJGhB8Nt"
      }
    },
    {
      "cell_type": "code",
      "source": [
        "dict = {'Mon':'Max_Count',\n",
        "   'Tue':'Max_Count',\n",
        "   'Wed':'Max_Count',\n",
        "   'Thr':'Max_Count'}\n",
        "   \n",
        "data.groupby(dict, axis = 1).max()"
      ],
      "metadata": {
        "colab": {
          "base_uri": "https://localhost:8080/",
          "height": 206
        },
        "id": "sa6SZBlOB-H9",
        "outputId": "3b34e238-5dae-42c0-f6cd-859a6b10ded0"
      },
      "execution_count": null,
      "outputs": [
        {
          "output_type": "execute_result",
          "data": {
            "text/html": [
              "<div>\n",
              "<style scoped>\n",
              "    .dataframe tbody tr th:only-of-type {\n",
              "        vertical-align: middle;\n",
              "    }\n",
              "\n",
              "    .dataframe tbody tr th {\n",
              "        vertical-align: top;\n",
              "    }\n",
              "\n",
              "    .dataframe thead th {\n",
              "        text-align: right;\n",
              "    }\n",
              "</style>\n",
              "<table border=\"1\" class=\"dataframe\">\n",
              "  <thead>\n",
              "    <tr style=\"text-align: right;\">\n",
              "      <th></th>\n",
              "      <th>Max_Count</th>\n",
              "    </tr>\n",
              "    <tr>\n",
              "      <th>Brand</th>\n",
              "      <th></th>\n",
              "    </tr>\n",
              "  </thead>\n",
              "  <tbody>\n",
              "    <tr>\n",
              "      <th>Tesla</th>\n",
              "      <td>100</td>\n",
              "    </tr>\n",
              "    <tr>\n",
              "      <th>BMW</th>\n",
              "      <td>150</td>\n",
              "    </tr>\n",
              "    <tr>\n",
              "      <th>Ferrari</th>\n",
              "      <td>90</td>\n",
              "    </tr>\n",
              "    <tr>\n",
              "      <th>Ford</th>\n",
              "      <td>43</td>\n",
              "    </tr>\n",
              "  </tbody>\n",
              "</table>\n",
              "</div>"
            ],
            "text/plain": [
              "         Max_Count\n",
              "Brand             \n",
              "Tesla          100\n",
              "BMW            150\n",
              "Ferrari         90\n",
              "Ford            43"
            ]
          },
          "metadata": {},
          "execution_count": 13
        }
      ]
    },
    {
      "cell_type": "markdown",
      "source": [
        "`max()` finds maximum value from group of values for specific brand for all days."
      ],
      "metadata": {
        "id": "K3-TDwD8CKZK"
      }
    },
    {
      "cell_type": "markdown",
      "source": [
        "## 4.Practical Tips \n",
        "\n",
        "* Make sure you use `set_index` for columns like 'Brand' here.\n",
        "* Try using several aggregate functions with groupby on multiple columns combined together."
      ],
      "metadata": {
        "id": "0phuDL9GCbhu"
      }
    },
    {
      "cell_type": "markdown",
      "source": [
        "## 5.Test Your Knowledge \n",
        "\n",
        "__Q1.__ Pandas grouby can be used only on one column. True or False ?\n",
        "\n",
        "__Ans.__ False, one can use groupby for multiple columns.\n",
        "\n",
        "\n",
        "\n",
        "__Q2.__ List out any 5 aggregate functions that can be used along with group by in pandas ?\n",
        "\n",
        "__Ans.__ Five aggregate functions that can be used along with groupby are -\n",
        "`mean()`, `sum()`, `count()`, `min()` and `max()`.\n",
        "\n",
        "\n",
        "\n",
        "__Q3.__ Sam is a guy who makes some silly mistakes always, he has written the following code and wants you to help him to spot missing code in it so that he can get total cars sold by each brand.\n"
      ],
      "metadata": {
        "id": "oBjsKx4XCib-"
      }
    },
    {
      "cell_type": "code",
      "source": [
        "import pandas as pd\n",
        "\n",
        "data=pd.DataFrame({'Brand':['Tesla','BMW','Ferrari','Ford'],\n",
        "                   'Mon':[100,150,50,40],\n",
        "                   'Tue':[48,29,90,43],\n",
        "                   'Wed':[43,57,49,34],\n",
        "                   'Thr':[94,84,64,31]})\n",
        "\n",
        "d = {'Brand':'Brand',\n",
        "     'Mon':'Total_Cars_Sold',\n",
        "     'Tue':'Total_Cars_Sold',\n",
        "     'Wed':'Total_Cars_Sold',\n",
        "     'Thr':'Total_Cars_Sold'}\n",
        "\n",
        "data.groupby(d).sum()"
      ],
      "metadata": {
        "colab": {
          "base_uri": "https://localhost:8080/",
          "height": 49
        },
        "id": "LOWp2iL2sR9J",
        "outputId": "076dff5b-af44-4392-e412-bcb805529371"
      },
      "execution_count": null,
      "outputs": [
        {
          "output_type": "execute_result",
          "data": {
            "text/html": [
              "<div>\n",
              "<style scoped>\n",
              "    .dataframe tbody tr th:only-of-type {\n",
              "        vertical-align: middle;\n",
              "    }\n",
              "\n",
              "    .dataframe tbody tr th {\n",
              "        vertical-align: top;\n",
              "    }\n",
              "\n",
              "    .dataframe thead th {\n",
              "        text-align: right;\n",
              "    }\n",
              "</style>\n",
              "<table border=\"1\" class=\"dataframe\">\n",
              "  <thead>\n",
              "    <tr style=\"text-align: right;\">\n",
              "      <th></th>\n",
              "      <th>Mon</th>\n",
              "      <th>Tue</th>\n",
              "      <th>Wed</th>\n",
              "      <th>Thr</th>\n",
              "    </tr>\n",
              "  </thead>\n",
              "  <tbody>\n",
              "  </tbody>\n",
              "</table>\n",
              "</div>"
            ],
            "text/plain": [
              "Empty DataFrame\n",
              "Columns: [Mon, Tue, Wed, Thr]\n",
              "Index: []"
            ]
          },
          "metadata": {},
          "execution_count": 3
        }
      ]
    },
    {
      "cell_type": "markdown",
      "source": [
        "__Ans.__ The code should be like ```data.groupby(d, axis = 1).sum()```"
      ],
      "metadata": {
        "id": "C3lcRhwLsYhZ"
      }
    },
    {
      "cell_type": "code",
      "source": [
        "data.groupby(d, axis = 1).sum()"
      ],
      "metadata": {
        "colab": {
          "base_uri": "https://localhost:8080/",
          "height": 174
        },
        "id": "Wq9g9KyYtoUE",
        "outputId": "6707e64b-f53c-4bfe-9d76-5b63ccf114e9"
      },
      "execution_count": null,
      "outputs": [
        {
          "output_type": "execute_result",
          "data": {
            "text/html": [
              "<div>\n",
              "<style scoped>\n",
              "    .dataframe tbody tr th:only-of-type {\n",
              "        vertical-align: middle;\n",
              "    }\n",
              "\n",
              "    .dataframe tbody tr th {\n",
              "        vertical-align: top;\n",
              "    }\n",
              "\n",
              "    .dataframe thead th {\n",
              "        text-align: right;\n",
              "    }\n",
              "</style>\n",
              "<table border=\"1\" class=\"dataframe\">\n",
              "  <thead>\n",
              "    <tr style=\"text-align: right;\">\n",
              "      <th></th>\n",
              "      <th>Brand</th>\n",
              "      <th>Total_Cars_Sold</th>\n",
              "    </tr>\n",
              "  </thead>\n",
              "  <tbody>\n",
              "    <tr>\n",
              "      <th>0</th>\n",
              "      <td>Tesla</td>\n",
              "      <td>285</td>\n",
              "    </tr>\n",
              "    <tr>\n",
              "      <th>1</th>\n",
              "      <td>BMW</td>\n",
              "      <td>320</td>\n",
              "    </tr>\n",
              "    <tr>\n",
              "      <th>2</th>\n",
              "      <td>Ferrari</td>\n",
              "      <td>253</td>\n",
              "    </tr>\n",
              "    <tr>\n",
              "      <th>3</th>\n",
              "      <td>Ford</td>\n",
              "      <td>148</td>\n",
              "    </tr>\n",
              "  </tbody>\n",
              "</table>\n",
              "</div>"
            ],
            "text/plain": [
              "     Brand  Total_Cars_Sold\n",
              "0    Tesla              285\n",
              "1      BMW              320\n",
              "2  Ferrari              253\n",
              "3     Ford              148"
            ]
          },
          "metadata": {},
          "execution_count": 4
        }
      ]
    }
  ]
}